{
 "cells": [
  {
   "cell_type": "code",
   "execution_count": 1,
   "metadata": {},
   "outputs": [],
   "source": [
    "# unset PYTHONPATH first\n",
    "from ko_text import *\n",
    "from ko_crawler import *"
   ]
  },
  {
   "cell_type": "code",
   "execution_count": 2,
   "metadata": {},
   "outputs": [],
   "source": [
    "nlp = NLP()"
   ]
  },
  {
   "cell_type": "markdown",
   "metadata": {},
   "source": [
    "# 불러오기"
   ]
  },
  {
   "cell_type": "code",
   "execution_count": 3,
   "metadata": {},
   "outputs": [],
   "source": [
    "token_df = pd.read_csv('Data/meta_morphs.csv', encoding = 'utf-8'\n",
    "                       #converters = {'Token' : ast.literal_eval},\n",
    "                     )\n",
    "\n",
    "# 용량을 줄이기 위해 '단어 단어' 꼴로 묶어둔 token을 ['단어', '단어'] 꼴로 풀기\n",
    "token_df['Token'] = [token.split() if type(token) == str else '' for token in token_df['Token']]"
   ]
  },
  {
   "cell_type": "markdown",
   "metadata": {},
   "source": [
    "# EDA"
   ]
  },
  {
   "cell_type": "markdown",
   "metadata": {},
   "source": [
    "# 카테고리 통합"
   ]
  },
  {
   "cell_type": "code",
   "execution_count": 7,
   "metadata": {},
   "outputs": [
    {
     "data": {
      "text/plain": [
       "Counter({'autos': 267,\n",
       "         'broadcasting': 882,\n",
       "         'business': 4698,\n",
       "         'chemistry': 191,\n",
       "         'culture': 3789,\n",
       "         'economy': 3873,\n",
       "         'electronics': 436,\n",
       "         'entertainment': 129,\n",
       "         'estate': 4952,\n",
       "         'financial': 959,\n",
       "         'health': 1501,\n",
       "         'heavy_industries': 68,\n",
       "         'it': 1760,\n",
       "         'movie': 126,\n",
       "         nan: 1782,\n",
       "         'patent': 677,\n",
       "         'performance': 500,\n",
       "         'politics': 4824,\n",
       "         'retail': 1254,\n",
       "         'society': 4325,\n",
       "         'stock': 1605,\n",
       "         'world': 4768})"
      ]
     },
     "execution_count": 7,
     "metadata": {},
     "output_type": "execute_result"
    }
   ],
   "source": [
    "Counter(token_df['Section'])"
   ]
  },
  {
   "cell_type": "markdown",
   "metadata": {},
   "source": [
    " "
   ]
  },
  {
   "cell_type": "markdown",
   "metadata": {},
   "source": [
    "## nan 카테고리를 ''로 채운다"
   ]
  },
  {
   "cell_type": "code",
   "execution_count": 8,
   "metadata": {},
   "outputs": [],
   "source": [
    "token_df['Section'].fillna('', inplace = True)"
   ]
  },
  {
   "cell_type": "markdown",
   "metadata": {},
   "source": [
    "## 카테고리 별로 자주 등장하는 단어 탐색"
   ]
  },
  {
   "cell_type": "code",
   "execution_count": 9,
   "metadata": {},
   "outputs": [],
   "source": [
    "summary_dict = {'section' : [],\n",
    "                'keyword_1' : [],\n",
    "                'keyword_2' : [],\n",
    "                'keyword_3': [],\n",
    "                'keyword_4': [],\n",
    "                'keyword_5': [],\n",
    "                'count' : [],}\n",
    "\n",
    "for section in token_df['Section'].unique():\n",
    "    section_df = token_df[token_df['Section'] == section]\n",
    "\n",
    "    counter_ls = []\n",
    "    for tokens in section_df['Token']:\n",
    "        counter_ls += tokens\n",
    "    \n",
    "    counter = Counter(counter_ls).most_common(7)\n",
    "    \n",
    "    # 결과 저장\n",
    "    summary_dict['section'].append(section)\n",
    "    summary_dict['count'].append(len(section_df))\n",
    "    for i in range(5):\n",
    "        summary_dict['keyword_%s'%(i+1)].append(counter[i][0])\n"
   ]
  },
  {
   "cell_type": "code",
   "execution_count": 11,
   "metadata": {},
   "outputs": [
    {
     "data": {
      "text/html": [
       "<div>\n",
       "<style scoped>\n",
       "    .dataframe tbody tr th:only-of-type {\n",
       "        vertical-align: middle;\n",
       "    }\n",
       "\n",
       "    .dataframe tbody tr th {\n",
       "        vertical-align: top;\n",
       "    }\n",
       "\n",
       "    .dataframe thead th {\n",
       "        text-align: right;\n",
       "    }\n",
       "</style>\n",
       "<table border=\"1\" class=\"dataframe\">\n",
       "  <thead>\n",
       "    <tr style=\"text-align: right;\">\n",
       "      <th></th>\n",
       "      <th>count</th>\n",
       "      <th>keyword_1</th>\n",
       "      <th>keyword_2</th>\n",
       "      <th>keyword_3</th>\n",
       "      <th>keyword_4</th>\n",
       "      <th>keyword_5</th>\n",
       "      <th>section</th>\n",
       "    </tr>\n",
       "  </thead>\n",
       "  <tbody>\n",
       "    <tr>\n",
       "      <th>0</th>\n",
       "      <td>959</td>\n",
       "      <td>금융</td>\n",
       "      <td>은행</td>\n",
       "      <td>보험</td>\n",
       "      <td>카드</td>\n",
       "      <td>대출</td>\n",
       "      <td>financial</td>\n",
       "    </tr>\n",
       "    <tr>\n",
       "      <th>1</th>\n",
       "      <td>3873</td>\n",
       "      <td>기업</td>\n",
       "      <td>미국</td>\n",
       "      <td>중국</td>\n",
       "      <td>올해</td>\n",
       "      <td>경제</td>\n",
       "      <td>economy</td>\n",
       "    </tr>\n",
       "    <tr>\n",
       "      <th>2</th>\n",
       "      <td>4952</td>\n",
       "      <td>주택</td>\n",
       "      <td>사업</td>\n",
       "      <td>아파트</td>\n",
       "      <td>분양</td>\n",
       "      <td>지역</td>\n",
       "      <td>estate</td>\n",
       "    </tr>\n",
       "    <tr>\n",
       "      <th>3</th>\n",
       "      <td>1605</td>\n",
       "      <td>투자</td>\n",
       "      <td>종목</td>\n",
       "      <td>증권</td>\n",
       "      <td>투자자</td>\n",
       "      <td>탁론</td>\n",
       "      <td>stock</td>\n",
       "    </tr>\n",
       "    <tr>\n",
       "      <th>4</th>\n",
       "      <td>4698</td>\n",
       "      <td>기업</td>\n",
       "      <td>사업</td>\n",
       "      <td>기술</td>\n",
       "      <td>시장</td>\n",
       "      <td>제품</td>\n",
       "      <td>business</td>\n",
       "    </tr>\n",
       "    <tr>\n",
       "      <th>5</th>\n",
       "      <td>1760</td>\n",
       "      <td>게임</td>\n",
       "      <td>서비스</td>\n",
       "      <td>기술</td>\n",
       "      <td>출시</td>\n",
       "      <td>전자</td>\n",
       "      <td>it</td>\n",
       "    </tr>\n",
       "    <tr>\n",
       "      <th>6</th>\n",
       "      <td>436</td>\n",
       "      <td>전자</td>\n",
       "      <td>LG</td>\n",
       "      <td>서비스</td>\n",
       "      <td>KT</td>\n",
       "      <td>기술</td>\n",
       "      <td>electronics</td>\n",
       "    </tr>\n",
       "    <tr>\n",
       "      <th>7</th>\n",
       "      <td>677</td>\n",
       "      <td>기술</td>\n",
       "      <td>연구</td>\n",
       "      <td>개발</td>\n",
       "      <td>한국</td>\n",
       "      <td>교수</td>\n",
       "      <td>patent</td>\n",
       "    </tr>\n",
       "    <tr>\n",
       "      <th>8</th>\n",
       "      <td>1254</td>\n",
       "      <td>브랜드</td>\n",
       "      <td>상품</td>\n",
       "      <td>제품</td>\n",
       "      <td>롯데</td>\n",
       "      <td>판매</td>\n",
       "      <td>retail</td>\n",
       "    </tr>\n",
       "    <tr>\n",
       "      <th>9</th>\n",
       "      <td>1501</td>\n",
       "      <td>치료</td>\n",
       "      <td>환자</td>\n",
       "      <td>병원</td>\n",
       "      <td>바이오</td>\n",
       "      <td>의료</td>\n",
       "      <td>health</td>\n",
       "    </tr>\n",
       "    <tr>\n",
       "      <th>10</th>\n",
       "      <td>267</td>\n",
       "      <td>공항</td>\n",
       "      <td>노선</td>\n",
       "      <td>항공</td>\n",
       "      <td>운항</td>\n",
       "      <td>자동차</td>\n",
       "      <td>autos</td>\n",
       "    </tr>\n",
       "    <tr>\n",
       "      <th>11</th>\n",
       "      <td>68</td>\n",
       "      <td>포스코</td>\n",
       "      <td>기술</td>\n",
       "      <td>사업</td>\n",
       "      <td>엔진</td>\n",
       "      <td>생산</td>\n",
       "      <td>heavy_industries</td>\n",
       "    </tr>\n",
       "    <tr>\n",
       "      <th>12</th>\n",
       "      <td>191</td>\n",
       "      <td>사업</td>\n",
       "      <td>에너지</td>\n",
       "      <td>한국</td>\n",
       "      <td>지역</td>\n",
       "      <td>발전</td>\n",
       "      <td>chemistry</td>\n",
       "    </tr>\n",
       "    <tr>\n",
       "      <th>13</th>\n",
       "      <td>4325</td>\n",
       "      <td>경찰</td>\n",
       "      <td>혐의</td>\n",
       "      <td>조사</td>\n",
       "      <td>지역</td>\n",
       "      <td>검찰</td>\n",
       "      <td>society</td>\n",
       "    </tr>\n",
       "    <tr>\n",
       "      <th>14</th>\n",
       "      <td>3789</td>\n",
       "      <td>문화</td>\n",
       "      <td>한국</td>\n",
       "      <td>사람</td>\n",
       "      <td>함께</td>\n",
       "      <td>영화</td>\n",
       "      <td>culture</td>\n",
       "    </tr>\n",
       "    <tr>\n",
       "      <th>15</th>\n",
       "      <td>4824</td>\n",
       "      <td>한국</td>\n",
       "      <td>대통령</td>\n",
       "      <td>의원</td>\n",
       "      <td>정부</td>\n",
       "      <td>국회</td>\n",
       "      <td>politics</td>\n",
       "    </tr>\n",
       "    <tr>\n",
       "      <th>16</th>\n",
       "      <td>4768</td>\n",
       "      <td>미국</td>\n",
       "      <td>대통령</td>\n",
       "      <td>중국</td>\n",
       "      <td>트럼프</td>\n",
       "      <td>정부</td>\n",
       "      <td>world</td>\n",
       "    </tr>\n",
       "    <tr>\n",
       "      <th>17</th>\n",
       "      <td>1782</td>\n",
       "      <td>종목</td>\n",
       "      <td>테마</td>\n",
       "      <td>상승</td>\n",
       "      <td>기사</td>\n",
       "      <td>재무</td>\n",
       "      <td></td>\n",
       "    </tr>\n",
       "    <tr>\n",
       "      <th>18</th>\n",
       "      <td>126</td>\n",
       "      <td>영화</td>\n",
       "      <td>영화제</td>\n",
       "      <td>감독</td>\n",
       "      <td>한국</td>\n",
       "      <td>관객</td>\n",
       "      <td>movie</td>\n",
       "    </tr>\n",
       "    <tr>\n",
       "      <th>19</th>\n",
       "      <td>882</td>\n",
       "      <td>방송</td>\n",
       "      <td>TV</td>\n",
       "      <td>드라마</td>\n",
       "      <td>프로그램</td>\n",
       "      <td>배우</td>\n",
       "      <td>broadcasting</td>\n",
       "    </tr>\n",
       "    <tr>\n",
       "      <th>20</th>\n",
       "      <td>500</td>\n",
       "      <td>작품</td>\n",
       "      <td>공연</td>\n",
       "      <td>한국</td>\n",
       "      <td>작가</td>\n",
       "      <td>예술</td>\n",
       "      <td>performance</td>\n",
       "    </tr>\n",
       "    <tr>\n",
       "      <th>21</th>\n",
       "      <td>129</td>\n",
       "      <td>음악</td>\n",
       "      <td>앨범</td>\n",
       "      <td>노래</td>\n",
       "      <td>한국</td>\n",
       "      <td>아이돌</td>\n",
       "      <td>entertainment</td>\n",
       "    </tr>\n",
       "  </tbody>\n",
       "</table>\n",
       "</div>"
      ],
      "text/plain": [
       "    count keyword_1 keyword_2 keyword_3 keyword_4 keyword_5           section\n",
       "0     959        금융        은행        보험        카드        대출         financial\n",
       "1    3873        기업        미국        중국        올해        경제           economy\n",
       "2    4952        주택        사업       아파트        분양        지역            estate\n",
       "3    1605        투자        종목        증권       투자자        탁론             stock\n",
       "4    4698        기업        사업        기술        시장        제품          business\n",
       "5    1760        게임       서비스        기술        출시        전자                it\n",
       "6     436        전자        LG       서비스        KT        기술       electronics\n",
       "7     677        기술        연구        개발        한국        교수            patent\n",
       "8    1254       브랜드        상품        제품        롯데        판매            retail\n",
       "9    1501        치료        환자        병원       바이오        의료            health\n",
       "10    267        공항        노선        항공        운항       자동차             autos\n",
       "11     68       포스코        기술        사업        엔진        생산  heavy_industries\n",
       "12    191        사업       에너지        한국        지역        발전         chemistry\n",
       "13   4325        경찰        혐의        조사        지역        검찰           society\n",
       "14   3789        문화        한국        사람        함께        영화           culture\n",
       "15   4824        한국       대통령        의원        정부        국회          politics\n",
       "16   4768        미국       대통령        중국       트럼프        정부             world\n",
       "17   1782        종목        테마        상승        기사        재무                  \n",
       "18    126        영화       영화제        감독        한국        관객             movie\n",
       "19    882        방송        TV       드라마      프로그램        배우      broadcasting\n",
       "20    500        작품        공연        한국        작가        예술       performance\n",
       "21    129        음악        앨범        노래        한국       아이돌     entertainment"
      ]
     },
     "execution_count": 11,
     "metadata": {},
     "output_type": "execute_result"
    }
   ],
   "source": [
    "pd.DataFrame(summary_dict) "
   ]
  },
  {
   "cell_type": "code",
   "execution_count": 12,
   "metadata": {},
   "outputs": [],
   "source": [
    "# 1. electronics 기사를 it기사로 병합한다.\n",
    "token_df.loc[token_df['Section'] == 'electronics','Section'] = 'it'\n",
    "\n",
    "# 2. retail 기사를 business 기사로 병합한다.\n",
    "token_df.loc[token_df['Section'] == 'retail','Section'] = 'business'\n",
    "\n",
    "# 3. patent 기사는 bio & tech로 이름을 수정한다.\n",
    "token_df.loc[token_df['Section'] == 'patent','Section'] = 'bio & tech'\n",
    "\n",
    "# 4. heavy_industry는 business 기사로 병합한다.\n",
    "token_df.loc[token_df['Section'] == 'heavy_industries','Section'] = 'business'\n",
    "\n",
    "# 5. autos는 항공과 관련된 기사, 일관성이 떨어지므로 제거한다.\n",
    "token_df.drop(token_df[token_df['Section'] == 'autos'].index, inplace = True)\n",
    "\n",
    "# 6. chemistry는 business 기사로 병합한다.\n",
    "token_df.loc[token_df['Section'] == 'chemistry','Section'] = 'business'\n",
    "\n",
    "# 7. nan 기사는 stock 기사로 병합한다.\n",
    "token_df.loc[token_df['Section'] == '','Section'] = 'stock'\n",
    "\n",
    "# 8. broadcasting, performance, movie, entertainment은 culture & art 기사로 병합한다.\n",
    "token_df.loc[token_df['Section'] == 'culture','Section'] = 'culture & art'\n",
    "token_df.loc[token_df['Section'] == 'broadcasting','Section'] = 'culture & art'\n",
    "token_df.loc[token_df['Section'] == 'performance','Section'] = 'culture & art'\n",
    "token_df.loc[token_df['Section'] == 'movie','Section'] = 'culture & art'\n",
    "token_df.loc[token_df['Section'] == 'entertainment','Section'] = 'culture & art'\n",
    "\n",
    "# 9. health는 bio & tech 기사로 병합한다.\n",
    "token_df.loc[token_df['Section'] == 'health','Section'] = 'bio & tech'\n",
    "\n",
    "# 10.people 기사는 제거\n",
    "try: token_df.drop(token_df[token_df['Section'] == 'people'].index, inplace = True)\n",
    "except: pass"
   ]
  },
  {
   "cell_type": "code",
   "execution_count": null,
   "metadata": {},
   "outputs": [],
   "source": [
    "# index도 초기화\n",
    "token_df.index = np.arange(len(token_df))"
   ]
  },
  {
   "cell_type": "code",
   "execution_count": 13,
   "metadata": {},
   "outputs": [
    {
     "data": {
      "text/plain": [
       "Counter({'bio & tech': 2178,\n",
       "         'business': 6211,\n",
       "         'culture & art': 5426,\n",
       "         'economy': 3873,\n",
       "         'estate': 4952,\n",
       "         'financial': 959,\n",
       "         'it': 2196,\n",
       "         'politics': 4824,\n",
       "         'society': 4325,\n",
       "         'stock': 3387,\n",
       "         'world': 4768})"
      ]
     },
     "execution_count": 13,
     "metadata": {},
     "output_type": "execute_result"
    }
   ],
   "source": [
    "Counter(token_df['Section'])"
   ]
  },
  {
   "cell_type": "code",
   "execution_count": 14,
   "metadata": {},
   "outputs": [
    {
     "data": {
      "text/plain": [
       "11"
      ]
     },
     "execution_count": 14,
     "metadata": {},
     "output_type": "execute_result"
    }
   ],
   "source": [
    "# 통합 후, 카테고리의 수가 11개로 감소함\n",
    "len(set(token_df['Section']))"
   ]
  },
  {
   "cell_type": "markdown",
   "metadata": {},
   "source": [
    " "
   ]
  },
  {
   "cell_type": "markdown",
   "metadata": {},
   "source": [
    "## **제목만 있고 특수 문자를 제거하면 기사 내용이 전혀 없는 뉴스도 존재**"
   ]
  },
  {
   "cell_type": "markdown",
   "metadata": {},
   "source": [
    "#### 내용이 없는 뉴스들은 제거한다"
   ]
  },
  {
   "cell_type": "code",
   "execution_count": 15,
   "metadata": {},
   "outputs": [
    {
     "data": {
      "text/plain": [
       "(43099, 3)"
      ]
     },
     "execution_count": 15,
     "metadata": {},
     "output_type": "execute_result"
    }
   ],
   "source": [
    "token_df.shape"
   ]
  },
  {
   "cell_type": "code",
   "execution_count": 16,
   "metadata": {},
   "outputs": [],
   "source": [
    "none_idx_ls = []\n",
    "for idx, token in enumerate(token_df['Token']):\n",
    "    if not token:\n",
    "        none_idx_ls.append(idx)"
   ]
  },
  {
   "cell_type": "code",
   "execution_count": 17,
   "metadata": {},
   "outputs": [
    {
     "data": {
      "text/plain": [
       "84"
      ]
     },
     "execution_count": 17,
     "metadata": {},
     "output_type": "execute_result"
    }
   ],
   "source": [
    "len(none_idx_ls)"
   ]
  },
  {
   "cell_type": "code",
   "execution_count": 18,
   "metadata": {},
   "outputs": [
    {
     "data": {
      "text/plain": [
       "Counter({'bio & tech': 1,\n",
       "         'business': 1,\n",
       "         'culture & art': 59,\n",
       "         'economy': 4,\n",
       "         'financial': 2,\n",
       "         'it': 1,\n",
       "         'politics': 7,\n",
       "         'society': 2,\n",
       "         'stock': 7})"
      ]
     },
     "execution_count": 18,
     "metadata": {},
     "output_type": "execute_result"
    }
   ],
   "source": [
    "Counter(token_df.loc[none_idx_ls, 'Section'])"
   ]
  },
  {
   "cell_type": "code",
   "execution_count": 19,
   "metadata": {},
   "outputs": [],
   "source": [
    "token_df.drop(none_idx_ls, inplace = True)"
   ]
  },
  {
   "cell_type": "markdown",
   "metadata": {},
   "source": [
    " "
   ]
  },
  {
   "cell_type": "markdown",
   "metadata": {},
   "source": [
    "# 뉴스 기사가 매우 짧은 경우도 제거"
   ]
  },
  {
   "cell_type": "code",
   "execution_count": 20,
   "metadata": {},
   "outputs": [],
   "source": [
    "token_df['Num of Tokens'] = [len(token) for token in token_df['Token']]"
   ]
  },
  {
   "cell_type": "markdown",
   "metadata": {},
   "source": [
    "#### 뉴스 기사에 토큰이 하나 밖에 없는 경우도 존재함"
   ]
  },
  {
   "cell_type": "code",
   "execution_count": 21,
   "metadata": {},
   "outputs": [
    {
     "data": {
      "text/plain": [
       "count    43015.000000\n",
       "mean       180.184982\n",
       "std        134.020985\n",
       "min          1.000000\n",
       "25%         97.000000\n",
       "50%        152.000000\n",
       "75%        229.000000\n",
       "max       3734.000000\n",
       "Name: Num of Tokens, dtype: float64"
      ]
     },
     "execution_count": 21,
     "metadata": {},
     "output_type": "execute_result"
    }
   ],
   "source": [
    "token_df['Num of Tokens'].describe()"
   ]
  },
  {
   "cell_type": "markdown",
   "metadata": {},
   "source": [
    "#### 토큰의 수가 30개 이하인 기사는 전체의 3.7% 수준"
   ]
  },
  {
   "cell_type": "code",
   "execution_count": 22,
   "metadata": {},
   "outputs": [
    {
     "data": {
      "text/plain": [
       "0.037126583749854704"
      ]
     },
     "execution_count": 22,
     "metadata": {},
     "output_type": "execute_result"
    }
   ],
   "source": [
    "np.sum([token_df['Num of Tokens'] <= 30]) / len(token_df)"
   ]
  },
  {
   "cell_type": "markdown",
   "metadata": {},
   "source": [
    "#### 토큰이 30개인 기사의 길이는 대략 1줄 정도"
   ]
  },
  {
   "cell_type": "code",
   "execution_count": 23,
   "metadata": {},
   "outputs": [
    {
     "data": {
      "text/plain": [
       "'금융 그룹 글로벌 자본시장 경쟁력 강화 아시아 투자 은행 허브 육성 홍콩 GIB 출범 시켰다 홍콩 현지 열린 출범 용병 금융 회장 이동환 GIB 부문 부행 관계자 테이프 커팅 행사'"
      ]
     },
     "execution_count": 23,
     "metadata": {},
     "output_type": "execute_result"
    }
   ],
   "source": [
    "' '.join(token_df.loc[token_df['Num of Tokens'] == 30, 'Token'].iloc[0])"
   ]
  },
  {
   "cell_type": "markdown",
   "metadata": {},
   "source": [
    " "
   ]
  },
  {
   "cell_type": "markdown",
   "metadata": {},
   "source": [
    "#### 토큰의 수가 100개 미만인 기사는 전체의 26% 수준"
   ]
  },
  {
   "cell_type": "code",
   "execution_count": 24,
   "metadata": {},
   "outputs": [
    {
     "data": {
      "text/plain": [
       "0.2607927467162618"
      ]
     },
     "execution_count": 24,
     "metadata": {},
     "output_type": "execute_result"
    }
   ],
   "source": [
    "np.sum([token_df['Num of Tokens'] < 100]) / len(token_df)"
   ]
  },
  {
   "cell_type": "markdown",
   "metadata": {},
   "source": [
    " "
   ]
  },
  {
   "cell_type": "markdown",
   "metadata": {},
   "source": [
    "## 토큰의 수가 30개 이하인 기사는 표본에서 제거"
   ]
  },
  {
   "cell_type": "code",
   "execution_count": 25,
   "metadata": {},
   "outputs": [],
   "source": [
    "token_df = token_df[token_df['Num of Tokens'] > 30]"
   ]
  },
  {
   "cell_type": "markdown",
   "metadata": {},
   "source": [
    " "
   ]
  },
  {
   "cell_type": "markdown",
   "metadata": {},
   "source": [
    " "
   ]
  },
  {
   "cell_type": "markdown",
   "metadata": {},
   "source": [
    " "
   ]
  },
  {
   "cell_type": "markdown",
   "metadata": {},
   "source": [
    "# 결과 저장"
   ]
  },
  {
   "cell_type": "markdown",
   "metadata": {},
   "source": [
    "### **저장 공간 절약을 위해, ['단어', '단어'] 꼴로 저장된 토큰을 '단어 단어' 꼴로 바꿔준다**"
   ]
  },
  {
   "cell_type": "code",
   "execution_count": 26,
   "metadata": {},
   "outputs": [],
   "source": [
    "token_df['Token'] = [' '.join(doc) for doc in token_df['Token']]"
   ]
  },
  {
   "cell_type": "code",
   "execution_count": 27,
   "metadata": {},
   "outputs": [],
   "source": [
    "token_df.to_csv('Data/meta_morphs_final.csv', index = False)"
   ]
  }
 ],
 "metadata": {
  "kernelspec": {
   "display_name": "Python 3",
   "language": "python",
   "name": "python3"
  },
  "language_info": {
   "codemirror_mode": {
    "name": "ipython",
    "version": 3
   },
   "file_extension": ".py",
   "mimetype": "text/x-python",
   "name": "python",
   "nbconvert_exporter": "python",
   "pygments_lexer": "ipython3",
   "version": "3.5.5"
  }
 },
 "nbformat": 4,
 "nbformat_minor": 2
}
