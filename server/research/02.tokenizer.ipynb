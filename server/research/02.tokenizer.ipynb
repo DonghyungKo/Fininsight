{
 "cells": [
  {
   "cell_type": "code",
   "execution_count": 3,
   "metadata": {},
   "outputs": [],
   "source": [
    "from ko_text import *"
   ]
  },
  {
   "cell_type": "code",
   "execution_count": 4,
   "metadata": {},
   "outputs": [
    {
     "name": "stdout",
     "output_type": "stream",
     "text": [
      "Data Loaded\n"
     ]
    }
   ],
   "source": [
    "data = load_data('../data/data_merged.csv')"
   ]
  },
  {
   "cell_type": "code",
   "execution_count": 5,
   "metadata": {},
   "outputs": [],
   "source": [
    "nlp = NLP()"
   ]
  },
  {
   "cell_type": "markdown",
   "metadata": {},
   "source": [
    "# 텍스트 클렌징을 위한 정규표현식 or 구문 추가"
   ]
  },
  {
   "cell_type": "code",
   "execution_count": 7,
   "metadata": {},
   "outputs": [],
   "source": [
    "regex_ls = ['여기를 누르시면 크게 보실 수 있습니다']\n",
    "\n",
    "nlp.add_regex(regex_ls)"
   ]
  },
  {
   "cell_type": "markdown",
   "metadata": {},
   "source": [
    "# 불용어(stopwords) 사전 추가"
   ]
  },
  {
   "cell_type": "code",
   "execution_count": 8,
   "metadata": {},
   "outputs": [],
   "source": [
    "stopword_ls = []\n",
    "\n",
    "nlp.add_stopwords(stopword_ls)"
   ]
  },
  {
   "cell_type": "markdown",
   "metadata": {},
   "source": [
    "# Tokenizing"
   ]
  },
  {
   "cell_type": "code",
   "execution_count": 25,
   "metadata": {},
   "outputs": [],
   "source": [
    "token_doc_ls = nlp.extract_morphs_for_all_document_FAST_VERSION(data['Text'].tolist(),\n",
    "                                                                n_thread = 4)\n",
    "\n",
    "data['Token'] = token_doc_ls"
   ]
  },
  {
   "cell_type": "markdown",
   "metadata": {},
   "source": [
    "## Token 분포 확인"
   ]
  },
  {
   "cell_type": "code",
   "execution_count": null,
   "metadata": {},
   "outputs": [],
   "source": [
    "counter = Counter([token for doc in token_doc_ls for token in doc])\n",
    "\n",
    "counter.most_common()"
   ]
  },
  {
   "cell_type": "markdown",
   "metadata": {},
   "source": [
    "# 중복되는 기사는 제거"
   ]
  },
  {
   "cell_type": "code",
   "execution_count": 30,
   "metadata": {},
   "outputs": [],
   "source": [
    "# index 초기화\n",
    "data.index = np.arange(len(data))\n",
    "\n",
    "text_ls = []\n",
    "unique_idx_ls = []\n",
    "\n",
    "for idx, text in enumerate(data['Text']):\n",
    "    if not text in text_ls:\n",
    "        text_ls.append(text)\n",
    "        unique_idx_ls.append(idx)"
   ]
  },
  {
   "cell_type": "code",
   "execution_count": 31,
   "metadata": {},
   "outputs": [
    {
     "name": "stdout",
     "output_type": "stream",
     "text": [
      "7370 7247\n"
     ]
    }
   ],
   "source": [
    "print(len(data), len(unique_idx_ls))"
   ]
  },
  {
   "cell_type": "code",
   "execution_count": 32,
   "metadata": {},
   "outputs": [],
   "source": [
    "data = data.loc[unique_idx_ls]\n",
    "data.index = np.arange(len(data))"
   ]
  },
  {
   "cell_type": "markdown",
   "metadata": {},
   "source": [
    "# 토큰 길이 비교"
   ]
  },
  {
   "cell_type": "code",
   "execution_count": 33,
   "metadata": {},
   "outputs": [],
   "source": [
    "len_ls = []\n",
    "\n",
    "for token in data['Token']:\n",
    "    len_ls.append(len(token))\n",
    "\n",
    "data['num_token'] = len_ls"
   ]
  },
  {
   "cell_type": "code",
   "execution_count": 34,
   "metadata": {},
   "outputs": [
    {
     "data": {
      "text/html": [
       "<div>\n",
       "<style scoped>\n",
       "    .dataframe tbody tr th:only-of-type {\n",
       "        vertical-align: middle;\n",
       "    }\n",
       "\n",
       "    .dataframe tbody tr th {\n",
       "        vertical-align: top;\n",
       "    }\n",
       "\n",
       "    .dataframe thead th {\n",
       "        text-align: right;\n",
       "    }\n",
       "</style>\n",
       "<table border=\"1\" class=\"dataframe\">\n",
       "  <thead>\n",
       "    <tr style=\"text-align: right;\">\n",
       "      <th></th>\n",
       "      <th>count</th>\n",
       "      <th>mean</th>\n",
       "      <th>std</th>\n",
       "      <th>min</th>\n",
       "      <th>25%</th>\n",
       "      <th>50%</th>\n",
       "      <th>75%</th>\n",
       "      <th>max</th>\n",
       "    </tr>\n",
       "    <tr>\n",
       "      <th>Section</th>\n",
       "      <th></th>\n",
       "      <th></th>\n",
       "      <th></th>\n",
       "      <th></th>\n",
       "      <th></th>\n",
       "      <th></th>\n",
       "      <th></th>\n",
       "      <th></th>\n",
       "    </tr>\n",
       "  </thead>\n",
       "  <tbody>\n",
       "    <tr>\n",
       "      <th>business</th>\n",
       "      <td>843.0</td>\n",
       "      <td>161.621590</td>\n",
       "      <td>122.209004</td>\n",
       "      <td>0.0</td>\n",
       "      <td>79.00</td>\n",
       "      <td>132.0</td>\n",
       "      <td>219.50</td>\n",
       "      <td>762.0</td>\n",
       "    </tr>\n",
       "    <tr>\n",
       "      <th>culture &amp; art</th>\n",
       "      <td>134.0</td>\n",
       "      <td>143.768657</td>\n",
       "      <td>128.294534</td>\n",
       "      <td>0.0</td>\n",
       "      <td>56.25</td>\n",
       "      <td>113.0</td>\n",
       "      <td>194.00</td>\n",
       "      <td>726.0</td>\n",
       "    </tr>\n",
       "    <tr>\n",
       "      <th>economy</th>\n",
       "      <td>403.0</td>\n",
       "      <td>198.307692</td>\n",
       "      <td>158.117658</td>\n",
       "      <td>0.0</td>\n",
       "      <td>105.00</td>\n",
       "      <td>171.0</td>\n",
       "      <td>255.50</td>\n",
       "      <td>2058.0</td>\n",
       "    </tr>\n",
       "    <tr>\n",
       "      <th>entertainment</th>\n",
       "      <td>994.0</td>\n",
       "      <td>97.725352</td>\n",
       "      <td>103.180383</td>\n",
       "      <td>0.0</td>\n",
       "      <td>5.00</td>\n",
       "      <td>86.0</td>\n",
       "      <td>139.00</td>\n",
       "      <td>971.0</td>\n",
       "    </tr>\n",
       "    <tr>\n",
       "      <th>estate</th>\n",
       "      <td>164.0</td>\n",
       "      <td>189.469512</td>\n",
       "      <td>108.964081</td>\n",
       "      <td>22.0</td>\n",
       "      <td>121.25</td>\n",
       "      <td>170.0</td>\n",
       "      <td>228.00</td>\n",
       "      <td>849.0</td>\n",
       "    </tr>\n",
       "    <tr>\n",
       "      <th>health</th>\n",
       "      <td>48.0</td>\n",
       "      <td>241.604167</td>\n",
       "      <td>176.790866</td>\n",
       "      <td>54.0</td>\n",
       "      <td>123.75</td>\n",
       "      <td>197.0</td>\n",
       "      <td>274.25</td>\n",
       "      <td>760.0</td>\n",
       "    </tr>\n",
       "    <tr>\n",
       "      <th>politics</th>\n",
       "      <td>652.0</td>\n",
       "      <td>199.694785</td>\n",
       "      <td>132.153290</td>\n",
       "      <td>0.0</td>\n",
       "      <td>104.00</td>\n",
       "      <td>166.0</td>\n",
       "      <td>268.75</td>\n",
       "      <td>884.0</td>\n",
       "    </tr>\n",
       "    <tr>\n",
       "      <th>society</th>\n",
       "      <td>1187.0</td>\n",
       "      <td>152.967144</td>\n",
       "      <td>105.868765</td>\n",
       "      <td>0.0</td>\n",
       "      <td>83.00</td>\n",
       "      <td>128.0</td>\n",
       "      <td>200.00</td>\n",
       "      <td>836.0</td>\n",
       "    </tr>\n",
       "    <tr>\n",
       "      <th>sports</th>\n",
       "      <td>468.0</td>\n",
       "      <td>159.326923</td>\n",
       "      <td>105.403609</td>\n",
       "      <td>2.0</td>\n",
       "      <td>86.75</td>\n",
       "      <td>136.0</td>\n",
       "      <td>208.00</td>\n",
       "      <td>755.0</td>\n",
       "    </tr>\n",
       "    <tr>\n",
       "      <th>stock</th>\n",
       "      <td>1483.0</td>\n",
       "      <td>73.679703</td>\n",
       "      <td>105.173486</td>\n",
       "      <td>0.0</td>\n",
       "      <td>7.00</td>\n",
       "      <td>16.0</td>\n",
       "      <td>97.50</td>\n",
       "      <td>1284.0</td>\n",
       "    </tr>\n",
       "    <tr>\n",
       "      <th>technology</th>\n",
       "      <td>41.0</td>\n",
       "      <td>190.487805</td>\n",
       "      <td>90.333582</td>\n",
       "      <td>0.0</td>\n",
       "      <td>129.00</td>\n",
       "      <td>194.0</td>\n",
       "      <td>222.00</td>\n",
       "      <td>451.0</td>\n",
       "    </tr>\n",
       "    <tr>\n",
       "      <th>travel</th>\n",
       "      <td>93.0</td>\n",
       "      <td>181.559140</td>\n",
       "      <td>116.363791</td>\n",
       "      <td>33.0</td>\n",
       "      <td>91.00</td>\n",
       "      <td>153.0</td>\n",
       "      <td>237.00</td>\n",
       "      <td>588.0</td>\n",
       "    </tr>\n",
       "    <tr>\n",
       "      <th>weather-forecast</th>\n",
       "      <td>77.0</td>\n",
       "      <td>107.220779</td>\n",
       "      <td>79.665357</td>\n",
       "      <td>22.0</td>\n",
       "      <td>63.00</td>\n",
       "      <td>87.0</td>\n",
       "      <td>129.00</td>\n",
       "      <td>545.0</td>\n",
       "    </tr>\n",
       "    <tr>\n",
       "      <th>world</th>\n",
       "      <td>660.0</td>\n",
       "      <td>190.092424</td>\n",
       "      <td>101.668414</td>\n",
       "      <td>3.0</td>\n",
       "      <td>120.00</td>\n",
       "      <td>171.0</td>\n",
       "      <td>234.00</td>\n",
       "      <td>724.0</td>\n",
       "    </tr>\n",
       "  </tbody>\n",
       "</table>\n",
       "</div>"
      ],
      "text/plain": [
       "                   count        mean         std   min     25%    50%     75%  \\\n",
       "Section                                                                         \n",
       "business           843.0  161.621590  122.209004   0.0   79.00  132.0  219.50   \n",
       "culture & art      134.0  143.768657  128.294534   0.0   56.25  113.0  194.00   \n",
       "economy            403.0  198.307692  158.117658   0.0  105.00  171.0  255.50   \n",
       "entertainment      994.0   97.725352  103.180383   0.0    5.00   86.0  139.00   \n",
       "estate             164.0  189.469512  108.964081  22.0  121.25  170.0  228.00   \n",
       "health              48.0  241.604167  176.790866  54.0  123.75  197.0  274.25   \n",
       "politics           652.0  199.694785  132.153290   0.0  104.00  166.0  268.75   \n",
       "society           1187.0  152.967144  105.868765   0.0   83.00  128.0  200.00   \n",
       "sports             468.0  159.326923  105.403609   2.0   86.75  136.0  208.00   \n",
       "stock             1483.0   73.679703  105.173486   0.0    7.00   16.0   97.50   \n",
       "technology          41.0  190.487805   90.333582   0.0  129.00  194.0  222.00   \n",
       "travel              93.0  181.559140  116.363791  33.0   91.00  153.0  237.00   \n",
       "weather-forecast    77.0  107.220779   79.665357  22.0   63.00   87.0  129.00   \n",
       "world              660.0  190.092424  101.668414   3.0  120.00  171.0  234.00   \n",
       "\n",
       "                     max  \n",
       "Section                   \n",
       "business           762.0  \n",
       "culture & art      726.0  \n",
       "economy           2058.0  \n",
       "entertainment      971.0  \n",
       "estate             849.0  \n",
       "health             760.0  \n",
       "politics           884.0  \n",
       "society            836.0  \n",
       "sports             755.0  \n",
       "stock             1284.0  \n",
       "technology         451.0  \n",
       "travel             588.0  \n",
       "weather-forecast   545.0  \n",
       "world              724.0  "
      ]
     },
     "execution_count": 34,
     "metadata": {},
     "output_type": "execute_result"
    }
   ],
   "source": [
    "data.groupby('Section')['num_token'].describe()"
   ]
  },
  {
   "cell_type": "code",
   "execution_count": 44,
   "metadata": {},
   "outputs": [],
   "source": [
    "# 토큰의 길이가 30개 이상인 표본만 추출\n",
    "data = data[data['num_token'] > 30]"
   ]
  },
  {
   "cell_type": "markdown",
   "metadata": {},
   "source": [
    "# 결과 저장\n",
    "- ## 최초 1회만 수행한 후, 결과를 저장하여 불러와서 쓴당"
   ]
  },
  {
   "cell_type": "markdown",
   "metadata": {},
   "source": [
    "### **저장 공간 절약을 위해, ['단어', '단어'] 꼴로 저장된 토큰을 '단어 단어' 꼴로 바꿔준다**"
   ]
  },
  {
   "cell_type": "code",
   "execution_count": 40,
   "metadata": {},
   "outputs": [],
   "source": [
    "data['Token'] = [' '.join(doc) for doc in data['Token'].tolist()]"
   ]
  },
  {
   "cell_type": "markdown",
   "metadata": {},
   "source": [
    "# 저장"
   ]
  },
  {
   "cell_type": "code",
   "execution_count": 42,
   "metadata": {},
   "outputs": [],
   "source": [
    "data.to_csv('Data/meta_morphs.csv', index = False)\n",
    "#test_df.to_csv('Data/test_morphs_final.csv', index = False)"
   ]
  }
 ],
 "metadata": {
  "kernelspec": {
   "display_name": "fininsight_python_3.5",
   "language": "python",
   "name": "fininsight_python3.5"
  },
  "language_info": {
   "codemirror_mode": {
    "name": "ipython",
    "version": 3
   },
   "file_extension": ".py",
   "mimetype": "text/x-python",
   "name": "python",
   "nbconvert_exporter": "python",
   "pygments_lexer": "ipython3",
   "version": "3.5.5"
  }
 },
 "nbformat": 4,
 "nbformat_minor": 2
}
