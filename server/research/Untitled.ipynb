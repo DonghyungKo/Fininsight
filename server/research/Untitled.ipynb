{
 "cells": [
  {
   "cell_type": "code",
   "execution_count": 8,
   "metadata": {},
   "outputs": [],
   "source": [
    "from ko_text import *"
   ]
  },
  {
   "cell_type": "code",
   "execution_count": 9,
   "metadata": {},
   "outputs": [],
   "source": [
    "def load_data(path_to_file, usecols = ''):\n",
    "    print('==================================================')\n",
    "    print('Data Loading : %s'%path_to_file)\n",
    "    try:\n",
    "        if usecols:\n",
    "            data = pd.read_csv(open(path_to_file,'r'), encoding='utf-8', engine='c', usecols = usecols)\n",
    "        else:\n",
    "            data = pd.read_csv(open(path_to_file,'r'), encoding='utf-8', engine='c')\n",
    "        # Token 칼럼이 존재하는 경우\n",
    "        if 'Token' in data.columns:\n",
    "            # 용량을 줄이기 위해 '단어 단어' 꼴로 묶어둔 token을 ['단어', '단어']의 리스트 형태로 풀기\n",
    "            data['Token'] = [token.split() for token in data['Token']]\n",
    "        print('Data Loaded')\n",
    "\n",
    "        return data\n",
    "\n",
    "    except:\n",
    "        print('%s가 존재하지 않습니다.'%path_to_file)\n"
   ]
  },
  {
   "cell_type": "code",
   "execution_count": 10,
   "metadata": {},
   "outputs": [
    {
     "name": "stdout",
     "output_type": "stream",
     "text": [
      "==================================================\n",
      "Data Loading : ../data/raw/MK_2018_No_0_to_10000.csv\n",
      "Data Loaded\n"
     ]
    }
   ],
   "source": [
    "temp_df = load_data('../data/raw/MK_2018_No_0_to_10000.csv', usecols = ['Section','Text'])"
   ]
  },
  {
   "cell_type": "code",
   "execution_count": 15,
   "metadata": {},
   "outputs": [
    {
     "ename": "AttributeError",
     "evalue": "'Counter' object has no attribute 'least_common'",
     "output_type": "error",
     "traceback": [
      "\u001b[0;31m---------------------------------------------------------------------------\u001b[0m",
      "\u001b[0;31mAttributeError\u001b[0m                            Traceback (most recent call last)",
      "\u001b[0;32m<ipython-input-15-70c60606384d>\u001b[0m in \u001b[0;36m<module>\u001b[0;34m()\u001b[0m\n\u001b[0;32m----> 1\u001b[0;31m \u001b[0mCounter\u001b[0m\u001b[0;34m(\u001b[0m\u001b[0mtemp_df\u001b[0m\u001b[0;34m[\u001b[0m\u001b[0;34m'Section'\u001b[0m\u001b[0;34m]\u001b[0m\u001b[0;34m)\u001b[0m\u001b[0;34m.\u001b[0m\u001b[0mleast_common\u001b[0m\u001b[0;34m(\u001b[0m\u001b[0;34m)\u001b[0m\u001b[0;34m[\u001b[0m\u001b[0;34m-\u001b[0m\u001b[0;36m1\u001b[0m\u001b[0;34m]\u001b[0m\u001b[0;34m[\u001b[0m\u001b[0;36m1\u001b[0m\u001b[0;34m]\u001b[0m\u001b[0;34m\u001b[0m\u001b[0m\n\u001b[0m",
      "\u001b[0;31mAttributeError\u001b[0m: 'Counter' object has no attribute 'least_common'"
     ]
    }
   ],
   "source": [
    "Counter(temp_df['Section']).most_common()[-1][1]"
   ]
  },
  {
   "cell_type": "code",
   "execution_count": 33,
   "metadata": {},
   "outputs": [],
   "source": [
    "from sklearn.model_selection import train_test_split\n"
   ]
  },
  {
   "cell_type": "code",
   "execution_count": 37,
   "metadata": {},
   "outputs": [],
   "source": [
    "train_X, test_X, train_X, test_Y = train_test_split(temp_df['Text'],temp_df['Section'], test_size = 0.2)"
   ]
  },
  {
   "cell_type": "code",
   "execution_count": 38,
   "metadata": {},
   "outputs": [
    {
     "data": {
      "text/plain": [
       "(7576,)"
      ]
     },
     "execution_count": 38,
     "metadata": {},
     "output_type": "execute_result"
    }
   ],
   "source": [
    "train_X.shape"
   ]
  },
  {
   "cell_type": "code",
   "execution_count": 42,
   "metadata": {},
   "outputs": [
    {
     "data": {
      "text/plain": [
       "(1894,)"
      ]
     },
     "execution_count": 42,
     "metadata": {},
     "output_type": "execute_result"
    }
   ],
   "source": [
    "train_Y.shape"
   ]
  },
  {
   "cell_type": "code",
   "execution_count": 4,
   "metadata": {},
   "outputs": [],
   "source": [
    "from collections import defaultdict"
   ]
  },
  {
   "cell_type": "code",
   "execution_count": 5,
   "metadata": {},
   "outputs": [],
   "source": [
    "result_dict = defaultdict(lambda : [])"
   ]
  },
  {
   "cell_type": "code",
   "execution_count": 5,
   "metadata": {},
   "outputs": [
    {
     "name": "stderr",
     "output_type": "stream",
     "text": [
      "2018-12-11 17:32:19,228 : INFO : loading Doc2Vec object from \n"
     ]
    },
    {
     "name": "stdout",
     "output_type": "stream",
     "text": [
      "모델을 불러오지 못하였습니다.\n",
      "새로운 모델을 생성해주시기 바랍니다.\n"
     ]
    }
   ],
   "source": [
    "d2v = D2V()\n",
    "d2v.make_Doc2Vec_model()"
   ]
  },
  {
   "cell_type": "code",
   "execution_count": 7,
   "metadata": {},
   "outputs": [
    {
     "data": {
      "text/plain": [
       "<gensim.models.doc2vec.Doc2Vec at 0x7f34c7f877f0>"
      ]
     },
     "execution_count": 7,
     "metadata": {},
     "output_type": "execute_result"
    }
   ],
   "source": [
    "d2v.Doc2Vec_model."
   ]
  },
  {
   "cell_type": "code",
   "execution_count": null,
   "metadata": {},
   "outputs": [],
   "source": []
  },
  {
   "cell_type": "code",
   "execution_count": 10,
   "metadata": {},
   "outputs": [
    {
     "name": "stdout",
     "output_type": "stream",
     "text": [
      "==================================================\n",
      "Data Loading : ../data/raw/MK_2018_No_0_to_10000.csv\n",
      "Data Loaded\n",
      "==================================================\n",
      "Data Loading : ../data/raw/MK_2018_No_0_to_10000.csv\n",
      "Data Loaded\n",
      "==================================================\n",
      "Data Loading : ../data/raw/MK_2018_No_0_to_10000.csv\n",
      "Data Loaded\n",
      "==================================================\n",
      "Data Loading : ../data/raw/MK_2018_No_0_to_10000.csv\n",
      "Data Loaded\n",
      "==================================================\n",
      "Data Loading : ../data/raw/MK_2018_No_0_to_10000.csv\n",
      "Data Loaded\n",
      "==================================================\n",
      "Data Loading : ../data/raw/MK_2018_No_0_to_10000.csv\n",
      "Data Loaded\n",
      "==================================================\n",
      "Data Loading : ../data/raw/MK_2018_No_0_to_10000.csv\n",
      "Data Loaded\n",
      "==================================================\n",
      "Data Loading : ../data/raw/MK_2018_No_0_to_10000.csv\n",
      "Data Loaded\n",
      "==================================================\n",
      "Data Loading : ../data/raw/MK_2018_No_0_to_10000.csv\n",
      "Data Loaded\n",
      "==================================================\n",
      "Data Loading : ../data/raw/MK_2018_No_0_to_10000.csv\n",
      "Data Loaded\n"
     ]
    }
   ],
   "source": [
    "for _ in range(10):\n",
    "    temp_df = load_data('../data/raw/MK_2018_No_0_to_10000.csv', )\n",
    "    \n",
    "    for column in temp_df.columns:\n",
    "        result_dict[column] += temp_df[column].tolist()\n",
    "\n",
    "data = pd.DataFrame(result_dict)"
   ]
  },
  {
   "cell_type": "code",
   "execution_count": 8,
   "metadata": {},
   "outputs": [],
   "source": [
    "data = data['Date']"
   ]
  },
  {
   "cell_type": "code",
   "execution_count": 2,
   "metadata": {},
   "outputs": [],
   "source": [
    "a= np.array(range(10000000))\n",
    "b= np.array(range(10000000))\n",
    "c= np.array(range(10000000))\n",
    "d= np.array(range(10000000))"
   ]
  },
  {
   "cell_type": "code",
   "execution_count": 4,
   "metadata": {},
   "outputs": [],
   "source": [
    "a = list(range(10000000))\n",
    "b = list(range(10000000))\n",
    "c = list(range(10000000))\n",
    "d = list(range(10000000))"
   ]
  },
  {
   "cell_type": "code",
   "execution_count": 2,
   "metadata": {},
   "outputs": [
    {
     "data": {
      "text/plain": [
       "['.ipynb_checkpoints']"
      ]
     },
     "execution_count": 2,
     "metadata": {},
     "output_type": "execute_result"
    }
   ],
   "source": [
    "os.listdir('../data/tokenized/')"
   ]
  },
  {
   "cell_type": "code",
   "execution_count": 2,
   "metadata": {},
   "outputs": [
    {
     "name": "stdout",
     "output_type": "stream",
     "text": [
      "==================================================\n",
      "Data Loading : ../data/raw/MK_2018_No_0_to_10000.csv\n",
      "Data Loaded\n"
     ]
    }
   ],
   "source": [
    "data = load_data('../data/raw/MK_2018_No_0_to_10000.csv')"
   ]
  },
  {
   "cell_type": "code",
   "execution_count": 3,
   "metadata": {},
   "outputs": [
    {
     "data": {
      "text/html": [
       "<div>\n",
       "<style scoped>\n",
       "    .dataframe tbody tr th:only-of-type {\n",
       "        vertical-align: middle;\n",
       "    }\n",
       "\n",
       "    .dataframe tbody tr th {\n",
       "        vertical-align: top;\n",
       "    }\n",
       "\n",
       "    .dataframe thead th {\n",
       "        text-align: right;\n",
       "    }\n",
       "</style>\n",
       "<table border=\"1\" class=\"dataframe\">\n",
       "  <thead>\n",
       "    <tr style=\"text-align: right;\">\n",
       "      <th></th>\n",
       "      <th>Text</th>\n",
       "      <th>Section</th>\n",
       "      <th>Date</th>\n",
       "      <th>Title</th>\n",
       "      <th>Link</th>\n",
       "      <th>Keywords</th>\n",
       "    </tr>\n",
       "  </thead>\n",
       "  <tbody>\n",
       "    <tr>\n",
       "      <th>0</th>\n",
       "      <td>\\n\\n\\n\\n                     [매일경제 스타투데이 박세연 기...</td>\n",
       "      <td></td>\n",
       "      <td>20180101.0</td>\n",
       "      <td>`동상이몽2` 강경준-장신영 내년 5월 웨딩마치…커플화보 현장 공개</td>\n",
       "      <td>http://news.mk.co.kr/newsRead.php?&amp;year=2018&amp;no=1</td>\n",
       "      <td></td>\n",
       "    </tr>\n",
       "    <tr>\n",
       "      <th>1</th>\n",
       "      <td>\"무술년 신년사 \"공정·정의 한국 만들라는 국민 뜻 더 굳게 받들 것\"\"노사정 등 ...</td>\n",
       "      <td>politics</td>\n",
       "      <td>20180101.0</td>\n",
       "      <td>문 대통령 \"국민 삶 바꾸는 데 모든 역량 집중할 것\"</td>\n",
       "      <td>http://news.mk.co.kr/newsRead.php?&amp;year=2018&amp;no=2</td>\n",
       "      <td></td>\n",
       "    </tr>\n",
       "    <tr>\n",
       "      <th>2</th>\n",
       "      <td>사랑하는 국민 여러분, 새해가 밝았습니다. 2018년 올해는  국민 여러분 한 분 ...</td>\n",
       "      <td>politics</td>\n",
       "      <td>20180101.0</td>\n",
       "      <td>[전문] 문재인 대통령 무술년 신년사</td>\n",
       "      <td>http://news.mk.co.kr/newsRead.php?&amp;year=2018&amp;no=3</td>\n",
       "      <td></td>\n",
       "    </tr>\n",
       "    <tr>\n",
       "      <th>3</th>\n",
       "      <td>\\n\\n\\n\\n\\n\\n\\n                     [매일경제 스타투데이...</td>\n",
       "      <td></td>\n",
       "      <td>20180101.0</td>\n",
       "      <td>정인영 \"인생의 전환점 결혼, 예쁜 부부 되겠다\"</td>\n",
       "      <td>http://news.mk.co.kr/newsRead.php?&amp;year=2018&amp;no=4</td>\n",
       "      <td></td>\n",
       "    </tr>\n",
       "    <tr>\n",
       "      <th>4</th>\n",
       "      <td>정세균 국회의장은 1일 2018년 무술년(戊戌年) 신년사에서 \"제헌 70주년을 맞이...</td>\n",
       "      <td>politics</td>\n",
       "      <td>20180101.0</td>\n",
       "      <td>[신년사] 정세균 국회의장 \"개헌 등 미래 100년 토대 쌓을것\"</td>\n",
       "      <td>http://news.mk.co.kr/newsRead.php?&amp;year=2018&amp;no=5</td>\n",
       "      <td></td>\n",
       "    </tr>\n",
       "  </tbody>\n",
       "</table>\n",
       "</div>"
      ],
      "text/plain": [
       "                                                Text   Section        Date  \\\n",
       "0  \\n\\n\\n\\n                     [매일경제 스타투데이 박세연 기...            20180101.0   \n",
       "1  \"무술년 신년사 \"공정·정의 한국 만들라는 국민 뜻 더 굳게 받들 것\"\"노사정 등 ...  politics  20180101.0   \n",
       "2  사랑하는 국민 여러분, 새해가 밝았습니다. 2018년 올해는  국민 여러분 한 분 ...  politics  20180101.0   \n",
       "3  \\n\\n\\n\\n\\n\\n\\n                     [매일경제 스타투데이...            20180101.0   \n",
       "4  정세균 국회의장은 1일 2018년 무술년(戊戌年) 신년사에서 \"제헌 70주년을 맞이...  politics  20180101.0   \n",
       "\n",
       "                                   Title  \\\n",
       "0  `동상이몽2` 강경준-장신영 내년 5월 웨딩마치…커플화보 현장 공개   \n",
       "1         문 대통령 \"국민 삶 바꾸는 데 모든 역량 집중할 것\"   \n",
       "2                   [전문] 문재인 대통령 무술년 신년사   \n",
       "3            정인영 \"인생의 전환점 결혼, 예쁜 부부 되겠다\"   \n",
       "4   [신년사] 정세균 국회의장 \"개헌 등 미래 100년 토대 쌓을것\"   \n",
       "\n",
       "                                                Link Keywords  \n",
       "0  http://news.mk.co.kr/newsRead.php?&year=2018&no=1           \n",
       "1  http://news.mk.co.kr/newsRead.php?&year=2018&no=2           \n",
       "2  http://news.mk.co.kr/newsRead.php?&year=2018&no=3           \n",
       "3  http://news.mk.co.kr/newsRead.php?&year=2018&no=4           \n",
       "4  http://news.mk.co.kr/newsRead.php?&year=2018&no=5           "
      ]
     },
     "execution_count": 3,
     "metadata": {},
     "output_type": "execute_result"
    }
   ],
   "source": [
    "data.head()"
   ]
  },
  {
   "cell_type": "code",
   "execution_count": 4,
   "metadata": {},
   "outputs": [],
   "source": [
    "nlp = NLP()"
   ]
  },
  {
   "cell_type": "code",
   "execution_count": 11,
   "metadata": {},
   "outputs": [
    {
     "name": "stdout",
     "output_type": "stream",
     "text": [
      "■  정치권 신년 인사말  \n",
      "\n",
      "\n",
      "\n",
      "                     문재인 대통령이 1일 국민에게 전하는 신년 인사말에서 \"국민 삶의 질 개선을 최우선 국정목표로 삼아 국민 여러분이 피부로 느낄 수 있는 변화를 만들겠다\"고 밝혔다. 문 대통령은 집권 2년차에 들어서며 \"2018년 새해, 국민의 손을 굳게 잡고 더 힘차게 전진하겠다\"며 \"과거의 잘못을 바로잡기 위한 노력을 지속하면서 국민 삶을 바꾸는 데 모든 역량을 집중하겠다\"고 약속했다. 문 대통령은 \"공정하고 정의로운 대한민국을 만들라는 국민의 뜻을 더 굳게 받들겠다\"며 국가 비전을 흔들림 없이 추진하기로 했다. 또 \"나라를 나라답게 만드는 일이 국민 통합과 경제 성장의 더 큰 에너지가 될 것이라고 확신한다\"며 국가 대개혁에 대한 강한 의지도 보였다.googletag.display(\"google_dfp_MC_2x1,fluid\");\n",
      "특히 새해부터 저출산 고령화, 양극화, 저성장 등 구조적 난제들을 해결하기 위한 사회적 대화에 힘 쏟을 방침이다. \n",
      "문 대통령은 \"새해에는 노사정 대화를 비롯한 사회 각 부문의 대화가 꽃을 피우는 한 해가 되기를 기대한다\"며 \"조금씩 양보하고 짐을 나누면 더불어 잘사는 대한민국에 한 걸음 더 가까이 갈 수 있을 것\"이라고 기대했다. 문 대통령은 88서울올림픽 이후 30년 만에 치러지는 평창동계올림픽에 더 많은 사랑과 응원을 요청하면서 \"국민 여러분의 관심과 성원이 평창의 성공을 만들 것\"이라고 말했다.\n",
      "아울러 문 대통령은 지난 한 해를 되돌아보면서 \"나라다운 나라를 만들기 위해 온 국민이 마음을 하나로 모았고 큰 걸음을 시작했다\"고 의미를 부여했다. 이어 \"경제도 앞으로 나아갔다\"며 \"무역 1조달러 시대를 다시 열었고, 3%대 경제성장률을 회복했다\"고 설명했다. 이에 대해 \"정치적 혼란과 북한의 잇따른 도발로 인한 안보위기 상황에서 만들어낸 결실이어서 더욱 값지고 귀한 성취\"라고 평가하면서 \"국민 한 분 한 분께 깊은 존경과 감사의 인사를 드린다\"고 강조했다. 문 대통령은 1일 새벽 `2017년 올해의 의인`들과 함께 해맞이 산행을 하면서 새해 일정을 시작한다. 이어 조류인플루엔자 방역관, 평창동계올림픽 책임자, 동남아지역 국가 총영사, 주한미군 등 각계 인사들에게 신년인사를 겸한 전화 통화를 하고 격려할 계획이다. 2일에는 국회, 정당, 사법부, 행정부, 지자체, 재계 등 사회 각계 인사들을 청와대로 초청해 떡국 오찬을 겸한 신년인사회를 갖는다.googletag.display(\"google_dfp_MC_250x250\");  3일에는 지방 산업현장을 시찰하기로 했다. 한편 정세균 국회의장은 신년사를 통해 \"2018년 제헌 70주년을 맞아 국회는 헌법 개정을 포함해 대한민국 미래 100년의 토대를 쌓는 일에 심혈을 기울여나가겠다\"고 밝혔다. 추미애 더불어민주당 대표는 \"적폐청산과 사람중심 경제, 개혁 정책들까지 문재인 정부의 성공이 곧 국민의 성공이 될 수 있도록 든든한 버팀목이 되고 헌신하겠다\"고 말했다. \n",
      "홍준표 자유한국당 대표는 \"지금 정부는 정치적 쇼로 국민의 눈과 귀를 가로막고 있다\"며 \"올 한 해 정부의 잘못을 바로잡고 대한민국의 위기를 극복하는 데 주력하겠다\"고 강조했다. \n",
      "[강계만 기자 / 정석환 기자][ⓒ 매일경제 & mk.co.kr, 무단전재 및 재배포 금지]\n",
      "                                    \n",
      "window.jQuery || document.write(\"<script src='//common.mk.co.kr/common/include/mklib/jquery.js'>\")\n",
      "\n",
      "\n"
     ]
    },
    {
     "data": {
      "text/plain": [
       "'■  정치권 신년 인사말                       문재인 대통령이  국민에게 전하는 신년 인사말에서 국민 삶의 질 개선을 최우선 국정목표로 삼아 국민 여러분이 피부로 느낄 수 있는 변화를 만들겠다고 밝혔다 문 대통령은 집권 차에 들어서며  새해 국민의 손을 굳게 잡고 더 힘차게 전진하겠다며 과거의 잘못을 바로잡기 위한 노력을 지속하면서 국민 삶을 바꾸는 데 모든 역량을 집중하겠다고 약속했다 문 대통령은 공정하고 정의로운 대한민국을 만들라는 국민의 뜻을 더 굳게 받들겠다며 국가 비전을 흔들림 없이 추진하기로 했다 또 나라를 나라답게 만드는 일이 국민 통합과 경제 성장의 더 큰 에너지가 될 것이라고 확신한다며 국가 대개혁에 대한 강한 의지도 보였다googletagdisplay특히 새해부터 저출산 고령화 양극화 저성장 등 구조적 난제들을 해결하기 위한 사회적 대화에 힘 쏟을 방침이다 문 대통령은 새해에는 노사정 대화를 비롯한 사회 각 부문의 대화가 꽃을 피우는 한 해가 대한다며 조금씩 양보하고 짐을 나누면 더불어 잘사는 대한민국에 한 걸음 더 가까이 갈 수 있을 것대했다 문 대통령은 서울올림픽 이후  만에 치러지는 평창동계올림픽에 더 많은 사랑과 응원을 요청하면서 국민 여러분의 관심과 성원이 평창의 성공을 만들 것이라고 말했다아울러 문 대통령은 지난 한 해를 되돌아보면서 나라다운 나라를 만들기 위해 온 국민이 마음을 하나로 모았고 큰 걸음을 시작했다고 의미를 부여했다 이어 경제도 앞으로 나아갔다며 무역 달러 시대를 다시 열었고 대 경제성장률을 회복했다고 설명했다 이에 대해 정치적 혼란과 북한의 잇따른 도발로 인한 안보위기 상황에서 만들어낸 결실이어서 더욱 값지고 귀한 성취라고 평가하면서 국민 한 분 한 분께 깊은 존경과 감사의 인사를 드린다고 강조했다 문 대통령은  새벽  올해의 의인들과 함께 해맞이 산행을 하면서 새해 일정을 시작한다 이어 조류인플루엔자 방역관 평창동계올림픽 책임자 동남아지역 국가 총영사 주한미군 등 각계 인사들에게 신년인사를 겸한 전화 통화를 하고 격려할 계획이다 에는 국회 정당 사법부 행정부 지자체 재계 등 사회 각계 인사들을 청와대로 초청해 떡국 오찬을 겸한 신년인사회를 갖는다googletagdisplay  에는 지방 산업현장을 시찰하기로 했다 한편 정세균 국회의장은 신년사를 통해  제헌 주년을 맞아 국회는 헌법 개정을 포함해 대한민국 미래 의 토대를 쌓는 일에 울여나가겠다고 밝혔다 추미애 더불어민주당 대표는 적폐청산과 사람중심 경제 개혁 정책들까지 문재인 정부의 성공이 곧 국민의 성공이 될 수 있도록 든든한 버팀목이 되고 헌신하겠다고 말했다 유한국당 대표는 지금 정부는 정치적 쇼로 국민의 눈과 귀를 가로막고 있다며 올 한 해 정부의 잘못을 바로잡고 대한민국의 위기를 극복하는 데 주력하겠다고 강조했다                                     windowjQuery  documentwrite'"
      ]
     },
     "execution_count": 11,
     "metadata": {},
     "output_type": "execute_result"
    }
   ],
   "source": [
    "n = 10\n",
    "text = data.loc[n,'Text']\n",
    "print(text)\n",
    "nlp.clean_text(text)"
   ]
  },
  {
   "cell_type": "code",
   "execution_count": 7,
   "metadata": {},
   "outputs": [],
   "source": [
    "regex_ls = ['[\\t\\n\\r\\f\\v]', #공백 제거,\n",
    "                          '\\(.+?\\)', '\\[.+?\\]', '\\<.+?\\>',  '◀.+?▶',  '=.+=', #특수문자 사이에 오는 단어 제거\n",
    "                          '(?<=▶).+', '(?<=▷).+', '(?<=※).+', #특수문자 다음으로 오는 단어 제거\n",
    "                         '(?<=\\xa0).+', # \\xa0(증권 기사) 다음으로 오는 단어 제거\n",
    "                         '(?<=\\Copyrights).+', # Copyrights 다음에 오는 기사 제거\n",
    "                         '[가-힣]+ 기자', #기자 제거\n",
    "            '[\\w]+@[a-zA-Z]+\\.[a-zA-Z]+[\\.]?[a-z]*',\n",
    "           ]"
   ]
  },
  {
   "cell_type": "code",
   "execution_count": 8,
   "metadata": {},
   "outputs": [
    {
     "data": {
      "text/plain": [
       "'                     영화 ‘신과 함께-죄와 벌’이 800만 관객을 돌파, 2017년 흥행 2위작으로 기록됐다. ‘신과 함께-죄와 벌’은 개봉 12일째인 31일 오전 11시 800만 관객을 돌파했다. 이는 2017년 전체 박스오피스 2위에 등극한 기록. ‘스파이더맨: 홈커밍’과 ‘공조’를 차례로 제치고 올해 개봉작 흥행 순위 2위로 올라섰다. 특히 개봉 13일만에 800만 돌파에 성공한 ‘택시운전사’보다 하루 빠른 속도로 800만 관객을 동원하면서 2018년에도 계속해서 흥행 열풍을 이어갈 것을 예고하고 있다. 800만 관객 돌파 기념 배우들의 감사 인증샷 역시 눈길을 끈다. 차태현, 주지훈, 김향기, 김동욱, 이준혁, 김용화 감독까지 ‘신과함께-죄와 벌’의 흥행 주역들은 800만 기념 풍선과 함께 진정한 귀인들을 향해 감사의 미소를 보이고 있다. 특히 6명의 흥행神들은 8 모양의 풍선을 뒤집어 무한대의 모양을 만들며 800만 관객 여러분께 무한대로 감사하다는 뜻을 담은 재치 넘치는 인증샷으로 더욱 뜻 깊은 의미를 전달하고 있다.                                     window.jQuery || document.write'"
      ]
     },
     "execution_count": 8,
     "metadata": {},
     "output_type": "execute_result"
    }
   ],
   "source": [
    "for regex in regex_ls:\n",
    "    text = re.sub(regex, '', text)\n",
    "text"
   ]
  },
  {
   "cell_type": "code",
   "execution_count": 8,
   "metadata": {},
   "outputs": [
    {
     "data": {
      "text/plain": [
       "'['"
      ]
     },
     "execution_count": 8,
     "metadata": {},
     "output_type": "execute_result"
    }
   ],
   "source": [
    "regex = '[a-zA-Z0-9]+@[a-zA-Z]+\\.[a-zA-Z]+[\\.]?[a-z]*'\n",
    "\n",
    "re.sub(regex, '', 'nin999@mk.co.kr[')"
   ]
  },
  {
   "cell_type": "code",
   "execution_count": null,
   "metadata": {},
   "outputs": [],
   "source": []
  }
 ],
 "metadata": {
  "kernelspec": {
   "display_name": "fininsight_python_3.5",
   "language": "python",
   "name": "fininsight_python3.5"
  },
  "language_info": {
   "codemirror_mode": {
    "name": "ipython",
    "version": 3
   },
   "file_extension": ".py",
   "mimetype": "text/x-python",
   "name": "python",
   "nbconvert_exporter": "python",
   "pygments_lexer": "ipython3",
   "version": "3.5.5"
  }
 },
 "nbformat": 4,
 "nbformat_minor": 2
}
