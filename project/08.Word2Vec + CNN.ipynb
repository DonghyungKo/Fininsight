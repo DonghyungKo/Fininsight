{
 "cells": [
  {
   "cell_type": "code",
   "execution_count": 1,
   "metadata": {},
   "outputs": [],
   "source": [
    "# unset PYTHONPATH first\n",
    "from ko_text import *\n",
    "from ko_crawler import *\n",
    "\n",
    "import ast"
   ]
  },
  {
   "cell_type": "code",
   "execution_count": 2,
   "metadata": {},
   "outputs": [],
   "source": [
    "nlp = NLP()"
   ]
  },
  {
   "cell_type": "code",
   "execution_count": 3,
   "metadata": {},
   "outputs": [],
   "source": [
    "train_df = pd.read_csv('Data/morphs/train_morphs_final.csv', encoding = 'utf-8')\n",
    "test_df = pd.read_csv('Data/morphs/test_morphs_final.csv', encoding = 'utf-8')\n",
    "\n",
    "# 용량을 줄이기 위해 '단어 단어' 꼴로 묶어둔 token을 ['단어', '단어'] 꼴로 풀기\n",
    "train_df['Token'] = [token.split() for token in train_df['Token']]\n",
    "test_df['Token'] = [token.split() for token in test_df['Token']]"
   ]
  },
  {
   "cell_type": "code",
   "execution_count": 4,
   "metadata": {},
   "outputs": [
    {
     "name": "stdout",
     "output_type": "stream",
     "text": [
      "(82963, 3)\n"
     ]
    }
   ],
   "source": [
    "print(train_df.shape)"
   ]
  },
  {
   "cell_type": "code",
   "execution_count": 5,
   "metadata": {},
   "outputs": [
    {
     "data": {
      "text/plain": [
       "Counter({'IT과학': 9836,\n",
       "         '경제': 8050,\n",
       "         '국제': 9677,\n",
       "         '기업': 9604,\n",
       "         '문화': 9313,\n",
       "         '부동산': 9714,\n",
       "         '사회': 9325,\n",
       "         '정치': 8875,\n",
       "         '증권': 8569})"
      ]
     },
     "execution_count": 5,
     "metadata": {},
     "output_type": "execute_result"
    }
   ],
   "source": [
    "Counter(train_df['Section'])"
   ]
  },
  {
   "cell_type": "code",
   "execution_count": 6,
   "metadata": {},
   "outputs": [],
   "source": [
    "train_token_ls = train_df['Token'].tolist()\n",
    "train_label_ls = train_df['Section'].tolist()\n",
    "\n",
    "test_token_ls = test_df['Token'].tolist()\n",
    "test_label_ls = test_df['Section'].tolist()"
   ]
  },
  {
   "cell_type": "code",
   "execution_count": 7,
   "metadata": {},
   "outputs": [],
   "source": [
    "train_token_ls, train_label_ls = nlp.extract_a_equally_splited_batch(train_token_ls, train_label_ls, 10000)"
   ]
  },
  {
   "cell_type": "code",
   "execution_count": 8,
   "metadata": {},
   "outputs": [],
   "source": [
    "test_token_ls, test_label_ls = nlp.extract_a_equally_splited_batch(test_token_ls, test_label_ls, 1000)"
   ]
  },
  {
   "cell_type": "markdown",
   "metadata": {},
   "source": [
    "# **Word2Vec + CNN**"
   ]
  },
  {
   "cell_type": "code",
   "execution_count": 9,
   "metadata": {},
   "outputs": [],
   "source": [
    "from gensim.models import Word2Vec\n",
    "\n",
    "class Word2VecCNN():\n",
    "    \n",
    "    def __init__(self, path_to_word2vec_model = ''):\n",
    "        print('초기 세팅을 시작합니다.')\n",
    "        print('사전에 학습된 Word2Vec 모델을 불러옵니다.')\n",
    "        try: \n",
    "            self.w2v_model = Word2Vec.load(path_to_word2vec_model)\n",
    "            print('학습된 Word2Vec 모델을 성공적으로 불러왔습니다.')\n",
    "            \n",
    "        except : \n",
    "            self.w2v_model = Word2Vec(min_count = 1)\n",
    "            print('Word2Vec 모델을 불러오는데 실패하였습니다.')\n",
    "            print('=================================================================================')\n",
    "            print('Default 세팅의 Word2Vec 모델을 새롭게 생성합니다.')\n",
    "            print('Process 진행에 앞서, Word2Vec 모델의 학습이 필요합니다.')\n",
    "            print('bulid_and_train_w2v_model 함수를 사용하여, word2vec 모델을 학습하시기 바랍니다')\n",
    "            print('=================================================================================')\n",
    "            print('Word2Vec의 Hyperparameter 튜닝을 원하신다면 self.w2v_model을 새롭게 생성한 모델로 덮어 쓰시면 됩니다. ')\n",
    "    \n",
    "    \n",
    "    def build_and_train_w2v_model(self, token_ls):\n",
    "        '''\n",
    "        Word2Vec 모델을 학습하는 함수입니다.\n",
    "        \n",
    "        inputs\n",
    "        \n",
    "        token_ls : iterable, 토큰이 리스트 형태로 저장된 리스트\n",
    "        \n",
    "        return\n",
    "        모델 학습\n",
    "        '''\n",
    "        import logging\n",
    "        #logging.basicConfig(format='%(asctime)s : %(levelname)s : %(message)s', level=logging.INFO)\n",
    "\n",
    "        self.w2v_model.build_vocab(token_ls)\n",
    "\n",
    "        self.w2v_model.train(token_ls,\n",
    "                            total_examples = self.w2v_model.corpus_count,\n",
    "                            epochs = 10)\n",
    "    \n",
    "    \n",
    "    def load_w2v_model(self, path_to_model):\n",
    "        '''\n",
    "        사전에 학습한 Word2Vec 모델을 불러오는 함수입니다.\n",
    "        '''\n",
    "    \n",
    "        self.w2v_model = Word2Vec.load(path_to_model)\n",
    "        return\n",
    "    \n",
    "    \n",
    "    def generate_equal_sequence_doc_vector_for_cnn(self, doc, sequence_length = 10):\n",
    "        '''\n",
    "        한 개의 문서(token list)를 Word2Vec으로 벡터화하여, CNN학습에 적합한 4D로 변환하는 함수입니다.\n",
    "\n",
    "        input\n",
    "        doc : iterable, 토큰으로 구분된 array 형태의 문서\n",
    "        w2v_model : word2vec_model, 개별 토큰을 벡터화하기 위한 word2vec 모델\n",
    "        sequence_length : int, 한 문서 당, 최대 토큰의 수\n",
    "        '''\n",
    "        n_dim = self.w2v_model.vector_size\n",
    "        \n",
    "        if len(doc) < 1:\n",
    "            return np.zeros((sequence_length,self.w2v_model.vector_size)).reshape(sequence_length, n_dim, -1)\n",
    "\n",
    "        elif len(doc) < sequence_length:\n",
    "            # 해당 단어가 w2v 모델에 있으면, 해당 벡터 값으로, 없으면 0벡터로 변환\n",
    "            return_array = np.array([self.w2v_model.wv.__getitem__(token) if self.w2v_model.wv.__contains__(token) else [0] * n_dim for token in doc])\n",
    "\n",
    "            # 길이가 짧은 문서는 0백터로 max_len의 크기에 맞도록 패딩을 해준다.\n",
    "            n_padding = sequence_length - len(doc)\n",
    "            return_array = np.concatenate((return_array, np.zeros((n_padding, n_dim))))\n",
    "\n",
    "\n",
    "        # 문서의 길이가 max_length보다 길면 앞에서 max_length의 토큰까지 짜른다.\n",
    "        elif len(doc) >= sequence_length:\n",
    "            # 해당 단어가 w2v 모델에 있으면, 해당 벡터 값으로, 없으면 0벡터로 변환\n",
    "            return_array = np.array([self.w2v_model.wv.__getitem__(token) if self.w2v_model.wv.__contains__(token) else [0] * n_dim for token in doc[:sequence_length]])\n",
    "        \n",
    "        return return_array.reshape(sequence_length, n_dim,-1)\n",
    "    \n",
    "    \n",
    "    \n",
    "    \n",
    "    def generate_equal_sequence_doc_vectors_for_cnn(self, doc_ls, sequence_length = 10):\n",
    "        '''\n",
    "        복수 개의 문서(token list)를 Word2Vec으로 벡터화하여, CNN학습에 적합한 4D로 변환하는 함수입니다.\n",
    "\n",
    "        input\n",
    "        doc_ls : iterable, 토큰으로 구분된 array 형태의 문서가 저장된 리스트\n",
    "        sequence_length : int, 한 문서 당, 최대 토큰의 수\n",
    "        '''\n",
    "        \n",
    "        return np.array([self.generate_equal_sequence_doc_vector_for_cnn(doc, sequence_length) for doc in doc_ls])\n",
    "    \n",
    "    \n",
    "    \n",
    "    \n",
    "        \n",
    "    def _init_weights(self,shape):\n",
    "        '''\n",
    "        CNN 학습을 위해, filter의 초기 weight를 주는 함수입니다.\n",
    "\n",
    "        inputs \n",
    "        shape = 4D-array, [batch, n_height, n_width, n_channel] \n",
    "        '''\n",
    "        return tf.Variable(tf.random_normal(shape, stddev=0.01))\n",
    "\n",
    "\n"
   ]
  },
  {
   "cell_type": "code",
   "execution_count": 10,
   "metadata": {},
   "outputs": [
    {
     "name": "stdout",
     "output_type": "stream",
     "text": [
      "초기 세팅을 시작합니다.\n",
      "사전에 학습된 Word2Vec 모델을 불러옵니다.\n",
      "학습된 Word2Vec 모델을 성공적으로 불러왔습니다.\n"
     ]
    }
   ],
   "source": [
    "w2v_cnn = Word2VecCNN('w2v_model')"
   ]
  },
  {
   "cell_type": "code",
   "execution_count": 11,
   "metadata": {},
   "outputs": [],
   "source": [
    "#w2v_cnn.w2v_model = Word2Vec(min_count = 5, \n",
    "#                             window = 5,\n",
    "#                             sample = 1e-05,\n",
    "#                             size = 50)"
   ]
  },
  {
   "cell_type": "code",
   "execution_count": 12,
   "metadata": {},
   "outputs": [],
   "source": [
    "#w2v_cnn.build_and_train_w2v_model(train_df['Token'].tolist() + test_df['Token'].tolist())"
   ]
  },
  {
   "cell_type": "code",
   "execution_count": 13,
   "metadata": {},
   "outputs": [
    {
     "data": {
      "text/plain": [
       "[('지능', 0.9434113502502441),\n",
       " ('사물인터넷', 0.7708964347839355),\n",
       " ('음성인식', 0.7656369209289551),\n",
       " ('러닝', 0.7467309236526489),\n",
       " ('빅데이터', 0.7432914972305298),\n",
       " ('자연어', 0.7127903699874878),\n",
       " ('머신', 0.7089794278144836),\n",
       " ('로봇', 0.7075458765029907),\n",
       " ('기계학습', 0.6892430186271667),\n",
       " ('접목', 0.6829283237457275)]"
      ]
     },
     "execution_count": 13,
     "metadata": {},
     "output_type": "execute_result"
    }
   ],
   "source": [
    "w2v_cnn.w2v_model.most_similar('인공')"
   ]
  },
  {
   "cell_type": "markdown",
   "metadata": {},
   "source": [
    "## 학습을 위한 데이터 전처리"
   ]
  },
  {
   "cell_type": "code",
   "execution_count": 14,
   "metadata": {},
   "outputs": [],
   "source": [
    "sequence_length = 100"
   ]
  },
  {
   "cell_type": "code",
   "execution_count": 15,
   "metadata": {},
   "outputs": [],
   "source": [
    "train_X = w2v_cnn.generate_equal_sequence_doc_vectors_for_cnn(train_token_ls, sequence_length=sequence_length)\n",
    "test_X = w2v_cnn.generate_equal_sequence_doc_vectors_for_cnn(test_token_ls, sequence_length=sequence_length)\n",
    "\n",
    "train_Y = pd.get_dummies(train_label_ls).values.astype('float32')\n",
    "test_Y = pd.get_dummies(test_label_ls).values.astype('float32')"
   ]
  },
  {
   "cell_type": "code",
   "execution_count": 16,
   "metadata": {},
   "outputs": [
    {
     "data": {
      "text/plain": [
       "((9999, 100, 100, 1), (999, 100, 100, 1))"
      ]
     },
     "execution_count": 16,
     "metadata": {},
     "output_type": "execute_result"
    }
   ],
   "source": [
    "train_X.shape, test_X.shape"
   ]
  },
  {
   "cell_type": "markdown",
   "metadata": {},
   "source": [
    "## CNN 학습"
   ]
  },
  {
   "cell_type": "code",
   "execution_count": 17,
   "metadata": {},
   "outputs": [],
   "source": [
    "import tensorflow as tf"
   ]
  },
  {
   "cell_type": "code",
   "execution_count": 18,
   "metadata": {},
   "outputs": [],
   "source": [
    "n_dim = train_X.shape[2]"
   ]
  },
  {
   "cell_type": "code",
   "execution_count": 24,
   "metadata": {},
   "outputs": [],
   "source": [
    "def init_weights(shape):\n",
    "    return tf.Variable(tf.random_normal(shape, stddev=0.01))\n",
    "\n",
    "\n",
    "tf.reset_default_graph()\n",
    "\n",
    "def graph(X,\n",
    "          p_keep_conv, \n",
    "          p_keep_hidden, \n",
    "          filter_size_ls = [2,3,4,5,6,7], \n",
    "          num_filter = 100, \n",
    "          sequence_length = 100,\n",
    "          n_fc = 100, \n",
    "          n_class= 9,\n",
    "          n_dim = n_dim):\n",
    "\n",
    "    max_pool_result_ls = []\n",
    "    \n",
    "    # 각각의 사이즈의 필터를 num_filter개 생성하여 convolution & max_pool\n",
    "    for filter_size in filter_size_ls:\n",
    "\n",
    "        filter_ = init_weights([filter_size, n_dim, 1, num_filter])\n",
    "        \n",
    "        \n",
    "        # l1_conv shape=(?, sequence_length - filter_size + 1, n_dim, num_filter)\n",
    "        l1_conv = tf.nn.relu(tf.nn.conv2d(input = X,\n",
    "                                      filter = filter_,  \n",
    "                                      strides=[1, 1, 1, 1], \n",
    "                                      padding='VALID')) \n",
    "        # l1_pool shape=(?, 1, 1, num_filter)\n",
    "        l1_pool = tf.nn.max_pool(l1_conv, \n",
    "                            ksize=[1, sequence_length - filter_size + 1, 1, 1], \n",
    "                            strides=[1, 1, 1, 1], \n",
    "                            padding='VALID')\n",
    "\n",
    "        l1_pool = tf.nn.dropout(l1_pool, p_keep_conv)\n",
    "\n",
    "        max_pool_result_ls.append(l1_pool)\n",
    "\n",
    "    # 각기 다른 종류의 필터를 거쳐 conv-pool한 결과를 concat\n",
    "    num_filter_total = num_filter * len(filter_size_ls)\n",
    "    max_pool_concat = tf.concat(max_pool_result_ls, 3)\n",
    "    max_pool_concat_flat = tf.reshape(max_pool_concat, [-1, num_filter_total])\n",
    "\n",
    "    # fully-connect\n",
    "    w_fc = init_weights([num_filter_total, n_fc])\n",
    "    w_output = init_weights([n_fc, n_class])\n",
    "\n",
    "    l = tf.nn.relu(tf.matmul(max_pool_concat_flat, w_fc))\n",
    "    l = tf.nn.dropout(l, p_keep_hidden)\n",
    "\n",
    "    h = tf.matmul(l, w_output)\n",
    "    return h\n",
    "\n"
   ]
  },
  {
   "cell_type": "code",
   "execution_count": 25,
   "metadata": {},
   "outputs": [],
   "source": [
    "sequence_length = sequence_length\n",
    "n_class = train_Y.shape[1]\n",
    "\n",
    "batch_size = 100\n",
    "test_size = 300\n"
   ]
  },
  {
   "cell_type": "code",
   "execution_count": 26,
   "metadata": {},
   "outputs": [],
   "source": [
    "X = tf.placeholder(\"float\", [None, sequence_length, w2v_cnn.w2v_model.vector_size, 1])\n",
    "Y = tf.placeholder(\"float\", [None, n_class])\n",
    "\n",
    "p_keep_conv = tf.placeholder(\"float\")\n",
    "p_keep_hidden = tf.placeholder(\"float\")\n",
    "h = graph(X, p_keep_conv, p_keep_hidden, sequence_length= sequence_length, n_class = n_class)\n",
    "\n",
    "cost = tf.reduce_mean(tf.nn.softmax_cross_entropy_with_logits_v2(logits=h, labels=Y))\n",
    "train = tf.train.AdamOptimizer(0.0001).minimize(cost)\n",
    "predict = tf.argmax(h, 1)"
   ]
  },
  {
   "cell_type": "code",
   "execution_count": 27,
   "metadata": {},
   "outputs": [
    {
     "name": "stdout",
     "output_type": "stream",
     "text": [
      "0 0.2\n",
      "1 0.30666666666666664\n",
      "2 0.30333333333333334\n",
      "3 0.33\n",
      "4 0.30333333333333334\n",
      "5 0.2733333333333333\n",
      "6 0.36666666666666664\n",
      "7 0.2833333333333333\n",
      "8 0.31333333333333335\n",
      "9 0.3566666666666667\n",
      "10 0.4\n",
      "11 0.44666666666666666\n",
      "12 0.4766666666666667\n",
      "13 0.5166666666666667\n",
      "14 0.57\n",
      "15 0.5066666666666667\n",
      "16 0.5933333333333334\n",
      "17 0.55\n",
      "18 0.6266666666666667\n",
      "19 0.6\n",
      "20 0.5766666666666667\n",
      "21 0.5966666666666667\n",
      "22 0.5666666666666667\n",
      "23 0.6\n",
      "24 0.5833333333333334\n",
      "25 0.5933333333333334\n",
      "26 0.59\n",
      "27 0.54\n",
      "28 0.6066666666666667\n",
      "29 0.6266666666666667\n",
      "30 0.57\n",
      "31 0.6666666666666666\n",
      "32 0.5833333333333334\n",
      "33 0.6\n",
      "34 0.64\n",
      "35 0.5666666666666667\n",
      "36 0.61\n",
      "37 0.5866666666666667\n",
      "38 0.58\n",
      "39 0.5966666666666667\n",
      "40 0.6133333333333333\n",
      "41 0.6433333333333333\n",
      "42 0.6333333333333333\n",
      "43 0.6066666666666667\n",
      "44 0.6033333333333334\n",
      "45 0.6233333333333333\n",
      "46 0.6466666666666666\n",
      "47 0.6233333333333333\n",
      "48 0.6366666666666667\n",
      "49 0.6133333333333333\n",
      "50 0.6033333333333334\n",
      "51 0.5933333333333334\n",
      "52 0.6233333333333333\n",
      "53 0.6266666666666667\n",
      "54 0.6666666666666666\n",
      "55 0.59\n",
      "56 0.6033333333333334\n",
      "57 0.6633333333333333\n",
      "58 0.64\n",
      "59 0.6333333333333333\n",
      "60 0.61\n",
      "61 0.6133333333333333\n",
      "62 0.6\n",
      "63 0.67\n",
      "64 0.6833333333333333\n",
      "65 0.6033333333333334\n",
      "66 0.6166666666666667\n",
      "67 0.6433333333333333\n",
      "68 0.5933333333333334\n",
      "69 0.64\n",
      "70 0.61\n",
      "71 0.6266666666666667\n",
      "72 0.6233333333333333\n",
      "73 0.6433333333333333\n",
      "74 0.6333333333333333\n",
      "75 0.6366666666666667\n",
      "76 0.69\n",
      "77 0.6566666666666666\n",
      "78 0.6533333333333333\n",
      "79 0.61\n",
      "80 0.6066666666666667\n",
      "81 0.64\n",
      "82 0.6233333333333333\n",
      "83 0.7\n",
      "84 0.5933333333333334\n",
      "85 0.6666666666666666\n",
      "86 0.6466666666666666\n",
      "87 0.6333333333333333\n",
      "88 0.6433333333333333\n",
      "89 0.6666666666666666\n",
      "90 0.6466666666666666\n",
      "91 0.6366666666666667\n",
      "92 0.6433333333333333\n",
      "93 0.68\n",
      "94 0.6633333333333333\n",
      "95 0.6166666666666667\n",
      "96 0.61\n",
      "97 0.62\n",
      "98 0.6366666666666667\n",
      "99 0.6066666666666667\n"
     ]
    }
   ],
   "source": [
    "# Launch the graph in a session\n",
    "with tf.Session() as sess:\n",
    "    # you need to initialize all variables\n",
    "    tf.global_variables_initializer().run()\n",
    "    train_cost_ls = []\n",
    "    test_cost_ls = []\n",
    "    \n",
    "    for i in range(100):\n",
    "        training_batch = zip(range(0, len(train_X), batch_size),\n",
    "                             range(batch_size, len(train_X)+1, batch_size))\n",
    "        \n",
    "        for start, end in training_batch:\n",
    "            sess.run(train, \n",
    "                     feed_dict={X: train_X[start:end], \n",
    "                                Y: train_Y[start:end],\n",
    "                                p_keep_conv: 0.5, \n",
    "                                p_keep_hidden: 0.5})\n",
    "        \n",
    "        \n",
    "        test_indices = np.arange(len(test_X)) # Get A Test Batch\n",
    "        np.random.shuffle(test_indices)\n",
    "        test_indices = test_indices[0:test_size]\n",
    "        \n",
    "        train_cost_ls.append(sess.run(cost, feed_dict = {X: train_X[test_indices],\n",
    "                                                         Y: train_Y[test_indices],\n",
    "                                                         p_keep_conv: 1.0,\n",
    "                                                         p_keep_hidden : 1.0}))\n",
    "        \n",
    "        test_cost_ls.append(sess.run(cost, feed_dict = {X: test_X[test_indices],\n",
    "                                                        Y: test_Y[test_indices],\n",
    "                                                        p_keep_conv : 1.0,\n",
    "                                                        p_keep_hidden : 1.0}))\n",
    "        print(i, np.mean(np.argmax(test_Y[test_indices], axis=1) ==\n",
    "                         sess.run(predict, \n",
    "                                  feed_dict={X: test_X[test_indices],\n",
    "                                                 Y: test_Y[test_indices],\n",
    "                                                 p_keep_conv: 1.0,\n",
    "                                                 p_keep_hidden: 1.0})))"
   ]
  },
  {
   "cell_type": "code",
   "execution_count": 29,
   "metadata": {},
   "outputs": [
    {
     "data": {
      "text/plain": [
       "<matplotlib.legend.Legend at 0x7f190873ac88>"
      ]
     },
     "execution_count": 29,
     "metadata": {},
     "output_type": "execute_result"
    },
    {
     "data": {
      "image/png": "[encoded data removed]",
      "text/plain": [
       "<Figure size 864x432 with 1 Axes>"
      ]
     },
     "metadata": {},
     "output_type": "display_data"
    }
   ],
   "source": [
    "plt.figure(figsize=(12,6))\n",
    "plt.plot(train_cost_ls, label = 'train_cost')\n",
    "plt.plot(test_cost_ls, label = 'test_cost')\n",
    "\n",
    "plt.legend(loc = 'best')"
   ]
  },
  {
   "cell_type": "code",
   "execution_count": null,
   "metadata": {},
   "outputs": [],
   "source": []
  }
 ],
 "metadata": {
  "kernelspec": {
   "display_name": "fininsight_python_3.5",
   "language": "python",
   "name": "fininsight_python3.5"
  },
  "language_info": {
   "codemirror_mode": {
    "name": "ipython",
    "version": 3
   },
   "file_extension": ".py",
   "mimetype": "text/x-python",
   "name": "python",
   "nbconvert_exporter": "python",
   "pygments_lexer": "ipython3",
   "version": "3.5.5"
  }
 },
 "nbformat": 4,
 "nbformat_minor": 2
}
