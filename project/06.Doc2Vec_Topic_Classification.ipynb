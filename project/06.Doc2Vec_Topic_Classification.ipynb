{
 "cells": [
  {
   "cell_type": "code",
   "execution_count": 1,
   "metadata": {},
   "outputs": [],
   "source": [
    "# unset PYTHONPATH first\n",
    "from ko_text import *\n",
    "from ko_crawler import *\n",
    "\n",
    "import ast"
   ]
  },
  {
   "cell_type": "code",
   "execution_count": 2,
   "metadata": {},
   "outputs": [],
   "source": [
    "nlp = NLP()"
   ]
  },
  {
   "cell_type": "code",
   "execution_count": 3,
   "metadata": {},
   "outputs": [],
   "source": [
    "train_df = pd.read_csv('Data/train_df.csv',\n",
    "                       usecols = ['Token','Section'],\n",
    "                       dtype = {'Section' : 'category'},\n",
    "                       converters = {'Token' : ast.literal_eval},\n",
    "                     )\n",
    "\n",
    "test_df = pd.read_csv('Data/test_df.csv',\n",
    "                       usecols = ['Token','Section'],\n",
    "                       dtype = {'Section' : 'category'},\n",
    "                       converters = {'Token' : ast.literal_eval},\n",
    "                     )"
   ]
  },
  {
   "cell_type": "code",
   "execution_count": 4,
   "metadata": {},
   "outputs": [
    {
     "data": {
      "text/plain": [
       "(90000, 2)"
      ]
     },
     "execution_count": 4,
     "metadata": {},
     "output_type": "execute_result"
    }
   ],
   "source": [
    "train_df.shape"
   ]
  },
  {
   "cell_type": "markdown",
   "metadata": {},
   "source": [
    " "
   ]
  },
  {
   "cell_type": "markdown",
   "metadata": {},
   "source": [
    " "
   ]
  },
  {
   "cell_type": "markdown",
   "metadata": {},
   "source": [
    " "
   ]
  },
  {
   "cell_type": "markdown",
   "metadata": {},
   "source": [
    " "
   ]
  },
  {
   "cell_type": "markdown",
   "metadata": {},
   "source": [
    "# **TF-IDF**"
   ]
  },
  {
   "cell_type": "code",
   "execution_count": 6,
   "metadata": {},
   "outputs": [],
   "source": [
    "tfidf_df = nlp.doc_to_tfidf_df(train_df['Token'])"
   ]
  },
  {
   "cell_type": "markdown",
   "metadata": {},
   "source": [
    " "
   ]
  },
  {
   "cell_type": "markdown",
   "metadata": {},
   "source": [
    " "
   ]
  },
  {
   "cell_type": "markdown",
   "metadata": {},
   "source": [
    "## **1. Keyword 추출**"
   ]
  },
  {
   "cell_type": "code",
   "execution_count": 7,
   "metadata": {},
   "outputs": [],
   "source": [
    "first_keyword_ls, second_keyword_ls = nlp.keyword_ls_from_tfidf_df()"
   ]
  },
  {
   "cell_type": "code",
   "execution_count": 8,
   "metadata": {},
   "outputs": [],
   "source": [
    "train_df['1st_keyword'] = first_keyword_ls"
   ]
  },
  {
   "cell_type": "code",
   "execution_count": 9,
   "metadata": {},
   "outputs": [
    {
     "data": {
      "text/html": [
       "<div>\n",
       "<style scoped>\n",
       "    .dataframe tbody tr th:only-of-type {\n",
       "        vertical-align: middle;\n",
       "    }\n",
       "\n",
       "    .dataframe tbody tr th {\n",
       "        vertical-align: top;\n",
       "    }\n",
       "\n",
       "    .dataframe thead th {\n",
       "        text-align: right;\n",
       "    }\n",
       "</style>\n",
       "<table border=\"1\" class=\"dataframe\">\n",
       "  <thead>\n",
       "    <tr style=\"text-align: right;\">\n",
       "      <th></th>\n",
       "      <th>Token</th>\n",
       "      <th>Section</th>\n",
       "      <th>1st_keyword</th>\n",
       "    </tr>\n",
       "  </thead>\n",
       "  <tbody>\n",
       "    <tr>\n",
       "      <th>0</th>\n",
       "      <td>[NH, 농협, 금융, 지주, 김광수, 회장, 22일, 서대문, 본사, 에서, 농협...</td>\n",
       "      <td>경제</td>\n",
       "      <td>회장</td>\n",
       "    </tr>\n",
       "    <tr>\n",
       "      <th>1</th>\n",
       "      <td>[바이오, 직스, 올해, 개별, 기준, 3분, 영업, 이익, 105억원, 으로, 작...</td>\n",
       "      <td>경제</td>\n",
       "      <td>바이오</td>\n",
       "    </tr>\n",
       "    <tr>\n",
       "      <th>2</th>\n",
       "      <td>[코스피, 붕괴하면서, 달러, 환율, 으로, 뛰었다, 23일, 서울, 외환시장, 에...</td>\n",
       "      <td>경제</td>\n",
       "      <td>거래</td>\n",
       "    </tr>\n",
       "    <tr>\n",
       "      <th>3</th>\n",
       "      <td>[정의당, 국회, 롯데, 갑질, 피해자, 간담, 개최, 김상조, 정거, 위원장, 2...</td>\n",
       "      <td>경제</td>\n",
       "      <td>롯데</td>\n",
       "    </tr>\n",
       "    <tr>\n",
       "      <th>4</th>\n",
       "      <td>[코스피, 23일, 무역, 전쟁, 내외, 악재, 힘없이, 2110, 내줬다, 코스피...</td>\n",
       "      <td>경제</td>\n",
       "      <td>무역</td>\n",
       "    </tr>\n",
       "  </tbody>\n",
       "</table>\n",
       "</div>"
      ],
      "text/plain": [
       "                                               Token Section 1st_keyword\n",
       "0  [NH, 농협, 금융, 지주, 김광수, 회장, 22일, 서대문, 본사, 에서, 농협...      경제          회장\n",
       "1  [바이오, 직스, 올해, 개별, 기준, 3분, 영업, 이익, 105억원, 으로, 작...      경제         바이오\n",
       "2  [코스피, 붕괴하면서, 달러, 환율, 으로, 뛰었다, 23일, 서울, 외환시장, 에...      경제          거래\n",
       "3  [정의당, 국회, 롯데, 갑질, 피해자, 간담, 개최, 김상조, 정거, 위원장, 2...      경제          롯데\n",
       "4  [코스피, 23일, 무역, 전쟁, 내외, 악재, 힘없이, 2110, 내줬다, 코스피...      경제          무역"
      ]
     },
     "execution_count": 9,
     "metadata": {},
     "output_type": "execute_result"
    }
   ],
   "source": [
    "train_df.head(5)"
   ]
  },
  {
   "cell_type": "markdown",
   "metadata": {},
   "source": [
    "## **2. Classification**"
   ]
  },
  {
   "cell_type": "markdown",
   "metadata": {},
   "source": [
    " "
   ]
  },
  {
   "cell_type": "markdown",
   "metadata": {},
   "source": [
    "<br>\n"
   ]
  },
  {
   "cell_type": "markdown",
   "metadata": {},
   "source": [
    "<br>\n"
   ]
  },
  {
   "cell_type": "markdown",
   "metadata": {},
   "source": [
    "<br>\n"
   ]
  },
  {
   "cell_type": "markdown",
   "metadata": {},
   "source": [
    "<br>\n"
   ]
  },
  {
   "cell_type": "markdown",
   "metadata": {},
   "source": [
    "<br>\n"
   ]
  },
  {
   "cell_type": "markdown",
   "metadata": {},
   "source": [
    " "
   ]
  },
  {
   "cell_type": "markdown",
   "metadata": {},
   "source": [
    "# **Doc2Vec**"
   ]
  },
  {
   "cell_type": "markdown",
   "metadata": {},
   "source": [
    "## **1. Doc2Vec 모델 불러오기**"
   ]
  },
  {
   "cell_type": "code",
   "execution_count": 17,
   "metadata": {},
   "outputs": [
    {
     "data": {
      "text/plain": [
       "<gensim.models.doc2vec.Doc2Vec at 0x7fb0d6c8f710>"
      ]
     },
     "execution_count": 17,
     "metadata": {},
     "output_type": "execute_result"
    }
   ],
   "source": [
    "# 가장 성능이 좋았던 모델들 호출\n",
    "'''\n",
    "Doc2Vec_model/Doc2Vec_dm=True&cc=9999&vs=100&win=5&neg=5&min=10&sample=1e-05&epochs=10\n",
    "\n",
    "'''\n",
    "nlp.load_Doc2Vec_model('Doc2Vec_model/Doc2Vec_dm=True&cc=9999&vs=100&win=5&neg=5&min=10&sample=1e-05&epochs=10')"
   ]
  },
  {
   "cell_type": "markdown",
   "metadata": {},
   "source": [
    " "
   ]
  },
  {
   "cell_type": "markdown",
   "metadata": {},
   "source": [
    "## **Doc2Vec train** "
   ]
  },
  {
   "cell_type": "code",
   "execution_count": 6,
   "metadata": {},
   "outputs": [],
   "source": [
    "'''nlp.train_Doc2Vec_model(train_df['Token'],\n",
    "                        train_df['Section'],\n",
    "                        n_epochs = 10)'''"
   ]
  },
  {
   "cell_type": "markdown",
   "metadata": {},
   "source": [
    " "
   ]
  },
  {
   "cell_type": "markdown",
   "metadata": {},
   "source": [
    " "
   ]
  },
  {
   "cell_type": "markdown",
   "metadata": {},
   "source": [
    "## **Doc2Vec 학습결과 확인**"
   ]
  },
  {
   "cell_type": "markdown",
   "metadata": {},
   "source": [
    "#### **9999개의 문서로 build하고 9999개 문서로 train**"
   ]
  },
  {
   "cell_type": "code",
   "execution_count": 18,
   "metadata": {},
   "outputs": [
    {
     "data": {
      "text/plain": [
       "1"
      ]
     },
     "execution_count": 18,
     "metadata": {},
     "output_type": "execute_result"
    }
   ],
   "source": [
    "nlp.Doc2Vec_model.train_count"
   ]
  },
  {
   "cell_type": "code",
   "execution_count": 96,
   "metadata": {},
   "outputs": [
    {
     "data": {
      "text/plain": [
       "[('기적', 0.9728723764419556),\n",
       " ('경질', 0.9646653532981873),\n",
       " ('내놓았다', 0.9638350009918213),\n",
       " ('이뤄질', 0.9593904614448547),\n",
       " ('교역', 0.9562650322914124),\n",
       " ('가능성', 0.949462890625),\n",
       " ('우려', 0.9482637643814087),\n",
       " ('감당', 0.9481964111328125),\n",
       " ('양극화', 0.9472314119338989),\n",
       " ('유류', 0.9463865756988525)]"
      ]
     },
     "execution_count": 96,
     "metadata": {},
     "output_type": "execute_result"
    }
   ],
   "source": [
    "nlp.Doc2Vec_model.most_similar('경제')"
   ]
  },
  {
   "cell_type": "markdown",
   "metadata": {},
   "source": [
    "<br>\n"
   ]
  },
  {
   "cell_type": "markdown",
   "metadata": {},
   "source": [
    "<br>\n"
   ]
  },
  {
   "cell_type": "markdown",
   "metadata": {},
   "source": [
    "## **Data setting**"
   ]
  },
  {
   "cell_type": "code",
   "execution_count": 94,
   "metadata": {},
   "outputs": [
    {
     "data": {
      "text/plain": [
       "Counter({'IT과학': 10000,\n",
       "         '경제': 10000,\n",
       "         '국제': 10000,\n",
       "         '기업': 10000,\n",
       "         '문화': 10000,\n",
       "         '부동산': 10000,\n",
       "         '사회': 10000,\n",
       "         '정치': 10000,\n",
       "         '증권': 10000})"
      ]
     },
     "execution_count": 94,
     "metadata": {},
     "output_type": "execute_result"
    }
   ],
   "source": [
    "##################################\n",
    "# 한 label마다 학습할 단어의 수\n",
    "train_size_for_each_label = 10000\n",
    "test_size_for_each_label = 1000\n",
    "###################################\n",
    "\n",
    "\n",
    "# 분류기의 성능을 테스트하기 위해 선정된 section list\n",
    "testing_section_ls = np.unique(train_df['Section'])\n",
    "#testing_section_ls = ['사회','IT과학','경제']\n",
    "\n",
    "# 전체를 모두 학습하면 시간이 오래걸림.\n",
    "# 분류기별 성능 비교를 위해, 부분만 학습하기 위한 전처리 작업\n",
    "train_df2 = train_df[train_df['Section'].isin(testing_section_ls)]\n",
    "train_df2.index = np.arange(0,len(train_df2))\n",
    "\n",
    "test_df2 = test_df[test_df['Section'].isin(testing_section_ls)]\n",
    "test_df2.index = np.arange(0,len(test_df2))\n",
    "\n",
    "n_class = len(test_df2['Section'].unique())\n",
    "\n",
    "\n",
    "# Doc2Vec으로 vector를 추정하기 위한 split 과정\n",
    "train_batch_size = n_class * train_size_for_each_label\n",
    "test_batch_size = n_class * test_size_for_each_label\n",
    "\n",
    "train_token_ls_split, train_tag_ls_split = nlp.split_X_y_equally(train_df2['Token'], train_df2['Section'], train_batch_size)\n",
    "test_token_ls_split, test_tag_ls_split =  nlp.split_X_y_equally(test_df2['Token'],test_df2['Section'], test_batch_size)\n",
    "\n",
    "n_batch = len(train_token_ls_split)\n",
    "\n",
    "\n",
    "#X_train = nlp.doc_to_tfidf_df(train_token_ls_split[0])\n",
    "X_train = nlp.infer_vectors_with_Doc2Vec(train_token_ls_split[0])\n",
    "y_train = train_tag_ls_split[0]\n",
    "\n",
    "#X_test = nlp.doc_to_tfidf_df(test_token_ls_split[0])\n",
    "X_test = nlp.infer_vectors_with_Doc2Vec(test_token_ls_split[0])\n",
    "y_test = test_tag_ls_split[0]\n",
    "\n",
    "from collections import Counter\n",
    "Counter(y_train)"
   ]
  },
  {
   "cell_type": "markdown",
   "metadata": {},
   "source": [
    "<br>\n"
   ]
  },
  {
   "cell_type": "markdown",
   "metadata": {},
   "source": [
    "# **Logistic Regression**"
   ]
  },
  {
   "cell_type": "code",
   "execution_count": 95,
   "metadata": {},
   "outputs": [
    {
     "name": "stdout",
     "output_type": "stream",
     "text": [
      "Accuracy :  0.6247777777777778\n"
     ]
    }
   ],
   "source": [
    "clf = LogisticRegression(solver = 'newton-cg',\n",
    "                         multi_class = 'multinomial')\n",
    "\n",
    "\n",
    "clf.fit(X_train, y_train)\n",
    "y_pred = clf.predict(X_test)\n",
    "\n",
    "print('Accuracy : ', accuracy_score(y_pred, y_test))"
   ]
  },
  {
   "cell_type": "markdown",
   "metadata": {},
   "source": [
    "<br>\n",
    "\n"
   ]
  },
  {
   "cell_type": "markdown",
   "metadata": {},
   "source": [
    "# **Decision Tree**"
   ]
  },
  {
   "cell_type": "markdown",
   "metadata": {},
   "source": [
    "Decision Tree 모델은 feature들이 각각 의미있는 변수들이면서, 독립적으로 사용될 수 있을 때 유용한 방법이다.\n",
    "\n",
    "\n",
    "각 변수별로 적절한 기준선을 찾아 공간을 나누기 때문.\n",
    "\n",
    "따라서 Doc2Vec과 같이 좌표평면상에서 벡터의 위치가 아무런 의미가 없는 경우, 학습 효과가 현저하게 떨어진다."
   ]
  },
  {
   "cell_type": "code",
   "execution_count": 68,
   "metadata": {},
   "outputs": [],
   "source": [
    "from sklearn.metrics import accuracy_score\n",
    "from sklearn.tree import DecisionTreeClassifier"
   ]
  },
  {
   "cell_type": "code",
   "execution_count": 69,
   "metadata": {},
   "outputs": [
    {
     "name": "stdout",
     "output_type": "stream",
     "text": [
      "Accuracy :  0.6953333333333334\n"
     ]
    }
   ],
   "source": [
    "clf = DecisionTreeClassifier()\n",
    "\n",
    "clf.fit(X_train, y_train)\n",
    "y_pred = clf.predict(X_test)\n",
    "\n",
    "print('Accuracy : ', accuracy_score(y_pred, y_test))"
   ]
  },
  {
   "cell_type": "markdown",
   "metadata": {},
   "source": [
    "<br>\n",
    "\n"
   ]
  },
  {
   "cell_type": "markdown",
   "metadata": {},
   "source": [
    "# **RandomForestClassifier**"
   ]
  },
  {
   "cell_type": "code",
   "execution_count": 70,
   "metadata": {},
   "outputs": [],
   "source": [
    "from sklearn.ensemble import RandomForestClassifier"
   ]
  },
  {
   "cell_type": "code",
   "execution_count": 71,
   "metadata": {},
   "outputs": [
    {
     "name": "stdout",
     "output_type": "stream",
     "text": [
      "Accuracy :  0.7933333333333333\n"
     ]
    }
   ],
   "source": [
    "clf = RandomForestClassifier(n_estimators=100,  n_jobs = -1)\n",
    "clf.fit(X_train, y_train)\n",
    "y_pred = clf.predict(X_test)\n",
    "    \n",
    "print('Accuracy : ', accuracy_score(y_pred, y_test))"
   ]
  },
  {
   "cell_type": "markdown",
   "metadata": {},
   "source": [
    "<br>\n",
    "\n"
   ]
  },
  {
   "cell_type": "markdown",
   "metadata": {},
   "source": [
    "# **Neural Net**"
   ]
  },
  {
   "cell_type": "code",
   "execution_count": 72,
   "metadata": {},
   "outputs": [],
   "source": [
    "from sklearn.metrics import confusion_matrix\n",
    "import tensorflow as tf"
   ]
  },
  {
   "cell_type": "markdown",
   "metadata": {},
   "source": [
    "## **Data Preprocessing**"
   ]
  },
  {
   "cell_type": "code",
   "execution_count": 73,
   "metadata": {},
   "outputs": [],
   "source": [
    "X_train_nn = np.array(X_train).astype('float32')\n",
    "y_train_nn = pd.get_dummies(y_train).values.astype('float32')\n",
    "\n",
    "\n",
    "X_test_nn = np.array(X_test).astype('float32')\n",
    "y_test_nn = pd.get_dummies(y_test).values.astype('float32')"
   ]
  },
  {
   "cell_type": "code",
   "execution_count": 74,
   "metadata": {},
   "outputs": [
    {
     "name": "stdout",
     "output_type": "stream",
     "text": [
      "(300, 100) (300, 3) (3000, 100) (3000, 3)\n"
     ]
    }
   ],
   "source": [
    "print(X_train_nn.shape, y_train_nn.shape, X_test_nn.shape, y_test_nn.shape)"
   ]
  },
  {
   "cell_type": "markdown",
   "metadata": {},
   "source": [
    "## **Build Layers**"
   ]
  },
  {
   "cell_type": "code",
   "execution_count": 88,
   "metadata": {},
   "outputs": [],
   "source": [
    "# reset graphs\n",
    "tf.reset_default_graph() \n",
    "\n",
    "# mini-batches\n",
    "batch_size = X_train_nn.shape[0] // 5\n",
    "dataset = tf.data.Dataset.from_tensor_slices((X_train_nn, y_train_nn))\n",
    "dataset = dataset.batch(batch_size)\n",
    "\n",
    "# building placeholder\n",
    "X = tf.placeholder(tf.float32, shape = [None, nlp.Doc2Vec_model.vector_size])\n",
    "Y = tf.placeholder(tf.float32, shape = [None, n_class])\n",
    "keep_prob = tf.placeholder(tf.float32)\n",
    "\n",
    "# building layers\n",
    "n_neuron = 100\n",
    "\n",
    "W1 = tf.get_variable('W1', shape = ([nlp.Doc2Vec_model.vector_size, n_neuron]), initializer = tf.contrib.layers.xavier_initializer())\n",
    "W2 = tf.get_variable('W2', shape = ([n_neuron, n_neuron]), initializer = tf.contrib.layers.xavier_initializer())\n",
    "W3 = tf.get_variable('W3', shape = ([n_neuron, n_neuron]), initializer = tf.contrib.layers.xavier_initializer())\n",
    "W4 = tf.get_variable('W4', shape = ([n_neuron, n_neuron]), initializer = tf.contrib.layers.xavier_initializer())\n",
    "W5 = tf.get_variable('W5', shape = ([n_neuron, n_class]), initializer = tf.contrib.layers.xavier_initializer())\n",
    "\n",
    "b1 = tf.Variable(tf.random_normal([n_neuron]))\n",
    "b2 = tf.Variable(tf.random_normal([n_neuron]))\n",
    "b3 = tf.Variable(tf.random_normal([n_neuron]))\n",
    "b4 = tf.Variable(tf.random_normal([n_neuron]))\n",
    "b5 = tf.Variable(tf.random_normal([n_class]))\n",
    "\n",
    "L1 = tf.nn.relu(tf.matmul(X,W1) + b1)\n",
    "L1 = tf.nn.dropout(L1, keep_prob = keep_prob)\n",
    "\n",
    "L2 = tf.nn.relu(tf.matmul(L1,W2) + b2)\n",
    "L2 = tf.nn.dropout(L2, keep_prob = keep_prob)\n",
    "\n",
    "L3 = tf.nn.relu(tf.matmul(L2,W3) + b3)\n",
    "L3 = tf.nn.dropout(L3, keep_prob = keep_prob)\n",
    "\n",
    "L4 = tf.nn.relu(tf.matmul(L3,W4) + b4)\n",
    "L4 = tf.nn.dropout(L4, keep_prob = keep_prob)\n",
    "\n",
    "logit = tf.matmul(L4,W5) + b5\n",
    "hypothesis = tf.nn.softmax(tf.matmul(L4,W5) + b5)\n",
    "\n",
    "\n",
    "# cost : cross - entropy cost \n",
    "lamb = 0.0001\n",
    "cost = tf.reduce_mean(tf.nn.softmax_cross_entropy_with_logits_v2(logits = logit, labels = Y)) + lamb * tf.reduce_sum(tf.square(W5))\n",
    "\n",
    "# optimize\n",
    "learning_rate = 0.0001\n",
    "train = tf.train.AdamOptimizer(learning_rate = learning_rate).minimize(cost)\n",
    "\n",
    "# prediction\n",
    "prediction = tf.argmax(hypothesis,1)\n",
    "accuracy = tf.reduce_mean(tf.cast(tf.equal(tf.argmax(Y,1), prediction), dtype= tf.float32))\n",
    "\n",
    "\n",
    "\n",
    "# restore results\n",
    "train_cost_list = []\n",
    "train_acc_list = []\n",
    "\n",
    "test_cost_list = []\n",
    "test_acc_list = []\n"
   ]
  },
  {
   "cell_type": "markdown",
   "metadata": {},
   "source": [
    "# **Run**"
   ]
  },
  {
   "cell_type": "markdown",
   "metadata": {},
   "source": [
    "### **mini-batch**"
   ]
  },
  {
   "cell_type": "code",
   "execution_count": 89,
   "metadata": {},
   "outputs": [
    {
     "name": "stdout",
     "output_type": "stream",
     "text": [
      "Epoch : 100 cost : 0.7566189\n",
      "Accuracy : 0.64633334\n",
      "Epoch : 200 cost : 0.66327316\n",
      "Accuracy : 0.72433335\n",
      "Epoch : 300 cost : 0.6461452\n",
      "Accuracy : 0.7553333\n",
      "Epoch : 400 cost : 0.6432798\n",
      "Accuracy : 0.7686667\n",
      "Epoch : 500 cost : 0.6409908\n",
      "Accuracy : 0.7726667\n",
      "Epoch : 600 cost : 0.6374331\n",
      "Accuracy : 0.779\n",
      "Epoch : 700 cost : 0.6405602\n",
      "Accuracy : 0.78333336\n",
      "Epoch : 800 cost : 0.65201515\n",
      "Accuracy : 0.785\n",
      "Epoch : 900 cost : 0.66087264\n",
      "Accuracy : 0.7876667\n",
      "Epoch : 1000 cost : 0.6706369\n",
      "Accuracy : 0.78933334\n"
     ]
    }
   ],
   "source": [
    "# train_dict = {X: X_train, Y: y_train}\n",
    "test_dict = {X: X_test_nn, Y: y_test_nn, keep_prob : 1}\n",
    "\n",
    "training_epochs = 500\n",
    "\n",
    "iterator = dataset.make_initializable_iterator()\n",
    "f, l = iterator.get_next()\n",
    "\n",
    "# launch graph\n",
    "with tf.Session() as sess:\n",
    "    sess.run(tf.global_variables_initializer())    \n",
    "    \n",
    "    \n",
    "    for epoch in range(training_epochs):\n",
    "        # iterator initialize\n",
    "        sess.run(iterator.initializer)\n",
    "        avg_cost = 0\n",
    "\n",
    "        while True:\n",
    "            # mini-batch\n",
    "            try:\n",
    "                batch_x,  batch_y = sess.run([f, l])\n",
    "                feed_dict = {X : batch_x, Y: batch_y, keep_prob : 0.7}\n",
    "                \n",
    "                c, _ = sess.run([cost, train], feed_dict = feed_dict)\n",
    "                avg_cost += c\n",
    "            \n",
    "            except tf.errors.OutOfRangeError:\n",
    "                    break\n",
    "        \n",
    "        acc, y_pred, test_cost = sess.run([accuracy, prediction, cost], feed_dict = test_dict)\n",
    "        \n",
    "        train_cost_list.append(avg_cost)\n",
    "        test_cost_list.append(test_cost)\n",
    "            \n",
    "        if (epoch+1) % (100) == 0 :\n",
    "            \n",
    "            test_acc_list.append(acc)\n",
    "            \n",
    "            print('Epoch : %s'%(epoch+1), 'cost :',test_cost)\n",
    "            print('Accuracy :', acc)\n",
    "        #print(sess.run(tf.confusion_matrix(labels = tf.reshape(Y, [-1]), predictions = tf.reshape(y_pred, [-1])), feed_dict = test_dict))\n"
   ]
  },
  {
   "cell_type": "markdown",
   "metadata": {},
   "source": [
    " "
   ]
  },
  {
   "cell_type": "markdown",
   "metadata": {},
   "source": [
    " "
   ]
  },
  {
   "cell_type": "markdown",
   "metadata": {},
   "source": [
    " "
   ]
  },
  {
   "cell_type": "code",
   "execution_count": 91,
   "metadata": {},
   "outputs": [
    {
     "data": {
      "text/plain": [
       "<matplotlib.legend.Legend at 0x7fafbb69d518>"
      ]
     },
     "execution_count": 91,
     "metadata": {},
     "output_type": "execute_result"
    },
    {
     "data": {
      "image/png": "[encoded data removed]",
      "text/plain": [
       "<Figure size 864x432 with 1 Axes>"
      ]
     },
     "metadata": {},
     "output_type": "display_data"
    }
   ],
   "source": [
    "plt.figure(figsize = (12,6))\n",
    "plt.plot(train_cost_list, label = 'train_cost')\n",
    "plt.plot(test_cost_list, label = 'test_cost')\n",
    "plt.legend(loc = 'best')"
   ]
  }
 ],
 "metadata": {
  "kernelspec": {
   "display_name": "fininsight_python_3.5",
   "language": "python",
   "name": "fininsight_python3.5"
  },
  "language_info": {
   "codemirror_mode": {
    "name": "ipython",
    "version": 3
   },
   "file_extension": ".py",
   "mimetype": "text/x-python",
   "name": "python",
   "nbconvert_exporter": "python",
   "pygments_lexer": "ipython3",
   "version": "3.5.5"
  }
 },
 "nbformat": 4,
 "nbformat_minor": 2
}
