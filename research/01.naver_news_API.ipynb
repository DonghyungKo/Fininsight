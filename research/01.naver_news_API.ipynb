{
 "cells": [
  {
   "cell_type": "code",
   "execution_count": 20,
   "metadata": {},
   "outputs": [],
   "source": [
    "import os\n",
    "import sys\n",
    "import urllib.request\n",
    "import json\n",
    "\n",
    "client_id = \"i2MHWFeRfbrGcMe0g2Rm\"\n",
    "client_secret = \"\"\n",
    "encText = urllib.parse.quote(\"삼성전자\")\n",
    "\n",
    "url = \"https://openapi.naver.com/v1/search/news.json?query=%s&sorte=date&display=5&start=3\"%encText\n",
    "\n",
    "request = urllib.request.Request(url)\n",
    "request.add_header(\"X-Naver-Client-Id\",client_id)\n",
    "request.add_header(\"X-Naver-Client-Secret\",client_secret)\n",
    "response = urllib.request.urlopen(request)\n",
    "rescode = response.getcode()\n",
    "\n",
    "if(rescode==200):\n",
    "    response_body = response.read()\n",
    "    result_dict = json.loads(response_body.decode('utf-8'))\n",
    "\n",
    "else:\n",
    "    print(\"Error Code:\" + rescode)"
   ]
  },
  {
   "cell_type": "code",
   "execution_count": 19,
   "metadata": {},
   "outputs": [
    {
     "data": {
      "text/plain": [
       "{'display': 5,\n",
       " 'items': [{'description': '반면, ‘대장주’ <b>삼성전자</b>(-0.34%)를 비롯해 현대차(-0.43%), KB금융(-0.58%) 등은 약세 마감했다. 코스닥지수는 전날보다 9.14포인트(1.25%) 오른 740.48로 장을 마감했다. 지수는 나스닥 급락 등 영향으로 전날보다... ',\n",
       "   'link': 'http://daily.hankooki.com/lpage/economy/201810/dh20181019163949138110.htm',\n",
       "   'originallink': 'http://daily.hankooki.com/lpage/economy/201810/dh20181019163949138110.htm',\n",
       "   'pubDate': 'Fri, 19 Oct 2018 16:40:00 +0900',\n",
       "   'title': \"[시황]코스피, 연저점 후 기관 '사자'세에 반등…2150선 회복\"},\n",
       "  {'description': '■ <b>삼성전자</b>, 향후 5년간 500개 스타트업 지원 <b>삼성전자</b>가 향후 5년간 500개 사내외 스타트업을 지원한다. 이 중 올해 지원할 15곳을 17일 공개했다. 분야는 인공지능(AI), ·헬스, VR·AR, 핀테크, 로봇, 카메라 등으로... ',\n",
       "   'link': 'https://byline.network/?p=21495',\n",
       "   'originallink': 'https://byline.network/?p=21495',\n",
       "   'pubDate': 'Fri, 19 Oct 2018 16:40:00 +0900',\n",
       "   'title': '[일주일 스타트업 동향] <b>삼성전자</b>, 향후 5년간 500개 스타트업 지원 外'},\n",
       "  {'description': '조은정 서울대학교 가정관리학과를 졸업하고 동 대학원에서 소비자학 박사 학위를 받은 후 1995년 <b>삼성</b>그룹 소비자문화원에 입사해 22년간 <b>삼성전자</b> 글로벌마케팅 연구소장, 프린팅사업부 마케팅그룹장 등 <b>삼성전자</b>의... ',\n",
       "   'link': 'https://news.naver.com/main/read.nhn?mode=LSD&mid=sec&sid1=102&oid=310&aid=0000068916',\n",
       "   'originallink': 'http://www.womennews.co.kr/news/145140',\n",
       "   'pubDate': 'Fri, 19 Oct 2018 16:39:00 +0900',\n",
       "   'title': '“감사합니다”는 도와준 사람의 상사에게!!!'},\n",
       "  {'description': '당시 제일모직은 <b>삼성</b>바이오 지분이 많았고, <b>삼성</b>물산은 <b>삼성전자</b> 주식을 4% 이상 보유했다. 제일모직 지분을 많이 가진 이재용 부회장 등 총수일가는 제일모직이 고평가될수록, <b>삼성전자</b> 주식을 가진 통합 <b>삼성</b>물산의... ',\n",
       "   'link': 'https://news.naver.com/main/read.nhn?mode=LSD&mid=sec&sid1=101&oid=028&aid=0002429153',\n",
       "   'originallink': 'http://www.hani.co.kr/arti/economy/finance/866573.html',\n",
       "   'pubDate': 'Fri, 19 Oct 2018 16:35:00 +0900',\n",
       "   'title': '‘<b>삼성</b>바이오 회계문제’ 증선위, 감리위 건너뛰고 상정'},\n",
       "  {'description': '시가총액 상위종목 중 <b>삼성전자</b>가 약보합으로 마감한 것을 제외하고 SK하이닉스, 셀트리온, <b>삼성</b>바이오로직스, 포스코 등 대형주들이 일제히 상승하며 지수를 이끌었다. 한국거래소에 따르면 이날... ',\n",
       "   'link': 'http://www.choicenews.co.kr/news/articleView.html?idxno=45332',\n",
       "   'originallink': 'http://www.choicenews.co.kr/news/articleView.html?idxno=45332',\n",
       "   'pubDate': 'Fri, 19 Oct 2018 16:35:00 +0900',\n",
       "   'title': \"中증시 뛰자 코스피도 '안도'...SK하이닉스 · 셀트리온 껑충 vs 정유 · 화장...\"}],\n",
       " 'lastBuildDate': 'Fri, 19 Oct 2018 16:43:37 +0900',\n",
       " 'start': 1,\n",
       " 'total': 4545935}"
      ]
     },
     "execution_count": 19,
     "metadata": {},
     "output_type": "execute_result"
    }
   ],
   "source": [
    "result_dict"
   ]
  },
  {
   "cell_type": "code",
   "execution_count": 21,
   "metadata": {},
   "outputs": [
    {
     "data": {
      "text/plain": [
       "{'display': 5,\n",
       " 'items': [{'description': '■ <b>삼성전자</b>, 향후 5년간 500개 스타트업 지원 <b>삼성전자</b>가 향후 5년간 500개 사내외 스타트업을 지원한다. 이 중 올해 지원할 15곳을 17일 공개했다. 분야는 인공지능(AI), ·헬스, VR·AR, 핀테크, 로봇, 카메라 등으로... ',\n",
       "   'link': 'https://byline.network/?p=21495',\n",
       "   'originallink': 'https://byline.network/?p=21495',\n",
       "   'pubDate': 'Fri, 19 Oct 2018 16:40:00 +0900',\n",
       "   'title': '[일주일 스타트업 동향] <b>삼성전자</b>, 향후 5년간 500개 스타트업 지원 外'},\n",
       "  {'description': '조은정 서울대학교 가정관리학과를 졸업하고 동 대학원에서 소비자학 박사 학위를 받은 후 1995년 <b>삼성</b>그룹 소비자문화원에 입사해 22년간 <b>삼성전자</b> 글로벌마케팅 연구소장, 프린팅사업부 마케팅그룹장 등 <b>삼성전자</b>의... ',\n",
       "   'link': 'https://news.naver.com/main/read.nhn?mode=LSD&mid=sec&sid1=102&oid=310&aid=0000068916',\n",
       "   'originallink': 'http://www.womennews.co.kr/news/145140',\n",
       "   'pubDate': 'Fri, 19 Oct 2018 16:39:00 +0900',\n",
       "   'title': '“감사합니다”는 도와준 사람의 상사에게!!!'},\n",
       "  {'description': '당시 제일모직은 <b>삼성</b>바이오 지분이 많았고, <b>삼성</b>물산은 <b>삼성전자</b> 주식을 4% 이상 보유했다. 제일모직 지분을 많이 가진 이재용 부회장 등 총수일가는 제일모직이 고평가될수록, <b>삼성전자</b> 주식을 가진 통합 <b>삼성</b>물산의... ',\n",
       "   'link': 'https://news.naver.com/main/read.nhn?mode=LSD&mid=sec&sid1=101&oid=028&aid=0002429153',\n",
       "   'originallink': 'http://www.hani.co.kr/arti/economy/finance/866573.html',\n",
       "   'pubDate': 'Fri, 19 Oct 2018 16:35:00 +0900',\n",
       "   'title': '‘<b>삼성</b>바이오 회계문제’ 증선위, 감리위 건너뛰고 상정'},\n",
       "  {'description': '시가총액 상위종목 중 <b>삼성전자</b>가 약보합으로 마감한 것을 제외하고 SK하이닉스, 셀트리온, <b>삼성</b>바이오로직스, 포스코 등 대형주들이 일제히 상승하며 지수를 이끌었다. 한국거래소에 따르면 이날... ',\n",
       "   'link': 'http://www.choicenews.co.kr/news/articleView.html?idxno=45332',\n",
       "   'originallink': 'http://www.choicenews.co.kr/news/articleView.html?idxno=45332',\n",
       "   'pubDate': 'Fri, 19 Oct 2018 16:35:00 +0900',\n",
       "   'title': \"中증시 뛰자 코스피도 '안도'...SK하이닉스 · 셀트리온 껑충 vs 정유 · 화장...\"},\n",
       "  {'description': '경기도 용인시 <b>삼성전자</b>서비스 경원지사. 사진=연합뉴스  <b>삼성전자</b>(005930)서비스가 고객상담서비스(CS) 전문 자회사를 설립해 콜센터 직원 1000명을 고용한다. 19일 <b>삼성전자</b>에 따르면 <b>삼성전자</b>서비스는 최근 이사회를... ',\n",
       "   'link': 'https://news.naver.com/main/read.nhn?mode=LSD&mid=sec&sid1=101&oid=018&aid=0004228887',\n",
       "   'originallink': 'http://www.edaily.co.kr/news/newspath.asp?newsid=03391526619374560',\n",
       "   'pubDate': 'Fri, 19 Oct 2018 16:34:00 +0900',\n",
       "   'title': '<b>삼성전자</b>서비스, 콜센터 자회사 설립'}],\n",
       " 'lastBuildDate': 'Fri, 19 Oct 2018 16:44:02 +0900',\n",
       " 'start': 3,\n",
       " 'total': 4542255}"
      ]
     },
     "execution_count": 21,
     "metadata": {},
     "output_type": "execute_result"
    }
   ],
   "source": [
    "result_dict"
   ]
  },
  {
   "cell_type": "code",
   "execution_count": null,
   "metadata": {},
   "outputs": [],
   "source": []
  }
 ],
 "metadata": {
  "kernelspec": {
   "display_name": "Python 3",
   "language": "python",
   "name": "python3"
  },
  "language_info": {
   "codemirror_mode": {
    "name": "ipython",
    "version": 3
   },
   "file_extension": ".py",
   "mimetype": "text/x-python",
   "name": "python",
   "nbconvert_exporter": "python",
   "pygments_lexer": "ipython3",
   "version": "3.6.4"
  }
 },
 "nbformat": 4,
 "nbformat_minor": 2
}
