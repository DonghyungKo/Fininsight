{
 "cells": [
  {
   "cell_type": "code",
   "execution_count": 1,
   "metadata": {},
   "outputs": [],
   "source": [
    "# unset PYTHONPATH first\n",
    "from ko_text import *\n",
    "from ko_crawler import *"
   ]
  },
  {
   "cell_type": "code",
   "execution_count": 2,
   "metadata": {},
   "outputs": [],
   "source": [
    "nlp = NLP()"
   ]
  },
  {
   "cell_type": "markdown",
   "metadata": {},
   "source": [
    "### Morphs "
   ]
  },
  {
   "cell_type": "code",
   "execution_count": 3,
   "metadata": {},
   "outputs": [],
   "source": [
    "train_df = pd.read_csv('Data/morphs/train_df_morphs.csv',\n",
    "                       usecols = ['Token','Section'],\n",
    "                       dtype = {'Section' : 'category'},\n",
    "                       converters = {'Token' : ast.literal_eval},\n",
    "                     )\n",
    "\n",
    "test_df = pd.read_csv('Data/morphs/test_df_morphs.csv',\n",
    "                       usecols = ['Token','Section'],\n",
    "                       dtype = {'Section' : 'category'},\n",
    "                       converters = {'Token' : ast.literal_eval},\n",
    "                     )"
   ]
  },
  {
   "cell_type": "markdown",
   "metadata": {},
   "source": [
    "### Nouns "
   ]
  },
  {
   "cell_type": "code",
   "execution_count": 3,
   "metadata": {},
   "outputs": [],
   "source": [
    "train_df = pd.read_csv('Data/nouns/train_df_nouns.csv',\n",
    "                       usecols = ['Token','Section'],\n",
    "                       dtype = {'Section' : 'category'},\n",
    "                       converters = {'Token' : ast.literal_eval},\n",
    "                     )\n",
    "\n",
    "test_df = pd.read_csv('Data/nouns/test_df_nouns.csv',\n",
    "                       usecols = ['Token','Section'],\n",
    "                       dtype = {'Section' : 'category'},\n",
    "                       converters = {'Token' : ast.literal_eval},\n",
    "                     )"
   ]
  },
  {
   "cell_type": "markdown",
   "metadata": {},
   "source": [
    "## **제목만 있고 특수 문자를 제거하면 기사 내용이 전혀 없는 뉴스도 존재**"
   ]
  },
  {
   "cell_type": "markdown",
   "metadata": {},
   "source": [
    "#### 내용이 없는 뉴스들은 제거한다"
   ]
  },
  {
   "cell_type": "code",
   "execution_count": 4,
   "metadata": {},
   "outputs": [],
   "source": [
    "none_idx_ls = []\n",
    "for idx, token in enumerate(train_df['Token']):\n",
    "    if not token:\n",
    "        none_idx_ls.append(idx)        "
   ]
  },
  {
   "cell_type": "code",
   "execution_count": 5,
   "metadata": {},
   "outputs": [
    {
     "data": {
      "text/plain": [
       "2124"
      ]
     },
     "execution_count": 5,
     "metadata": {},
     "output_type": "execute_result"
    }
   ],
   "source": [
    "len(none_idx_ls)"
   ]
  },
  {
   "cell_type": "code",
   "execution_count": 6,
   "metadata": {},
   "outputs": [],
   "source": [
    "train_df.drop(none_idx_ls, inplace = True)"
   ]
  },
  {
   "cell_type": "markdown",
   "metadata": {},
   "source": [
    " "
   ]
  },
  {
   "cell_type": "markdown",
   "metadata": {},
   "source": [
    "#### **Test_df 도 동일하게 제거해줌**"
   ]
  },
  {
   "cell_type": "code",
   "execution_count": 7,
   "metadata": {},
   "outputs": [],
   "source": [
    "none_idx_ls = []\n",
    "\n",
    "for idx, token in enumerate(test_df['Token']):\n",
    "    if not token:\n",
    "        none_idx_ls.append(idx)"
   ]
  },
  {
   "cell_type": "code",
   "execution_count": 10,
   "metadata": {},
   "outputs": [
    {
     "data": {
      "text/plain": [
       "396"
      ]
     },
     "execution_count": 10,
     "metadata": {},
     "output_type": "execute_result"
    }
   ],
   "source": [
    "len(none_idx_ls)"
   ]
  },
  {
   "cell_type": "code",
   "execution_count": null,
   "metadata": {},
   "outputs": [],
   "source": [
    "test_df.drop(none_idx_ls, inplace= True)"
   ]
  },
  {
   "cell_type": "markdown",
   "metadata": {},
   "source": [
    "# 뉴스 기사가 짧은 경우도 존재"
   ]
  },
  {
   "cell_type": "code",
   "execution_count": 12,
   "metadata": {},
   "outputs": [],
   "source": [
    "train_df['Num of Tokens'] = [len(token) for token in train_df['Token']]\n",
    "test_df['Num of Tokens'] = [len(token) for token in test_df['Token']]"
   ]
  },
  {
   "cell_type": "markdown",
   "metadata": {},
   "source": [
    "#### 뉴스 기사에 토큰이 하나 밖에 없는 경우도 존재함"
   ]
  },
  {
   "cell_type": "code",
   "execution_count": 13,
   "metadata": {},
   "outputs": [
    {
     "data": {
      "text/plain": [
       "count    87876.000000\n",
       "mean       209.709921\n",
       "std        157.452864\n",
       "min          1.000000\n",
       "25%        112.000000\n",
       "50%        176.000000\n",
       "75%        268.000000\n",
       "max       4327.000000\n",
       "Name: Num of Tokens, dtype: float64"
      ]
     },
     "execution_count": 13,
     "metadata": {},
     "output_type": "execute_result"
    }
   ],
   "source": [
    "train_df['Num of Tokens'].describe()"
   ]
  },
  {
   "cell_type": "code",
   "execution_count": 14,
   "metadata": {},
   "outputs": [
    {
     "data": {
      "text/plain": [
       "count    22103.000000\n",
       "mean       207.830430\n",
       "std        155.140838\n",
       "min          1.000000\n",
       "25%        113.000000\n",
       "50%        177.000000\n",
       "75%        263.000000\n",
       "max       4140.000000\n",
       "Name: Num of Tokens, dtype: float64"
      ]
     },
     "execution_count": 14,
     "metadata": {},
     "output_type": "execute_result"
    }
   ],
   "source": [
    "test_df['Num of Tokens'].describe()"
   ]
  },
  {
   "cell_type": "markdown",
   "metadata": {},
   "source": [
    "#### 토큰의 수가 50개 이하인 기사는 전체의 5.5% 수준"
   ]
  },
  {
   "cell_type": "code",
   "execution_count": 37,
   "metadata": {},
   "outputs": [
    {
     "data": {
      "text/plain": [
       "0.055908325367563384"
      ]
     },
     "execution_count": 37,
     "metadata": {},
     "output_type": "execute_result"
    }
   ],
   "source": [
    "np.sum([train_df['Num of Tokens'] <= 50]) / len(train_df)"
   ]
  },
  {
   "cell_type": "markdown",
   "metadata": {},
   "source": [
    "#### 토큰이 50개인 기사의 길이는 대략 2줄 정도"
   ]
  },
  {
   "cell_type": "code",
   "execution_count": 27,
   "metadata": {},
   "outputs": [
    {
     "data": {
      "text/plain": [
       "'농협 은행 추석 연휴 맞아 현금 유가 증권 귀중 이용 수수료 없이 보관 해주는 서비스 운영 한다고 밝혔다 서비스 오는 전국 영업 에서 실시 한다 가까운 영업 금고 남아있는지와 보호 예수 절차 문의 하고 이용 하면 된다 자세한 내용 농협 인터넷 뱅킹 홈페이지 영업 고객 행복 센터 문의 하면 된다'"
      ]
     },
     "execution_count": 27,
     "metadata": {},
     "output_type": "execute_result"
    }
   ],
   "source": [
    "' '.join(train_df[train_df['Num of Tokens'] == 50].iloc[100].tolist()[0])"
   ]
  },
  {
   "cell_type": "markdown",
   "metadata": {},
   "source": [
    " "
   ]
  },
  {
   "cell_type": "markdown",
   "metadata": {},
   "source": [
    "#### 토큰의 수가 100개 미만인 기사는 전체의 20% 수준"
   ]
  },
  {
   "cell_type": "code",
   "execution_count": 32,
   "metadata": {},
   "outputs": [
    {
     "data": {
      "text/plain": [
       "0.053473075697573855"
      ]
     },
     "execution_count": 32,
     "metadata": {},
     "output_type": "execute_result"
    }
   ],
   "source": [
    "np.sum([train_df['Num of Tokens'] < 50]) / len(train_df)"
   ]
  },
  {
   "cell_type": "markdown",
   "metadata": {},
   "source": [
    "#### 토큰이 50개인 기사의 길이는 대략 2줄 정도"
   ]
  },
  {
   "cell_type": "code",
   "execution_count": 35,
   "metadata": {},
   "outputs": [
    {
     "data": {
      "text/plain": [
       "'┬┬┬ 매매 기준 매매 기준 미국 달러 뉴질랜드 달러 일본 홍콩 달러 유럽 통화 단위 유로 스웨덴 크로네 덴마크 크로네 노르웨이 크로네 사우디아라비아 리알 쿠웨이트 디나르 바레인 디나르 아랍에미리트 디르함 태국 바트 싱가포르 달러 영국 파운드 인도 루피 스위스 프랑 말레이시아 링깃 캐나다 달러 인도네시아 루피아 호주 달러 중국 위안'"
      ]
     },
     "execution_count": 35,
     "metadata": {},
     "output_type": "execute_result"
    }
   ],
   "source": [
    "' '.join(train_df[train_df['Num of Tokens'] == 50].iloc[102].tolist()[0])"
   ]
  },
  {
   "cell_type": "markdown",
   "metadata": {},
   "source": [
    " "
   ]
  },
  {
   "cell_type": "markdown",
   "metadata": {},
   "source": [
    "## 토큰의 수가 50개 이하인 기사는 표본에서 제거"
   ]
  },
  {
   "cell_type": "code",
   "execution_count": 38,
   "metadata": {},
   "outputs": [],
   "source": [
    "train_df = train_df[train_df['Num of Tokens'] > 50]\n",
    "test_df = test_df[test_df['Num of Tokens'] > 50]"
   ]
  },
  {
   "cell_type": "markdown",
   "metadata": {},
   "source": [
    " "
   ]
  },
  {
   "cell_type": "markdown",
   "metadata": {},
   "source": [
    " "
   ]
  },
  {
   "cell_type": "markdown",
   "metadata": {},
   "source": [
    " "
   ]
  },
  {
   "cell_type": "markdown",
   "metadata": {},
   "source": [
    "### 각 섹션 별로 남은 기사의 비율 체크"
   ]
  },
  {
   "cell_type": "markdown",
   "metadata": {},
   "source": [
    "체크한 결과 경제 기사가 문제가 많았던 것으로 확인 됨,\n",
    "\n",
    "약 25%의 기사에 문제가 있었음.."
   ]
  },
  {
   "cell_type": "code",
   "execution_count": 39,
   "metadata": {},
   "outputs": [
    {
     "data": {
      "text/plain": [
       "Counter({'IT과학': 9836,\n",
       "         '경제': 8050,\n",
       "         '국제': 9677,\n",
       "         '기업': 9604,\n",
       "         '문화': 9313,\n",
       "         '부동산': 9714,\n",
       "         '사회': 9325,\n",
       "         '정치': 8875,\n",
       "         '증권': 8569})"
      ]
     },
     "execution_count": 39,
     "metadata": {},
     "output_type": "execute_result"
    }
   ],
   "source": [
    "Counter(train_df['Section'])"
   ]
  },
  {
   "cell_type": "code",
   "execution_count": 41,
   "metadata": {},
   "outputs": [
    {
     "data": {
      "text/plain": [
       "Counter({'IT과학': 2471,\n",
       "         '경제': 1873,\n",
       "         '국제': 2422,\n",
       "         '기업': 2405,\n",
       "         '문화': 2310,\n",
       "         '부동산': 2451,\n",
       "         '사회': 2334,\n",
       "         '정치': 2307,\n",
       "         '증권': 2220})"
      ]
     },
     "execution_count": 41,
     "metadata": {},
     "output_type": "execute_result"
    }
   ],
   "source": [
    "Counter(test_df['Section'])"
   ]
  },
  {
   "cell_type": "markdown",
   "metadata": {},
   "source": [
    "### **저장 공간 절약을 위해, ['단어', '단어'] 꼴로 저장된 토큰을 '단어 단어' 꼴로 바꿔준다**"
   ]
  },
  {
   "cell_type": "code",
   "execution_count": 42,
   "metadata": {},
   "outputs": [],
   "source": [
    "train_df['Token'] = [' '.join(doc) for doc in train_df['Token']]\n",
    "test_df['Token'] = [' '.join(doc) for doc in test_df['Token']]"
   ]
  },
  {
   "cell_type": "code",
   "execution_count": 43,
   "metadata": {},
   "outputs": [
    {
     "data": {
      "text/plain": [
       "'농협 금융 지주 김광수 회장 서대문 본사 에서 농협 금융 자회사 대표 종합 경영 성과 분석 회의 했다고 밝혔다 회의 에서는 농협카드 농협 캐피탈 체질개선 질적 성장 방안 주로 논의 됐다 회장 농협카드 조직 효율 성과 인적 전문성 높이 독립 성과 평가 통해 책임 경영 체제 확립 라고 주문 했다 상품 고객 수익 분석 고도화 일반 카드 수준 경영 인프라 축하 라고 당부 했다 회장 농협 캐피탈 관련 해서는 산업 금융 건설 경기 악화 염두 두고 자산 건전성 개선 노력 어가 기업 금융 취급 부터 위험관리 철저히 해야 한다고 강조 했다 회장 연말 인사 에서는 업무 경력 직무 전문성 우선 고려 하겠다고 했다'"
      ]
     },
     "execution_count": 43,
     "metadata": {},
     "output_type": "execute_result"
    }
   ],
   "source": [
    "train_df['Token'][0]"
   ]
  },
  {
   "cell_type": "markdown",
   "metadata": {},
   "source": [
    "# morph"
   ]
  },
  {
   "cell_type": "code",
   "execution_count": 44,
   "metadata": {},
   "outputs": [],
   "source": [
    "train_df.to_csv('Data/train_morphs_final.csv', index = False)\n",
    "test_df.to_csv('Data/test_morphs_final.csv', index = False)"
   ]
  },
  {
   "cell_type": "markdown",
   "metadata": {},
   "source": [
    "# noun"
   ]
  },
  {
   "cell_type": "code",
   "execution_count": 23,
   "metadata": {},
   "outputs": [],
   "source": [
    "train_df.to_csv('Data/Train_nouns_final.csv', index = False)\n",
    "test_df.to_csv('Data/Test_nouns_final.csv', index = False)"
   ]
  }
 ],
 "metadata": {
  "kernelspec": {
   "display_name": "Python 3",
   "language": "python",
   "name": "python3"
  },
  "language_info": {
   "codemirror_mode": {
    "name": "ipython",
    "version": 3
   },
   "file_extension": ".py",
   "mimetype": "text/x-python",
   "name": "python",
   "nbconvert_exporter": "python",
   "pygments_lexer": "ipython3",
   "version": "3.5.5"
  }
 },
 "nbformat": 4,
 "nbformat_minor": 2
}
