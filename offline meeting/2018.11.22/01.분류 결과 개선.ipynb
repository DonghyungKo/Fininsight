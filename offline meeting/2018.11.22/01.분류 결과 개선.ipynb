{
 "cells": [
  {
   "cell_type": "markdown",
   "metadata": {},
   "source": [
    "# 분류 결과"
   ]
  },
  {
   "cell_type": "markdown",
   "metadata": {},
   "source": [
    "### [경제,기업] 기사를 제일 못맞춘다. 정확도가 50%수준..\n",
    "\n",
    "### 문화 기사와 부동산, 증권 기사는 잘 맞춘다. "
   ]
  },
  {
   "cell_type": "code",
   "execution_count": 19,
   "metadata": {},
   "outputs": [
    {
     "data": {
      "text/html": [
       "<div>\n",
       "<style scoped>\n",
       "    .dataframe tbody tr th:only-of-type {\n",
       "        vertical-align: middle;\n",
       "    }\n",
       "\n",
       "    .dataframe tbody tr th {\n",
       "        vertical-align: top;\n",
       "    }\n",
       "\n",
       "    .dataframe thead th {\n",
       "        text-align: right;\n",
       "    }\n",
       "</style>\n",
       "<table border=\"1\" class=\"dataframe\">\n",
       "  <thead>\n",
       "    <tr style=\"text-align: right;\">\n",
       "      <th></th>\n",
       "      <th>IT과학</th>\n",
       "      <th>경제</th>\n",
       "      <th>국제</th>\n",
       "      <th>기업</th>\n",
       "      <th>문화</th>\n",
       "      <th>부동산</th>\n",
       "      <th>사회</th>\n",
       "      <th>정치</th>\n",
       "      <th>증권</th>\n",
       "    </tr>\n",
       "  </thead>\n",
       "  <tbody>\n",
       "    <tr>\n",
       "      <th>IT과학</th>\n",
       "      <td>581</td>\n",
       "      <td>38</td>\n",
       "      <td>28</td>\n",
       "      <td>210</td>\n",
       "      <td>29</td>\n",
       "      <td>9</td>\n",
       "      <td>48</td>\n",
       "      <td>7</td>\n",
       "      <td>50</td>\n",
       "    </tr>\n",
       "    <tr>\n",
       "      <th>경제</th>\n",
       "      <td>59</td>\n",
       "      <td>493</td>\n",
       "      <td>50</td>\n",
       "      <td>114</td>\n",
       "      <td>10</td>\n",
       "      <td>35</td>\n",
       "      <td>47</td>\n",
       "      <td>26</td>\n",
       "      <td>166</td>\n",
       "    </tr>\n",
       "    <tr>\n",
       "      <th>국제</th>\n",
       "      <td>27</td>\n",
       "      <td>64</td>\n",
       "      <td>759</td>\n",
       "      <td>28</td>\n",
       "      <td>25</td>\n",
       "      <td>6</td>\n",
       "      <td>24</td>\n",
       "      <td>40</td>\n",
       "      <td>27</td>\n",
       "    </tr>\n",
       "    <tr>\n",
       "      <th>기업</th>\n",
       "      <td>191</td>\n",
       "      <td>80</td>\n",
       "      <td>21</td>\n",
       "      <td>497</td>\n",
       "      <td>30</td>\n",
       "      <td>15</td>\n",
       "      <td>62</td>\n",
       "      <td>19</td>\n",
       "      <td>85</td>\n",
       "    </tr>\n",
       "    <tr>\n",
       "      <th>문화</th>\n",
       "      <td>23</td>\n",
       "      <td>11</td>\n",
       "      <td>15</td>\n",
       "      <td>13</td>\n",
       "      <td>818</td>\n",
       "      <td>14</td>\n",
       "      <td>73</td>\n",
       "      <td>28</td>\n",
       "      <td>5</td>\n",
       "    </tr>\n",
       "    <tr>\n",
       "      <th>부동산</th>\n",
       "      <td>15</td>\n",
       "      <td>38</td>\n",
       "      <td>2</td>\n",
       "      <td>16</td>\n",
       "      <td>11</td>\n",
       "      <td>844</td>\n",
       "      <td>46</td>\n",
       "      <td>19</td>\n",
       "      <td>9</td>\n",
       "    </tr>\n",
       "    <tr>\n",
       "      <th>사회</th>\n",
       "      <td>44</td>\n",
       "      <td>35</td>\n",
       "      <td>18</td>\n",
       "      <td>46</td>\n",
       "      <td>36</td>\n",
       "      <td>45</td>\n",
       "      <td>715</td>\n",
       "      <td>50</td>\n",
       "      <td>11</td>\n",
       "    </tr>\n",
       "    <tr>\n",
       "      <th>정치</th>\n",
       "      <td>5</td>\n",
       "      <td>47</td>\n",
       "      <td>55</td>\n",
       "      <td>14</td>\n",
       "      <td>18</td>\n",
       "      <td>8</td>\n",
       "      <td>87</td>\n",
       "      <td>760</td>\n",
       "      <td>6</td>\n",
       "    </tr>\n",
       "    <tr>\n",
       "      <th>증권</th>\n",
       "      <td>50</td>\n",
       "      <td>50</td>\n",
       "      <td>4</td>\n",
       "      <td>59</td>\n",
       "      <td>3</td>\n",
       "      <td>10</td>\n",
       "      <td>3</td>\n",
       "      <td>0</td>\n",
       "      <td>821</td>\n",
       "    </tr>\n",
       "  </tbody>\n",
       "</table>\n",
       "</div>"
      ],
      "text/plain": [
       "      IT과학   경제   국제   기업   문화  부동산   사회   정치   증권\n",
       "IT과학   581   38   28  210   29    9   48    7   50\n",
       "경제      59  493   50  114   10   35   47   26  166\n",
       "국제      27   64  759   28   25    6   24   40   27\n",
       "기업     191   80   21  497   30   15   62   19   85\n",
       "문화      23   11   15   13  818   14   73   28    5\n",
       "부동산     15   38    2   16   11  844   46   19    9\n",
       "사회      44   35   18   46   36   45  715   50   11\n",
       "정치       5   47   55   14   18    8   87  760    6\n",
       "증권      50   50    4   59    3   10    3    0  821"
      ]
     },
     "execution_count": 19,
     "metadata": {},
     "output_type": "execute_result"
    }
   ],
   "source": [
    "result_df = pd.DataFrame(confusion_matrix(y_test, y_pred) ,\n",
    "                         index = sorted(train_df['Section'].unique()),\n",
    "                         columns = sorted(train_df['Section'].unique()))\n",
    "\n",
    "result_df"
   ]
  },
  {
   "cell_type": "markdown",
   "metadata": {},
   "source": [
    "#### 특징 1. IT과학 기사는 기업 기사와 가장 많이 혼동한다.\n",
    " - 예상 원인: 기업과 IT과학 기사에 기업의 이름이 너무 빈번하게 등장하기 때문..?\n",
    "\n"
   ]
  },
  {
   "cell_type": "markdown",
   "metadata": {},
   "source": [
    "#### 특징 2. 경제 기사는 [증권, 기업] 기사와 가장 많이 혼동한다.\n",
    " - 예상 원인:  비슷한 카테고리, 하지만 대부분 다 증권기사라고 분류해버림.. Doc2Vec에서 vector space에 잘 span하지 못했을 것?"
   ]
  },
  {
   "cell_type": "markdown",
   "metadata": {},
   "source": [
    "#### 특징 4. [증권 기업 경제]와 달리 [정치 사회] 기사는 유사한 카테고리임에도 정확도가 우수한 편에 속한다. \n",
    " - 예상 원인: ???"
   ]
  },
  {
   "cell_type": "markdown",
   "metadata": {},
   "source": [
    " "
   ]
  },
  {
   "cell_type": "markdown",
   "metadata": {},
   "source": [
    "## 너무 많은 수의 기사를 [사회, 증권] 기사라고 분류한다."
   ]
  },
  {
   "cell_type": "markdown",
   "metadata": {},
   "source": [
    "## 반대로　경제　기사는　오히려　다른　것으로　자꾸　분류해버림"
   ]
  },
  {
   "cell_type": "code",
   "execution_count": 20,
   "metadata": {},
   "outputs": [
    {
     "data": {
      "text/plain": [
       "IT과학     995\n",
       "경제       856\n",
       "국제       952\n",
       "기업       997\n",
       "문화       980\n",
       "부동산      986\n",
       "사회      1105\n",
       "정치       949\n",
       "증권      1180\n",
       "dtype: int64"
      ]
     },
     "execution_count": 20,
     "metadata": {},
     "output_type": "execute_result"
    }
   ],
   "source": [
    "result_df.sum(axis = 0)"
   ]
  },
  {
   "cell_type": "markdown",
   "metadata": {},
   "source": [
    "<br> \n"
   ]
  },
  {
   "cell_type": "markdown",
   "metadata": {},
   "source": [
    "## 각 기사의 토큰 수에 따른 분류 정확도"
   ]
  },
  {
   "cell_type": "code",
   "execution_count": 114,
   "metadata": {},
   "outputs": [
    {
     "data": {
      "text/html": [
       "<div>\n",
       "<style scoped>\n",
       "    .dataframe tbody tr th:only-of-type {\n",
       "        vertical-align: middle;\n",
       "    }\n",
       "\n",
       "    .dataframe tbody tr th {\n",
       "        vertical-align: top;\n",
       "    }\n",
       "\n",
       "    .dataframe thead th {\n",
       "        text-align: right;\n",
       "    }\n",
       "</style>\n",
       "<table border=\"1\" class=\"dataframe\">\n",
       "  <thead>\n",
       "    <tr style=\"text-align: right;\">\n",
       "      <th></th>\n",
       "      <th>Token의 수 n개 이상</th>\n",
       "      <th>Token의 수 n개 이하</th>\n",
       "      <th>경제</th>\n",
       "      <th>기업</th>\n",
       "      <th>사회</th>\n",
       "      <th>국제</th>\n",
       "      <th>부동산</th>\n",
       "      <th>증권</th>\n",
       "      <th>정치</th>\n",
       "      <th>IT과학</th>\n",
       "      <th>문화</th>\n",
       "    </tr>\n",
       "  </thead>\n",
       "  <tbody>\n",
       "    <tr>\n",
       "      <th>0</th>\n",
       "      <td>50</td>\n",
       "      <td>100</td>\n",
       "      <td>54.0 %</td>\n",
       "      <td>40.0 %</td>\n",
       "      <td>81.0 %</td>\n",
       "      <td>62.0 %</td>\n",
       "      <td>80.0 %</td>\n",
       "      <td>93.0 %</td>\n",
       "      <td>64.0 %</td>\n",
       "      <td>36.0 %</td>\n",
       "      <td>74.0 %</td>\n",
       "    </tr>\n",
       "    <tr>\n",
       "      <th>1</th>\n",
       "      <td>100</td>\n",
       "      <td>300</td>\n",
       "      <td>46.0 %</td>\n",
       "      <td>54.0 %</td>\n",
       "      <td>73.0 %</td>\n",
       "      <td>76.0 %</td>\n",
       "      <td>86.0 %</td>\n",
       "      <td>82.0 %</td>\n",
       "      <td>74.0 %</td>\n",
       "      <td>60.0 %</td>\n",
       "      <td>79.0 %</td>\n",
       "    </tr>\n",
       "    <tr>\n",
       "      <th>2</th>\n",
       "      <td>300</td>\n",
       "      <td>500</td>\n",
       "      <td>47.0 %</td>\n",
       "      <td>59.0 %</td>\n",
       "      <td>76.0 %</td>\n",
       "      <td>76.0 %</td>\n",
       "      <td>87.0 %</td>\n",
       "      <td>82.0 %</td>\n",
       "      <td>69.0 %</td>\n",
       "      <td>64.0 %</td>\n",
       "      <td>80.0 %</td>\n",
       "    </tr>\n",
       "    <tr>\n",
       "      <th>3</th>\n",
       "      <td>500</td>\n",
       "      <td>10000</td>\n",
       "      <td>49.0 %</td>\n",
       "      <td>59.0 %</td>\n",
       "      <td>73.0 %</td>\n",
       "      <td>74.0 %</td>\n",
       "      <td>88.0 %</td>\n",
       "      <td>82.0 %</td>\n",
       "      <td>71.0 %</td>\n",
       "      <td>63.0 %</td>\n",
       "      <td>81.0 %</td>\n",
       "    </tr>\n",
       "  </tbody>\n",
       "</table>\n",
       "</div>"
      ],
      "text/plain": [
       "   Token의 수 n개 이상  Token의 수 n개 이하      경제      기업      사회      국제     부동산  \\\n",
       "0              50             100  54.0 %  40.0 %  81.0 %  62.0 %  80.0 %   \n",
       "1             100             300  46.0 %  54.0 %  73.0 %  76.0 %  86.0 %   \n",
       "2             300             500  47.0 %  59.0 %  76.0 %  76.0 %  87.0 %   \n",
       "3             500           10000  49.0 %  59.0 %  73.0 %  74.0 %  88.0 %   \n",
       "\n",
       "       증권      정치    IT과학      문화  \n",
       "0  93.0 %  64.0 %  36.0 %  74.0 %  \n",
       "1  82.0 %  74.0 %  60.0 %  79.0 %  \n",
       "2  82.0 %  69.0 %  64.0 %  80.0 %  \n",
       "3  82.0 %  71.0 %  63.0 %  81.0 %  "
      ]
     },
     "execution_count": 114,
     "metadata": {},
     "output_type": "execute_result"
    }
   ],
   "source": [
    "pd.DataFrame(store_dict)"
   ]
  },
  {
   "cell_type": "markdown",
   "metadata": {},
   "source": [
    " "
   ]
  },
  {
   "cell_type": "markdown",
   "metadata": {},
   "source": [
    "#### 길이가 짧으면 **[증권, 사회]** 기사는 매우 잘 분류하는 반면, **[정치, IT과학, 국제]** 기사는 잘 분류하지 못한다."
   ]
  },
  {
   "cell_type": "markdown",
   "metadata": {},
   "source": [
    "#### 길이가 길어지면 반대가 됨!"
   ]
  },
  {
   "cell_type": "markdown",
   "metadata": {},
   "source": [
    "### **그 이유는, 문서 길이에 따라 문서의 카테고리를 다르게 추정해버리기 때문이라고 생각됨..!**"
   ]
  },
  {
   "cell_type": "markdown",
   "metadata": {},
   "source": [
    " "
   ]
  },
  {
   "cell_type": "markdown",
   "metadata": {},
   "source": [
    " "
   ]
  },
  {
   "cell_type": "markdown",
   "metadata": {},
   "source": [
    "#### 길이가 짧은 문서들은 전부 [증권, 사회] 기사로 분류해버리고, 길이가 긴 문서들은 [정치, 부동산, 문화] 기사로 분류하기 때문?"
   ]
  },
  {
   "cell_type": "markdown",
   "metadata": {},
   "source": [
    "# 왜 그럴까?"
   ]
  },
  {
   "cell_type": "markdown",
   "metadata": {},
   "source": [
    "# 각 카테고리 별, 토큰 길이의 평균은?"
   ]
  },
  {
   "cell_type": "code",
   "execution_count": 27,
   "metadata": {},
   "outputs": [
    {
     "data": {
      "text/html": [
       "<div>\n",
       "<style scoped>\n",
       "    .dataframe tbody tr th:only-of-type {\n",
       "        vertical-align: middle;\n",
       "    }\n",
       "\n",
       "    .dataframe tbody tr th {\n",
       "        vertical-align: top;\n",
       "    }\n",
       "\n",
       "    .dataframe thead th {\n",
       "        text-align: right;\n",
       "    }\n",
       "</style>\n",
       "<table border=\"1\" class=\"dataframe\">\n",
       "  <thead>\n",
       "    <tr style=\"text-align: right;\">\n",
       "      <th></th>\n",
       "      <th>count</th>\n",
       "      <th>mean</th>\n",
       "      <th>std</th>\n",
       "      <th>min</th>\n",
       "      <th>25%</th>\n",
       "      <th>50%</th>\n",
       "      <th>75%</th>\n",
       "      <th>max</th>\n",
       "    </tr>\n",
       "    <tr>\n",
       "      <th>Section</th>\n",
       "      <th></th>\n",
       "      <th></th>\n",
       "      <th></th>\n",
       "      <th></th>\n",
       "      <th></th>\n",
       "      <th></th>\n",
       "      <th></th>\n",
       "      <th></th>\n",
       "    </tr>\n",
       "  </thead>\n",
       "  <tbody>\n",
       "    <tr>\n",
       "      <th>IT과학</th>\n",
       "      <td>9836.0</td>\n",
       "      <td>228.367222</td>\n",
       "      <td>150.858785</td>\n",
       "      <td>51.0</td>\n",
       "      <td>133.0</td>\n",
       "      <td>191.0</td>\n",
       "      <td>279.0</td>\n",
       "      <td>2606.0</td>\n",
       "    </tr>\n",
       "    <tr>\n",
       "      <th>경제</th>\n",
       "      <td>8050.0</td>\n",
       "      <td>215.267702</td>\n",
       "      <td>144.405833</td>\n",
       "      <td>51.0</td>\n",
       "      <td>114.0</td>\n",
       "      <td>174.0</td>\n",
       "      <td>279.0</td>\n",
       "      <td>2129.0</td>\n",
       "    </tr>\n",
       "    <tr>\n",
       "      <th>국제</th>\n",
       "      <td>9677.0</td>\n",
       "      <td>244.187765</td>\n",
       "      <td>131.619560</td>\n",
       "      <td>51.0</td>\n",
       "      <td>154.0</td>\n",
       "      <td>219.0</td>\n",
       "      <td>300.0</td>\n",
       "      <td>1342.0</td>\n",
       "    </tr>\n",
       "    <tr>\n",
       "      <th>기업</th>\n",
       "      <td>9604.0</td>\n",
       "      <td>204.217618</td>\n",
       "      <td>137.728449</td>\n",
       "      <td>51.0</td>\n",
       "      <td>119.0</td>\n",
       "      <td>171.0</td>\n",
       "      <td>250.0</td>\n",
       "      <td>2416.0</td>\n",
       "    </tr>\n",
       "    <tr>\n",
       "      <th>문화</th>\n",
       "      <td>9313.0</td>\n",
       "      <td>248.453452</td>\n",
       "      <td>258.583833</td>\n",
       "      <td>51.0</td>\n",
       "      <td>112.0</td>\n",
       "      <td>176.0</td>\n",
       "      <td>314.0</td>\n",
       "      <td>4327.0</td>\n",
       "    </tr>\n",
       "    <tr>\n",
       "      <th>부동산</th>\n",
       "      <td>9714.0</td>\n",
       "      <td>224.478691</td>\n",
       "      <td>136.277920</td>\n",
       "      <td>51.0</td>\n",
       "      <td>130.0</td>\n",
       "      <td>188.0</td>\n",
       "      <td>277.0</td>\n",
       "      <td>1302.0</td>\n",
       "    </tr>\n",
       "    <tr>\n",
       "      <th>사회</th>\n",
       "      <td>9325.0</td>\n",
       "      <td>187.522681</td>\n",
       "      <td>121.342611</td>\n",
       "      <td>51.0</td>\n",
       "      <td>107.0</td>\n",
       "      <td>156.0</td>\n",
       "      <td>232.0</td>\n",
       "      <td>2020.0</td>\n",
       "    </tr>\n",
       "    <tr>\n",
       "      <th>정치</th>\n",
       "      <td>8875.0</td>\n",
       "      <td>240.445746</td>\n",
       "      <td>147.590659</td>\n",
       "      <td>51.0</td>\n",
       "      <td>134.0</td>\n",
       "      <td>203.0</td>\n",
       "      <td>313.0</td>\n",
       "      <td>1776.0</td>\n",
       "    </tr>\n",
       "    <tr>\n",
       "      <th>증권</th>\n",
       "      <td>8569.0</td>\n",
       "      <td>188.156261</td>\n",
       "      <td>103.081897</td>\n",
       "      <td>51.0</td>\n",
       "      <td>109.0</td>\n",
       "      <td>178.0</td>\n",
       "      <td>251.0</td>\n",
       "      <td>1379.0</td>\n",
       "    </tr>\n",
       "  </tbody>\n",
       "</table>\n",
       "</div>"
      ],
      "text/plain": [
       "          count        mean         std   min    25%    50%    75%     max\n",
       "Section                                                                   \n",
       "IT과학     9836.0  228.367222  150.858785  51.0  133.0  191.0  279.0  2606.0\n",
       "경제       8050.0  215.267702  144.405833  51.0  114.0  174.0  279.0  2129.0\n",
       "국제       9677.0  244.187765  131.619560  51.0  154.0  219.0  300.0  1342.0\n",
       "기업       9604.0  204.217618  137.728449  51.0  119.0  171.0  250.0  2416.0\n",
       "문화       9313.0  248.453452  258.583833  51.0  112.0  176.0  314.0  4327.0\n",
       "부동산      9714.0  224.478691  136.277920  51.0  130.0  188.0  277.0  1302.0\n",
       "사회       9325.0  187.522681  121.342611  51.0  107.0  156.0  232.0  2020.0\n",
       "정치       8875.0  240.445746  147.590659  51.0  134.0  203.0  313.0  1776.0\n",
       "증권       8569.0  188.156261  103.081897  51.0  109.0  178.0  251.0  1379.0"
      ]
     },
     "execution_count": 27,
     "metadata": {},
     "output_type": "execute_result"
    }
   ],
   "source": [
    "train_df.groupby('Section')['Num of Tokens'].describe()"
   ]
  },
  {
   "cell_type": "markdown",
   "metadata": {},
   "source": [
    "#### 평균은 비슷한 것 같은데.. [경제 기업 사회 증권] 기사는 대체적으로 좀 짧고 (평균이 220 정도에, 1Q가 1２0 이하) \n",
    "\n",
    "#### 나머지 기사들은 조금 긴편에 속하는 것 같다. (평균은 250정도에 1Q가 140 이상) "
   ]
  },
  {
   "cell_type": "markdown",
   "metadata": {},
   "source": [
    "　"
   ]
  },
  {
   "cell_type": "markdown",
   "metadata": {},
   "source": [
    "# 추측 1. \n",
    "\n",
    "# [경제 사회 증권] 기사는 대체적으로 짧기 때문에, 짧은 기사들은 [경제 사회 증권]이라고 분류한다."
   ]
  },
  {
   "cell_type": "markdown",
   "metadata": {},
   "source": [
    " "
   ]
  },
  {
   "cell_type": "markdown",
   "metadata": {},
   "source": [
    "### 다시 살펴보면, [경제 사회 증권] 기사는 토큰 수가 많아질수록 분류 성능이 떨어짐"
   ]
  },
  {
   "cell_type": "markdown",
   "metadata": {},
   "source": [
    "### 기업은 예외적으로 성능이 향상"
   ]
  },
  {
   "cell_type": "code",
   "execution_count": 26,
   "metadata": {},
   "outputs": [
    {
     "data": {
      "text/html": [
       "<div>\n",
       "<style scoped>\n",
       "    .dataframe tbody tr th:only-of-type {\n",
       "        vertical-align: middle;\n",
       "    }\n",
       "\n",
       "    .dataframe tbody tr th {\n",
       "        vertical-align: top;\n",
       "    }\n",
       "\n",
       "    .dataframe thead th {\n",
       "        text-align: right;\n",
       "    }\n",
       "</style>\n",
       "<table border=\"1\" class=\"dataframe\">\n",
       "  <thead>\n",
       "    <tr style=\"text-align: right;\">\n",
       "      <th></th>\n",
       "      <th>Token의 수 n개 이상</th>\n",
       "      <th>Token의 수 n개 이하</th>\n",
       "      <th>경제</th>\n",
       "      <th>기업</th>\n",
       "      <th>사회</th>\n",
       "      <th>국제</th>\n",
       "      <th>부동산</th>\n",
       "      <th>증권</th>\n",
       "      <th>정치</th>\n",
       "      <th>IT과학</th>\n",
       "      <th>문화</th>\n",
       "    </tr>\n",
       "  </thead>\n",
       "  <tbody>\n",
       "    <tr>\n",
       "      <th>0</th>\n",
       "      <td>50</td>\n",
       "      <td>100</td>\n",
       "      <td>46.0 %</td>\n",
       "      <td>36.0 %</td>\n",
       "      <td>75.0 %</td>\n",
       "      <td>50.0 %</td>\n",
       "      <td>75.0 %</td>\n",
       "      <td>92.0 %</td>\n",
       "      <td>60.0 %</td>\n",
       "      <td>31.0 %</td>\n",
       "      <td>71.0 %</td>\n",
       "    </tr>\n",
       "    <tr>\n",
       "      <th>1</th>\n",
       "      <td>100</td>\n",
       "      <td>300</td>\n",
       "      <td>43.0 %</td>\n",
       "      <td>53.0 %</td>\n",
       "      <td>76.0 %</td>\n",
       "      <td>80.0 %</td>\n",
       "      <td>84.0 %</td>\n",
       "      <td>80.0 %</td>\n",
       "      <td>70.0 %</td>\n",
       "      <td>63.0 %</td>\n",
       "      <td>81.0 %</td>\n",
       "    </tr>\n",
       "    <tr>\n",
       "      <th>2</th>\n",
       "      <td>300</td>\n",
       "      <td>500</td>\n",
       "      <td>42.0 %</td>\n",
       "      <td>57.0 %</td>\n",
       "      <td>73.0 %</td>\n",
       "      <td>77.0 %</td>\n",
       "      <td>86.0 %</td>\n",
       "      <td>82.0 %</td>\n",
       "      <td>70.0 %</td>\n",
       "      <td>65.0 %</td>\n",
       "      <td>83.0 %</td>\n",
       "    </tr>\n",
       "    <tr>\n",
       "      <th>3</th>\n",
       "      <td>500</td>\n",
       "      <td>10000</td>\n",
       "      <td>44.0 %</td>\n",
       "      <td>54.0 %</td>\n",
       "      <td>75.0 %</td>\n",
       "      <td>70.0 %</td>\n",
       "      <td>87.0 %</td>\n",
       "      <td>81.0 %</td>\n",
       "      <td>68.0 %</td>\n",
       "      <td>62.0 %</td>\n",
       "      <td>82.0 %</td>\n",
       "    </tr>\n",
       "  </tbody>\n",
       "</table>\n",
       "</div>"
      ],
      "text/plain": [
       "   Token의 수 n개 이상  Token의 수 n개 이하      경제      기업      사회      국제     부동산  \\\n",
       "0              50             100  46.0 %  36.0 %  75.0 %  50.0 %  75.0 %   \n",
       "1             100             300  43.0 %  53.0 %  76.0 %  80.0 %  84.0 %   \n",
       "2             300             500  42.0 %  57.0 %  73.0 %  77.0 %  86.0 %   \n",
       "3             500           10000  44.0 %  54.0 %  75.0 %  70.0 %  87.0 %   \n",
       "\n",
       "       증권      정치    IT과학      문화  \n",
       "0  92.0 %  60.0 %  31.0 %  71.0 %  \n",
       "1  80.0 %  70.0 %  63.0 %  81.0 %  \n",
       "2  82.0 %  70.0 %  65.0 %  83.0 %  \n",
       "3  81.0 %  68.0 %  62.0 %  82.0 %  "
      ]
     },
     "execution_count": 26,
     "metadata": {},
     "output_type": "execute_result"
    }
   ],
   "source": [
    "pd.DataFrame(store_dict)"
   ]
  }
 ],
 "metadata": {
  "kernelspec": {
   "display_name": "fininsight_python_3.5",
   "language": "python",
   "name": "fininsight_python3.5"
  },
  "language_info": {
   "codemirror_mode": {
    "name": "ipython",
    "version": 3
   },
   "file_extension": ".py",
   "mimetype": "text/x-python",
   "name": "python",
   "nbconvert_exporter": "python",
   "pygments_lexer": "ipython3",
   "version": "3.5.5"
  }
 },
 "nbformat": 4,
 "nbformat_minor": 2
}
