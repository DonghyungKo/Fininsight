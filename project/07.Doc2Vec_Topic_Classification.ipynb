{
 "cells": [
  {
   "cell_type": "code",
   "execution_count": 1,
   "metadata": {},
   "outputs": [],
   "source": [
    "# unset PYTHONPATH first\n",
    "from ko_text import *\n",
    "from ko_crawler import *\n",
    "\n",
    "import ast"
   ]
  },
  {
   "cell_type": "code",
   "execution_count": 2,
   "metadata": {},
   "outputs": [],
   "source": [
    "nlp = NLP()"
   ]
  },
  {
   "cell_type": "markdown",
   "metadata": {},
   "source": [
    "# 불러오기"
   ]
  },
  {
   "cell_type": "code",
   "execution_count": 3,
   "metadata": {},
   "outputs": [],
   "source": [
    "token_df = pd.read_csv('Data/meta_morphs_final.csv', encoding = 'utf-8')\n",
    "\n",
    "# 용량을 줄이기 위해 '단어 단어' 꼴로 묶어둔 token을 ['단어', '단어'] 꼴로 풀기\n",
    "token_df['Token'] = [token.split() for token in token_df['Token']]"
   ]
  },
  {
   "cell_type": "code",
   "execution_count": 4,
   "metadata": {},
   "outputs": [
    {
     "data": {
      "text/html": [
       "<div>\n",
       "<style scoped>\n",
       "    .dataframe tbody tr th:only-of-type {\n",
       "        vertical-align: middle;\n",
       "    }\n",
       "\n",
       "    .dataframe tbody tr th {\n",
       "        vertical-align: top;\n",
       "    }\n",
       "\n",
       "    .dataframe thead th {\n",
       "        text-align: right;\n",
       "    }\n",
       "</style>\n",
       "<table border=\"1\" class=\"dataframe\">\n",
       "  <thead>\n",
       "    <tr style=\"text-align: right;\">\n",
       "      <th></th>\n",
       "      <th>Section</th>\n",
       "      <th>Text</th>\n",
       "      <th>Token</th>\n",
       "      <th>Num of Tokens</th>\n",
       "    </tr>\n",
       "  </thead>\n",
       "  <tbody>\n",
       "    <tr>\n",
       "      <th>0</th>\n",
       "      <td>financial</td>\n",
       "      <td>\\n\\n\\n텀블벅에서 크라우드 펀딩이 이뤄지고 있는 `아침달 시집`.\\n\\n    ...</td>\n",
       "      <td>[텀블벅, 크라, 우드, 펀딩, 이뤄지고, 아침, 시집, 많지, 않은, 금액, 으로...</td>\n",
       "      <td>263</td>\n",
       "    </tr>\n",
       "    <tr>\n",
       "      <th>1</th>\n",
       "      <td>economy</td>\n",
       "      <td>\\n\\n\\n[사진 제공: 연합뉴스]\\n\\n                     유류...</td>\n",
       "      <td>[유류, 인하, 국제, 유가, 급락, 입어, 국내, 휘발유, 경유, 하락, 특히, ...</td>\n",
       "      <td>166</td>\n",
       "    </tr>\n",
       "    <tr>\n",
       "      <th>2</th>\n",
       "      <td>financial</td>\n",
       "      <td>부득이한 사정으로 매월 내는 보험료가 부담이 될 때 계약은 그대로 유지하면서 보험...</td>\n",
       "      <td>[부득이, 사정, 매월, 내는, 보험료, 부담, 계약, 그대로, 유지, 보험료, 부...</td>\n",
       "      <td>314</td>\n",
       "    </tr>\n",
       "    <tr>\n",
       "      <th>3</th>\n",
       "      <td>estate</td>\n",
       "      <td>한때 `미분양의 늪`으로 통하던 경기도 파주시 부동산 시장이 달라지고 있다. 지난해...</td>\n",
       "      <td>[한때, 미분, 하던, 경기도, 파주시, 부동산, 시장, 달라지고, 분양, 파주, ...</td>\n",
       "      <td>165</td>\n",
       "    </tr>\n",
       "    <tr>\n",
       "      <th>4</th>\n",
       "      <td>economy</td>\n",
       "      <td>\\n\\n\\n인디고뱅크의 `미키인서울` 컬래버 맨투맨  &lt;사진제공=월트디즈니코리아&gt;\\...</td>\n",
       "      <td>[인디고, 뱅크, 미키, 서울, 컬래버, 투맨, 월트디즈니, 사의, 마스코트, 미키...</td>\n",
       "      <td>196</td>\n",
       "    </tr>\n",
       "  </tbody>\n",
       "</table>\n",
       "</div>"
      ],
      "text/plain": [
       "     Section                                               Text  \\\n",
       "0  financial  \\n\\n\\n텀블벅에서 크라우드 펀딩이 이뤄지고 있는 `아침달 시집`.\\n\\n    ...   \n",
       "1    economy  \\n\\n\\n[사진 제공: 연합뉴스]\\n\\n                     유류...   \n",
       "2  financial   부득이한 사정으로 매월 내는 보험료가 부담이 될 때 계약은 그대로 유지하면서 보험...   \n",
       "3     estate  한때 `미분양의 늪`으로 통하던 경기도 파주시 부동산 시장이 달라지고 있다. 지난해...   \n",
       "4    economy  \\n\\n\\n인디고뱅크의 `미키인서울` 컬래버 맨투맨  <사진제공=월트디즈니코리아>\\...   \n",
       "\n",
       "                                               Token  Num of Tokens  \n",
       "0  [텀블벅, 크라, 우드, 펀딩, 이뤄지고, 아침, 시집, 많지, 않은, 금액, 으로...            263  \n",
       "1  [유류, 인하, 국제, 유가, 급락, 입어, 국내, 휘발유, 경유, 하락, 특히, ...            166  \n",
       "2  [부득이, 사정, 매월, 내는, 보험료, 부담, 계약, 그대로, 유지, 보험료, 부...            314  \n",
       "3  [한때, 미분, 하던, 경기도, 파주시, 부동산, 시장, 달라지고, 분양, 파주, ...            165  \n",
       "4  [인디고, 뱅크, 미키, 서울, 컬래버, 투맨, 월트디즈니, 사의, 마스코트, 미키...            196  "
      ]
     },
     "execution_count": 4,
     "metadata": {},
     "output_type": "execute_result"
    }
   ],
   "source": [
    "token_df.head()"
   ]
  },
  {
   "cell_type": "code",
   "execution_count": 5,
   "metadata": {},
   "outputs": [
    {
     "data": {
      "text/plain": [
       "(41418, 4)"
      ]
     },
     "execution_count": 5,
     "metadata": {},
     "output_type": "execute_result"
    }
   ],
   "source": [
    "token_df.shape"
   ]
  },
  {
   "cell_type": "markdown",
   "metadata": {},
   "source": [
    "  "
   ]
  },
  {
   "cell_type": "markdown",
   "metadata": {},
   "source": [
    "# Train Test Split"
   ]
  },
  {
   "cell_type": "code",
   "execution_count": 6,
   "metadata": {},
   "outputs": [],
   "source": [
    "train_size = round(len(token_df) * 0.8)\n",
    "\n",
    "np.random.seed(0)\n",
    "train_index_ls = np.random.choice(token_df.index, train_size, replace = False)\n",
    "test_index_ls = [x for x in token_df.index if not x in train_index_ls]"
   ]
  },
  {
   "cell_type": "code",
   "execution_count": 7,
   "metadata": {},
   "outputs": [
    {
     "data": {
      "text/plain": [
       "(33134, 4)"
      ]
     },
     "execution_count": 7,
     "metadata": {},
     "output_type": "execute_result"
    }
   ],
   "source": [
    "train_df = token_df.loc[train_index_ls]\n",
    "train_df.shape"
   ]
  },
  {
   "cell_type": "code",
   "execution_count": 8,
   "metadata": {},
   "outputs": [
    {
     "data": {
      "text/html": [
       "<div>\n",
       "<style scoped>\n",
       "    .dataframe tbody tr th:only-of-type {\n",
       "        vertical-align: middle;\n",
       "    }\n",
       "\n",
       "    .dataframe tbody tr th {\n",
       "        vertical-align: top;\n",
       "    }\n",
       "\n",
       "    .dataframe thead th {\n",
       "        text-align: right;\n",
       "    }\n",
       "</style>\n",
       "<table border=\"1\" class=\"dataframe\">\n",
       "  <thead>\n",
       "    <tr style=\"text-align: right;\">\n",
       "      <th></th>\n",
       "      <th>Section</th>\n",
       "      <th>Text</th>\n",
       "      <th>Token</th>\n",
       "      <th>Num of Tokens</th>\n",
       "    </tr>\n",
       "  </thead>\n",
       "  <tbody>\n",
       "    <tr>\n",
       "      <th>25537</th>\n",
       "      <td>stock</td>\n",
       "      <td>02일 항공/저가 항공사(LCC) 테마가 전일 대비 3.01% 상승하면서 강세를 보...</td>\n",
       "      <td>[항공, 저가, 항공사, 테마, 전일, 대비, 상승, 강세, 보이는, 가운데, 주로...</td>\n",
       "      <td>200</td>\n",
       "    </tr>\n",
       "    <tr>\n",
       "      <th>14604</th>\n",
       "      <td>world</td>\n",
       "      <td>영국 극우정당 지도자가 반이슬람 활동으로  유명한 극우단체 지도자를 개인 고문으로 ...</td>\n",
       "      <td>[영국, 극우, 정당, 지도자, 이슬람, 활동, 유명한, 극우, 단체, 지도자, 개...</td>\n",
       "      <td>204</td>\n",
       "    </tr>\n",
       "    <tr>\n",
       "      <th>20296</th>\n",
       "      <td>estate</td>\n",
       "      <td>단장·산외면 일원 91만㎡에 3천억 투자…\"밀양 르네상스 이끈다\"\\n경남 밀양에 농...</td>\n",
       "      <td>[단장, 산외면, 일원, 투자, 밀양, 르네상스, 이끈다, 경남, 밀양, 농촌, 테...</td>\n",
       "      <td>352</td>\n",
       "    </tr>\n",
       "    <tr>\n",
       "      <th>34830</th>\n",
       "      <td>business</td>\n",
       "      <td>아시아 각국 창업 생태계 현황을 한눈에 파악할 수 있는 행사가 열린다.\\n스타트업 ...</td>\n",
       "      <td>[아시아, 각국, 창업, 생태계, 현황, 한눈, 파악, 행사, 린다, 스타트업, 인...</td>\n",
       "      <td>128</td>\n",
       "    </tr>\n",
       "    <tr>\n",
       "      <th>6643</th>\n",
       "      <td>business</td>\n",
       "      <td>\\n\\n\\n스파오 강남점 [사진제공 = 이랜드월드]\\n\\n              ...</td>\n",
       "      <td>[스파오, 강남, 이랜드, 월드, 전개, SPA, 브랜드, 스파오, 출시, 해리포터...</td>\n",
       "      <td>136</td>\n",
       "    </tr>\n",
       "  </tbody>\n",
       "</table>\n",
       "</div>"
      ],
      "text/plain": [
       "        Section                                               Text  \\\n",
       "25537     stock  02일 항공/저가 항공사(LCC) 테마가 전일 대비 3.01% 상승하면서 강세를 보...   \n",
       "14604     world  영국 극우정당 지도자가 반이슬람 활동으로  유명한 극우단체 지도자를 개인 고문으로 ...   \n",
       "20296    estate  단장·산외면 일원 91만㎡에 3천억 투자…\"밀양 르네상스 이끈다\"\\n경남 밀양에 농...   \n",
       "34830  business  아시아 각국 창업 생태계 현황을 한눈에 파악할 수 있는 행사가 열린다.\\n스타트업 ...   \n",
       "6643   business  \\n\\n\\n스파오 강남점 [사진제공 = 이랜드월드]\\n\\n              ...   \n",
       "\n",
       "                                                   Token  Num of Tokens  \n",
       "25537  [항공, 저가, 항공사, 테마, 전일, 대비, 상승, 강세, 보이는, 가운데, 주로...            200  \n",
       "14604  [영국, 극우, 정당, 지도자, 이슬람, 활동, 유명한, 극우, 단체, 지도자, 개...            204  \n",
       "20296  [단장, 산외면, 일원, 투자, 밀양, 르네상스, 이끈다, 경남, 밀양, 농촌, 테...            352  \n",
       "34830  [아시아, 각국, 창업, 생태계, 현황, 한눈, 파악, 행사, 린다, 스타트업, 인...            128  \n",
       "6643   [스파오, 강남, 이랜드, 월드, 전개, SPA, 브랜드, 스파오, 출시, 해리포터...            136  "
      ]
     },
     "execution_count": 8,
     "metadata": {},
     "output_type": "execute_result"
    }
   ],
   "source": [
    "train_df.head()"
   ]
  },
  {
   "cell_type": "code",
   "execution_count": 9,
   "metadata": {},
   "outputs": [
    {
     "data": {
      "text/plain": [
       "(8284, 4)"
      ]
     },
     "execution_count": 9,
     "metadata": {},
     "output_type": "execute_result"
    }
   ],
   "source": [
    "test_df = token_df.loc[test_index_ls]\n",
    "test_df.shape"
   ]
  },
  {
   "cell_type": "code",
   "execution_count": 10,
   "metadata": {},
   "outputs": [
    {
     "data": {
      "text/plain": [
       "Counter({'bio & tech': 1739,\n",
       "         'business': 4863,\n",
       "         'culture & art': 4102,\n",
       "         'economy': 2608,\n",
       "         'estate': 3932,\n",
       "         'financial': 746,\n",
       "         'it': 1742,\n",
       "         'politics': 3775,\n",
       "         'society': 3356,\n",
       "         'stock': 2508,\n",
       "         'world': 3763})"
      ]
     },
     "execution_count": 10,
     "metadata": {},
     "output_type": "execute_result"
    }
   ],
   "source": [
    "Counter(train_df['Section'])"
   ]
  },
  {
   "cell_type": "code",
   "execution_count": 11,
   "metadata": {},
   "outputs": [
    {
     "data": {
      "text/plain": [
       "Counter({'bio & tech': 419,\n",
       "         'business': 1220,\n",
       "         'culture & art': 1039,\n",
       "         'economy': 613,\n",
       "         'estate': 977,\n",
       "         'financial': 181,\n",
       "         'it': 419,\n",
       "         'politics': 903,\n",
       "         'society': 873,\n",
       "         'stock': 665,\n",
       "         'world': 975})"
      ]
     },
     "execution_count": 11,
     "metadata": {},
     "output_type": "execute_result"
    }
   ],
   "source": [
    "Counter(test_df['Section'])"
   ]
  },
  {
   "cell_type": "markdown",
   "metadata": {},
   "source": [
    "# sampling for training classfier"
   ]
  },
  {
   "cell_type": "code",
   "execution_count": 12,
   "metadata": {},
   "outputs": [],
   "source": [
    "# 한 label마다 학습할 단어의 수\n",
    "train_batch_size = 1000\n",
    "test_batch_size = 100\n",
    "\n",
    "train_token_ls_split, train_tag_ls_split = nlp.oversample_batch(train_df['Token'], train_df['Section'], train_batch_size)\n",
    "test_token_ls_split, test_tag_ls_split =  nlp.undersample_batch(test_df['Token'],test_df['Section'], test_batch_size)"
   ]
  },
  {
   "cell_type": "code",
   "execution_count": 13,
   "metadata": {},
   "outputs": [
    {
     "name": "stdout",
     "output_type": "stream",
     "text": [
      "11000\n"
     ]
    },
    {
     "data": {
      "text/plain": [
       "Counter({'bio & tech': 1000,\n",
       "         'business': 1000,\n",
       "         'culture & art': 1000,\n",
       "         'economy': 1000,\n",
       "         'estate': 1000,\n",
       "         'financial': 1000,\n",
       "         'it': 1000,\n",
       "         'politics': 1000,\n",
       "         'society': 1000,\n",
       "         'stock': 1000,\n",
       "         'world': 1000})"
      ]
     },
     "execution_count": 13,
     "metadata": {},
     "output_type": "execute_result"
    }
   ],
   "source": [
    "print(len(train_token_ls_split))\n",
    "Counter(train_tag_ls_split)"
   ]
  },
  {
   "cell_type": "markdown",
   "metadata": {},
   "source": [
    "<br>\n"
   ]
  },
  {
   "cell_type": "markdown",
   "metadata": {},
   "source": [
    " "
   ]
  },
  {
   "cell_type": "markdown",
   "metadata": {},
   "source": [
    "# **Doc2Vec**"
   ]
  },
  {
   "cell_type": "markdown",
   "metadata": {},
   "source": [
    "## **1. Doc2Vec 모델 불러오기**"
   ]
  },
  {
   "cell_type": "code",
   "execution_count": 14,
   "metadata": {},
   "outputs": [
    {
     "data": {
      "text/plain": [
       "<gensim.models.doc2vec.Doc2Vec at 0x7f8d3ae5be80>"
      ]
     },
     "execution_count": 14,
     "metadata": {},
     "output_type": "execute_result"
    }
   ],
   "source": [
    "# 가장 성능이 좋았던 모델들 호출\n",
    "nlp.load_Doc2Vec_model('Doc2Vec_model/Doc2Vec_dm=True&cc=42331&vs=100&win=5&min=1&sample=1e-06&epochs=10')"
   ]
  },
  {
   "cell_type": "markdown",
   "metadata": {},
   "source": [
    " "
   ]
  },
  {
   "cell_type": "markdown",
   "metadata": {},
   "source": [
    "## **2. Doc2Vec으로 벡터 추정 분포 확인**"
   ]
  },
  {
   "cell_type": "code",
   "execution_count": 12,
   "metadata": {},
   "outputs": [],
   "source": [
    "test_token_for_display, test_tag_for_display = nlp.undersample_batch(test_df['Token'], test_df['Section'], 300)"
   ]
  },
  {
   "cell_type": "code",
   "execution_count": 13,
   "metadata": {},
   "outputs": [
    {
     "data": {
      "text/plain": [
       "Counter({'bio & tech': 181,\n",
       "         'business': 181,\n",
       "         'culture & art': 181,\n",
       "         'economy': 181,\n",
       "         'estate': 181,\n",
       "         'financial': 181,\n",
       "         'it': 181,\n",
       "         'politics': 181,\n",
       "         'society': 181,\n",
       "         'stock': 181,\n",
       "         'world': 181})"
      ]
     },
     "execution_count": 13,
     "metadata": {},
     "output_type": "execute_result"
    }
   ],
   "source": [
    "Counter(test_tag_for_display)"
   ]
  },
  {
   "cell_type": "code",
   "execution_count": 14,
   "metadata": {},
   "outputs": [],
   "source": [
    "from sklearn.decomposition import PCA\n",
    "from sklearn.manifold import TSNE"
   ]
  },
  {
   "cell_type": "markdown",
   "metadata": {},
   "source": [
    "## tsne"
   ]
  },
  {
   "cell_type": "code",
   "execution_count": 17,
   "metadata": {},
   "outputs": [
    {
     "data": {
      "image/png": "[encoded data removed]",
      "text/plain": [
       "<Figure size 720x720 with 1 Axes>"
      ]
     },
     "metadata": {},
     "output_type": "display_data"
    }
   ],
   "source": [
    "X =nlp.infer_vectors_with_Doc2Vec(test_token_for_display, alpha = 0.1)\n",
    "\n",
    "tsne= TSNE(n_components=2)\n",
    "X_tsne = tsne.fit_transform(X)\n",
    "scatter_df = pd.DataFrame(X_tsne,\n",
    "                          index = test_tag_for_display,\n",
    "                          columns = ['x','y'])\n",
    "\n",
    "plt.figure(figsize = (10, 10))\n",
    "\n",
    "for i,section in enumerate(set(test_df['Section'])):\n",
    "    temp_df = scatter_df[scatter_df.index == section]\n",
    "    plt.scatter(temp_df['x'].values, temp_df['y'].values, label = section, c = np.random.rand(3,))\n",
    "\n",
    "plt.legend(loc = 'best')\n",
    "plt.savefig('추정된 벡터 분포 t-sne ver')"
   ]
  },
  {
   "cell_type": "code",
   "execution_count": 17,
   "metadata": {},
   "outputs": [
    {
     "data": {
      "image/png": "[encoded data removed]",
      "text/plain": [
       "<Figure size 720x720 with 1 Axes>"
      ]
     },
     "metadata": {},
     "output_type": "display_data"
    }
   ],
   "source": [
    "X =nlp.infer_vectors_with_Doc2Vec(test_token_for_display)\n",
    "\n",
    "tsne= TSNE(n_components=2)\n",
    "X_tsne = tsne.fit_transform(X)\n",
    "scatter_df = pd.DataFrame(X_tsne,\n",
    "                          index = test_tag_for_display,\n",
    "                          columns = ['x','y'])\n",
    "\n",
    "plt.figure(figsize = (10, 10))\n",
    "\n",
    "for section in set(test_df['Section']):\n",
    "    temp_df = scatter_df[scatter_df.index == section]\n",
    "    plt.scatter(temp_df['x'].values, temp_df['y'].values, label = section, c = np.random.rand(3,))\n",
    "\n",
    "plt.legend(loc = 'best')\n",
    "plt.savefig('추정된 벡터 분포 t-sne ver')"
   ]
  },
  {
   "cell_type": "markdown",
   "metadata": {},
   "source": [
    " "
   ]
  },
  {
   "cell_type": "markdown",
   "metadata": {},
   "source": [
    " "
   ]
  },
  {
   "cell_type": "markdown",
   "metadata": {},
   "source": [
    "## **Doc2Vec train** "
   ]
  },
  {
   "cell_type": "code",
   "execution_count": 7,
   "metadata": {},
   "outputs": [
    {
     "data": {
      "text/plain": [
       "\"nlp.train_Doc2Vec_model(train_df['Token'],\\n                        train_df['Section'],\\n                        n_epochs = 10)\""
      ]
     },
     "execution_count": 7,
     "metadata": {},
     "output_type": "execute_result"
    }
   ],
   "source": [
    "'''nlp.train_Doc2Vec_model(train_df['Token'],\n",
    "                        train_df['Section'],\n",
    "                        n_epochs = 10)'''"
   ]
  },
  {
   "cell_type": "markdown",
   "metadata": {},
   "source": [
    " "
   ]
  },
  {
   "cell_type": "markdown",
   "metadata": {},
   "source": [
    " "
   ]
  },
  {
   "cell_type": "markdown",
   "metadata": {},
   "source": [
    "## **Doc2Vec 학습결과 확인**"
   ]
  },
  {
   "cell_type": "code",
   "execution_count": 17,
   "metadata": {},
   "outputs": [
    {
     "data": {
      "text/plain": [
       "[('도널드', 0.964468240737915),\n",
       " ('와중', 0.9554681777954102),\n",
       " ('공세', 0.9504309296607971),\n",
       " ('집권', 0.949384331703186),\n",
       " ('휴전', 0.9464839696884155),\n",
       " ('백악관', 0.9445333480834961),\n",
       " ('불씨', 0.9431270360946655),\n",
       " ('반감', 0.9398562908172607),\n",
       " ('강경', 0.9397679567337036),\n",
       " ('재선', 0.9364628791809082)]"
      ]
     },
     "execution_count": 17,
     "metadata": {},
     "output_type": "execute_result"
    }
   ],
   "source": [
    "nlp.Doc2Vec_model.most_similar('트럼프')"
   ]
  },
  {
   "cell_type": "markdown",
   "metadata": {},
   "source": [
    "# <br>\n"
   ]
  },
  {
   "cell_type": "markdown",
   "metadata": {},
   "source": [
    "<br>\n"
   ]
  },
  {
   "cell_type": "markdown",
   "metadata": {},
   "source": [
    "## **Data setting**"
   ]
  },
  {
   "cell_type": "code",
   "execution_count": 18,
   "metadata": {},
   "outputs": [],
   "source": [
    "# 한 label마다 학습할 단어의 수\n",
    "train_batch_size = 1000\n",
    "test_batch_size = 200\n",
    "\n",
    "X_train, y_train = nlp.oversample_batch(train_df['Token'], train_df['Section'], train_batch_size)\n",
    "X_test, y_test =  nlp.undersample_batch(test_df['Token'],test_df['Section'], test_batch_size)\n",
    "\n",
    "# 벡터화\n",
    "X_train = nlp.infer_vectors_with_Doc2Vec(X_train, alpha = 0.05, steps = 50)\n",
    "X_test = nlp.infer_vectors_with_Doc2Vec(X_test, alpha = 0.05, steps = 50)"
   ]
  },
  {
   "cell_type": "code",
   "execution_count": 19,
   "metadata": {},
   "outputs": [
    {
     "data": {
      "text/plain": [
       "Counter({'bio & tech': 181,\n",
       "         'business': 181,\n",
       "         'culture & art': 181,\n",
       "         'economy': 181,\n",
       "         'estate': 181,\n",
       "         'financial': 181,\n",
       "         'it': 181,\n",
       "         'politics': 181,\n",
       "         'society': 181,\n",
       "         'stock': 181,\n",
       "         'world': 181})"
      ]
     },
     "execution_count": 19,
     "metadata": {},
     "output_type": "execute_result"
    }
   ],
   "source": [
    "Counter(y_test)"
   ]
  },
  {
   "cell_type": "markdown",
   "metadata": {},
   "source": [
    "<br>\n"
   ]
  },
  {
   "cell_type": "code",
   "execution_count": 20,
   "metadata": {},
   "outputs": [],
   "source": [
    "from sklearn.metrics import confusion_matrix"
   ]
  },
  {
   "cell_type": "markdown",
   "metadata": {},
   "source": [
    "# **Logistic Regression**"
   ]
  },
  {
   "cell_type": "code",
   "execution_count": 21,
   "metadata": {},
   "outputs": [
    {
     "name": "stdout",
     "output_type": "stream",
     "text": [
      "Accuracy :  0.9075841285786037\n"
     ]
    }
   ],
   "source": [
    "clf = LogisticRegression(solver = 'sag',\n",
    "                         multi_class = 'multinomial')\n",
    "\n",
    "\n",
    "clf.fit(X_train, y_train)\n",
    "y_pred = clf.predict(X_test)\n",
    "\n",
    "print('Accuracy : ', accuracy_score(y_pred, y_test))"
   ]
  },
  {
   "cell_type": "markdown",
   "metadata": {},
   "source": [
    "# 테스트"
   ]
  },
  {
   "cell_type": "code",
   "execution_count": 54,
   "metadata": {},
   "outputs": [
    {
     "name": "stdout",
     "output_type": "stream",
     "text": [
      "financial\n"
     ]
    },
    {
     "data": {
      "text/plain": [
       "'변동 금리 대출 보유 취약 차주 갈아타기 우선권 금리 올라도 상환 변동 없는 대출 상반기 출시 박의 기자 이르면 다음 시중금리 아무리 올라도 대출 금리 동안 포인트 까지만 오르는 금리 상한 주택 담보 대출 출시 금리 올라도 매월 내는 원리금 상환 변하지 않는 상환 고정 주택 담보 대출 내년 상반기 나온다 금융 위원회 금융감독원 은행권 따르면 정부 기준금리 인상 따른 금리 상승 취약 차주 부담 커지지 않도록 방식 대출 상품 출시 준비 금리 상한 주택 담보 대출 변동 금리 대출 상품 이지만 다른 변동 금리 상품 달리 금리 인상 포인트 포인트 이내 묶인다 예컨대 금리 금리 상한 주택 담보 대출 받았다면 동안 시중금리 아무리 올라도 상품 금리 까지만 오를 까지는 까지만 금리 올라간다 옵션 들어가기 금리 상한 주택 담보 대출 대출 금리 기존 변동 금리 대출 보다는 다소 높고 고정 금리 대출 보다는 낮게 형성 전망 은행 금리 상승 위험 내해 하므로 대출 규모 한도 계획 기본 변동 금리 출자 갈아타기도 허용 대출 소득 대출 규모 주택 가격 기준 대출 자격 정해 현재 변동 금리 주택 담보 대출 보유 취약 차주 먼저 상품 갈아탈 우선권 계획 상환 고정 주택 담보 대출 내년 상반기 출시 예정 상품 변동 금리 상품 이지만 금리 올라도 매월 내는 원리금 상환 일정하게 유지 금리 올라 이자 상환 늘어나면 원금 상환 줄여 매월 내는 원리금 상환 변하지 않는 다반 대로 금리 떨어지면 줄어드는 이자 상환 원금 상환 늘려 역시 원리금 상환 변하지 않는다 다만 금리 오를수록 만기 일시 상환 원금 커지는 마다 차주 상황 고려 상환 조정 한다이 상품 역시 금리 상승 대출 상환 부담 급격히 늘어나는 막기 대책 하나 금융위 연내 상품 내놓기로 했지만 출시 늦어지고 은행권 관계자 기존 없던 상품 금리 오를수록 나중 상환 부담 커지는 구조 상품 설계 쉽지 않다며 내년 상반기 출시 준비'"
      ]
     },
     "execution_count": 54,
     "metadata": {},
     "output_type": "execute_result"
    }
   ],
   "source": [
    "k = 10\n",
    "print(test_df['Section'].iloc[k])\n",
    "' '.join(test_df['Token'].iloc[k])"
   ]
  },
  {
   "cell_type": "code",
   "execution_count": 55,
   "metadata": {},
   "outputs": [
    {
     "data": {
      "text/plain": [
       "array(['financial'], dtype='<U13')"
      ]
     },
     "execution_count": 55,
     "metadata": {},
     "output_type": "execute_result"
    }
   ],
   "source": [
    "clf.predict(nlp.infer_vectors_with_Doc2Vec([test_df['Token'].iloc[k]]))"
   ]
  },
  {
   "cell_type": "markdown",
   "metadata": {},
   "source": [
    "# 분류 결과"
   ]
  },
  {
   "cell_type": "code",
   "execution_count": 22,
   "metadata": {},
   "outputs": [
    {
     "data": {
      "text/html": [
       "<div>\n",
       "<style scoped>\n",
       "    .dataframe tbody tr th:only-of-type {\n",
       "        vertical-align: middle;\n",
       "    }\n",
       "\n",
       "    .dataframe tbody tr th {\n",
       "        vertical-align: top;\n",
       "    }\n",
       "\n",
       "    .dataframe thead th {\n",
       "        text-align: right;\n",
       "    }\n",
       "</style>\n",
       "<table border=\"1\" class=\"dataframe\">\n",
       "  <thead>\n",
       "    <tr style=\"text-align: right;\">\n",
       "      <th></th>\n",
       "      <th>bio &amp; tech</th>\n",
       "      <th>business</th>\n",
       "      <th>culture &amp; art</th>\n",
       "      <th>economy</th>\n",
       "      <th>estate</th>\n",
       "      <th>financial</th>\n",
       "      <th>it</th>\n",
       "      <th>politics</th>\n",
       "      <th>society</th>\n",
       "      <th>stock</th>\n",
       "      <th>world</th>\n",
       "    </tr>\n",
       "  </thead>\n",
       "  <tbody>\n",
       "    <tr>\n",
       "      <th>bio &amp; tech</th>\n",
       "      <td>168</td>\n",
       "      <td>1</td>\n",
       "      <td>1</td>\n",
       "      <td>0</td>\n",
       "      <td>0</td>\n",
       "      <td>0</td>\n",
       "      <td>4</td>\n",
       "      <td>1</td>\n",
       "      <td>3</td>\n",
       "      <td>2</td>\n",
       "      <td>1</td>\n",
       "    </tr>\n",
       "    <tr>\n",
       "      <th>business</th>\n",
       "      <td>3</td>\n",
       "      <td>166</td>\n",
       "      <td>0</td>\n",
       "      <td>5</td>\n",
       "      <td>2</td>\n",
       "      <td>3</td>\n",
       "      <td>0</td>\n",
       "      <td>2</td>\n",
       "      <td>0</td>\n",
       "      <td>0</td>\n",
       "      <td>0</td>\n",
       "    </tr>\n",
       "    <tr>\n",
       "      <th>culture &amp; art</th>\n",
       "      <td>1</td>\n",
       "      <td>3</td>\n",
       "      <td>150</td>\n",
       "      <td>1</td>\n",
       "      <td>6</td>\n",
       "      <td>2</td>\n",
       "      <td>1</td>\n",
       "      <td>3</td>\n",
       "      <td>13</td>\n",
       "      <td>0</td>\n",
       "      <td>1</td>\n",
       "    </tr>\n",
       "    <tr>\n",
       "      <th>economy</th>\n",
       "      <td>2</td>\n",
       "      <td>5</td>\n",
       "      <td>1</td>\n",
       "      <td>159</td>\n",
       "      <td>1</td>\n",
       "      <td>3</td>\n",
       "      <td>3</td>\n",
       "      <td>2</td>\n",
       "      <td>2</td>\n",
       "      <td>1</td>\n",
       "      <td>2</td>\n",
       "    </tr>\n",
       "    <tr>\n",
       "      <th>estate</th>\n",
       "      <td>0</td>\n",
       "      <td>4</td>\n",
       "      <td>1</td>\n",
       "      <td>2</td>\n",
       "      <td>168</td>\n",
       "      <td>0</td>\n",
       "      <td>1</td>\n",
       "      <td>1</td>\n",
       "      <td>3</td>\n",
       "      <td>1</td>\n",
       "      <td>0</td>\n",
       "    </tr>\n",
       "    <tr>\n",
       "      <th>financial</th>\n",
       "      <td>0</td>\n",
       "      <td>0</td>\n",
       "      <td>0</td>\n",
       "      <td>7</td>\n",
       "      <td>0</td>\n",
       "      <td>172</td>\n",
       "      <td>0</td>\n",
       "      <td>0</td>\n",
       "      <td>0</td>\n",
       "      <td>1</td>\n",
       "      <td>1</td>\n",
       "    </tr>\n",
       "    <tr>\n",
       "      <th>it</th>\n",
       "      <td>1</td>\n",
       "      <td>9</td>\n",
       "      <td>2</td>\n",
       "      <td>2</td>\n",
       "      <td>0</td>\n",
       "      <td>0</td>\n",
       "      <td>165</td>\n",
       "      <td>0</td>\n",
       "      <td>1</td>\n",
       "      <td>1</td>\n",
       "      <td>0</td>\n",
       "    </tr>\n",
       "    <tr>\n",
       "      <th>politics</th>\n",
       "      <td>1</td>\n",
       "      <td>1</td>\n",
       "      <td>0</td>\n",
       "      <td>1</td>\n",
       "      <td>0</td>\n",
       "      <td>1</td>\n",
       "      <td>1</td>\n",
       "      <td>164</td>\n",
       "      <td>3</td>\n",
       "      <td>0</td>\n",
       "      <td>9</td>\n",
       "    </tr>\n",
       "    <tr>\n",
       "      <th>society</th>\n",
       "      <td>3</td>\n",
       "      <td>1</td>\n",
       "      <td>3</td>\n",
       "      <td>3</td>\n",
       "      <td>3</td>\n",
       "      <td>3</td>\n",
       "      <td>1</td>\n",
       "      <td>3</td>\n",
       "      <td>159</td>\n",
       "      <td>0</td>\n",
       "      <td>2</td>\n",
       "    </tr>\n",
       "    <tr>\n",
       "      <th>stock</th>\n",
       "      <td>0</td>\n",
       "      <td>6</td>\n",
       "      <td>0</td>\n",
       "      <td>5</td>\n",
       "      <td>1</td>\n",
       "      <td>1</td>\n",
       "      <td>0</td>\n",
       "      <td>0</td>\n",
       "      <td>0</td>\n",
       "      <td>168</td>\n",
       "      <td>0</td>\n",
       "    </tr>\n",
       "    <tr>\n",
       "      <th>world</th>\n",
       "      <td>1</td>\n",
       "      <td>2</td>\n",
       "      <td>1</td>\n",
       "      <td>2</td>\n",
       "      <td>1</td>\n",
       "      <td>0</td>\n",
       "      <td>2</td>\n",
       "      <td>3</td>\n",
       "      <td>1</td>\n",
       "      <td>0</td>\n",
       "      <td>168</td>\n",
       "    </tr>\n",
       "  </tbody>\n",
       "</table>\n",
       "</div>"
      ],
      "text/plain": [
       "               bio & tech  business  culture & art  economy  estate  \\\n",
       "bio & tech            168         1              1        0       0   \n",
       "business                3       166              0        5       2   \n",
       "culture & art           1         3            150        1       6   \n",
       "economy                 2         5              1      159       1   \n",
       "estate                  0         4              1        2     168   \n",
       "financial               0         0              0        7       0   \n",
       "it                      1         9              2        2       0   \n",
       "politics                1         1              0        1       0   \n",
       "society                 3         1              3        3       3   \n",
       "stock                   0         6              0        5       1   \n",
       "world                   1         2              1        2       1   \n",
       "\n",
       "               financial   it  politics  society  stock  world  \n",
       "bio & tech             0    4         1        3      2      1  \n",
       "business               3    0         2        0      0      0  \n",
       "culture & art          2    1         3       13      0      1  \n",
       "economy                3    3         2        2      1      2  \n",
       "estate                 0    1         1        3      1      0  \n",
       "financial            172    0         0        0      1      1  \n",
       "it                     0  165         0        1      1      0  \n",
       "politics               1    1       164        3      0      9  \n",
       "society                3    1         3      159      0      2  \n",
       "stock                  1    0         0        0    168      0  \n",
       "world                  0    2         3        1      0    168  "
      ]
     },
     "execution_count": 22,
     "metadata": {},
     "output_type": "execute_result"
    }
   ],
   "source": [
    "result_df = pd.DataFrame(confusion_matrix(y_test, y_pred) ,\n",
    "                         index = sorted(train_df['Section'].unique()),\n",
    "                         columns = sorted(train_df['Section'].unique()))\n",
    "\n",
    "result_df"
   ]
  },
  {
   "cell_type": "markdown",
   "metadata": {},
   "source": [
    "## 너무 적은 수의 기사를 culture & art로 분류한다."
   ]
  },
  {
   "cell_type": "code",
   "execution_count": 23,
   "metadata": {},
   "outputs": [
    {
     "data": {
      "text/plain": [
       "bio & tech       180\n",
       "business         198\n",
       "culture & art    159\n",
       "economy          187\n",
       "estate           182\n",
       "financial        185\n",
       "it               178\n",
       "politics         179\n",
       "society          185\n",
       "stock            174\n",
       "world            184\n",
       "dtype: int64"
      ]
     },
     "execution_count": 23,
     "metadata": {},
     "output_type": "execute_result"
    }
   ],
   "source": [
    "result_df.sum(axis = 0)"
   ]
  },
  {
   "cell_type": "markdown",
   "metadata": {},
   "source": [
    "<br> \n"
   ]
  },
  {
   "cell_type": "markdown",
   "metadata": {},
   "source": [
    "# 왜 그럴까?"
   ]
  },
  {
   "cell_type": "markdown",
   "metadata": {},
   "source": [
    "# 각 카테고리 별, 토큰 길이의 평균은?"
   ]
  },
  {
   "cell_type": "code",
   "execution_count": 43,
   "metadata": {},
   "outputs": [
    {
     "data": {
      "text/html": [
       "<div>\n",
       "<style scoped>\n",
       "    .dataframe tbody tr th:only-of-type {\n",
       "        vertical-align: middle;\n",
       "    }\n",
       "\n",
       "    .dataframe tbody tr th {\n",
       "        vertical-align: top;\n",
       "    }\n",
       "\n",
       "    .dataframe thead th {\n",
       "        text-align: right;\n",
       "    }\n",
       "</style>\n",
       "<table border=\"1\" class=\"dataframe\">\n",
       "  <thead>\n",
       "    <tr style=\"text-align: right;\">\n",
       "      <th></th>\n",
       "      <th>count</th>\n",
       "      <th>mean</th>\n",
       "      <th>std</th>\n",
       "      <th>min</th>\n",
       "      <th>25%</th>\n",
       "      <th>50%</th>\n",
       "      <th>75%</th>\n",
       "      <th>max</th>\n",
       "    </tr>\n",
       "    <tr>\n",
       "      <th>Section</th>\n",
       "      <th></th>\n",
       "      <th></th>\n",
       "      <th></th>\n",
       "      <th></th>\n",
       "      <th></th>\n",
       "      <th></th>\n",
       "      <th></th>\n",
       "      <th></th>\n",
       "    </tr>\n",
       "  </thead>\n",
       "  <tbody>\n",
       "    <tr>\n",
       "      <th>bio &amp; tech</th>\n",
       "      <td>1739.0</td>\n",
       "      <td>208.407706</td>\n",
       "      <td>137.070908</td>\n",
       "      <td>31.0</td>\n",
       "      <td>127.0</td>\n",
       "      <td>179.0</td>\n",
       "      <td>248.00</td>\n",
       "      <td>1946.0</td>\n",
       "    </tr>\n",
       "    <tr>\n",
       "      <th>business</th>\n",
       "      <td>4863.0</td>\n",
       "      <td>168.279457</td>\n",
       "      <td>111.049610</td>\n",
       "      <td>31.0</td>\n",
       "      <td>100.0</td>\n",
       "      <td>143.0</td>\n",
       "      <td>207.50</td>\n",
       "      <td>1744.0</td>\n",
       "    </tr>\n",
       "    <tr>\n",
       "      <th>culture &amp; art</th>\n",
       "      <td>4102.0</td>\n",
       "      <td>203.309118</td>\n",
       "      <td>212.222970</td>\n",
       "      <td>31.0</td>\n",
       "      <td>93.0</td>\n",
       "      <td>145.0</td>\n",
       "      <td>257.00</td>\n",
       "      <td>3734.0</td>\n",
       "    </tr>\n",
       "    <tr>\n",
       "      <th>economy</th>\n",
       "      <td>2608.0</td>\n",
       "      <td>180.457822</td>\n",
       "      <td>123.417534</td>\n",
       "      <td>31.0</td>\n",
       "      <td>89.0</td>\n",
       "      <td>149.5</td>\n",
       "      <td>241.25</td>\n",
       "      <td>1310.0</td>\n",
       "    </tr>\n",
       "    <tr>\n",
       "      <th>estate</th>\n",
       "      <td>3932.0</td>\n",
       "      <td>195.627416</td>\n",
       "      <td>120.098839</td>\n",
       "      <td>32.0</td>\n",
       "      <td>114.0</td>\n",
       "      <td>161.0</td>\n",
       "      <td>243.25</td>\n",
       "      <td>949.0</td>\n",
       "    </tr>\n",
       "    <tr>\n",
       "      <th>financial</th>\n",
       "      <td>746.0</td>\n",
       "      <td>146.214477</td>\n",
       "      <td>105.434707</td>\n",
       "      <td>32.0</td>\n",
       "      <td>77.0</td>\n",
       "      <td>114.0</td>\n",
       "      <td>178.75</td>\n",
       "      <td>978.0</td>\n",
       "    </tr>\n",
       "    <tr>\n",
       "      <th>it</th>\n",
       "      <td>1742.0</td>\n",
       "      <td>181.376579</td>\n",
       "      <td>122.433175</td>\n",
       "      <td>33.0</td>\n",
       "      <td>99.0</td>\n",
       "      <td>151.5</td>\n",
       "      <td>227.00</td>\n",
       "      <td>1133.0</td>\n",
       "    </tr>\n",
       "    <tr>\n",
       "      <th>politics</th>\n",
       "      <td>3775.0</td>\n",
       "      <td>203.313642</td>\n",
       "      <td>121.083304</td>\n",
       "      <td>32.0</td>\n",
       "      <td>115.5</td>\n",
       "      <td>171.0</td>\n",
       "      <td>265.00</td>\n",
       "      <td>1445.0</td>\n",
       "    </tr>\n",
       "    <tr>\n",
       "      <th>society</th>\n",
       "      <td>3356.0</td>\n",
       "      <td>163.016091</td>\n",
       "      <td>109.029483</td>\n",
       "      <td>31.0</td>\n",
       "      <td>89.0</td>\n",
       "      <td>133.0</td>\n",
       "      <td>208.00</td>\n",
       "      <td>1793.0</td>\n",
       "    </tr>\n",
       "    <tr>\n",
       "      <th>stock</th>\n",
       "      <td>2508.0</td>\n",
       "      <td>152.299841</td>\n",
       "      <td>76.001282</td>\n",
       "      <td>31.0</td>\n",
       "      <td>88.0</td>\n",
       "      <td>163.0</td>\n",
       "      <td>188.00</td>\n",
       "      <td>528.0</td>\n",
       "    </tr>\n",
       "    <tr>\n",
       "      <th>world</th>\n",
       "      <td>3763.0</td>\n",
       "      <td>211.175392</td>\n",
       "      <td>116.740483</td>\n",
       "      <td>31.0</td>\n",
       "      <td>131.0</td>\n",
       "      <td>186.0</td>\n",
       "      <td>263.00</td>\n",
       "      <td>1456.0</td>\n",
       "    </tr>\n",
       "  </tbody>\n",
       "</table>\n",
       "</div>"
      ],
      "text/plain": [
       "                count        mean         std   min    25%    50%     75%  \\\n",
       "Section                                                                     \n",
       "bio & tech     1739.0  208.407706  137.070908  31.0  127.0  179.0  248.00   \n",
       "business       4863.0  168.279457  111.049610  31.0  100.0  143.0  207.50   \n",
       "culture & art  4102.0  203.309118  212.222970  31.0   93.0  145.0  257.00   \n",
       "economy        2608.0  180.457822  123.417534  31.0   89.0  149.5  241.25   \n",
       "estate         3932.0  195.627416  120.098839  32.0  114.0  161.0  243.25   \n",
       "financial       746.0  146.214477  105.434707  32.0   77.0  114.0  178.75   \n",
       "it             1742.0  181.376579  122.433175  33.0   99.0  151.5  227.00   \n",
       "politics       3775.0  203.313642  121.083304  32.0  115.5  171.0  265.00   \n",
       "society        3356.0  163.016091  109.029483  31.0   89.0  133.0  208.00   \n",
       "stock          2508.0  152.299841   76.001282  31.0   88.0  163.0  188.00   \n",
       "world          3763.0  211.175392  116.740483  31.0  131.0  186.0  263.00   \n",
       "\n",
       "                  max  \n",
       "Section                \n",
       "bio & tech     1946.0  \n",
       "business       1744.0  \n",
       "culture & art  3734.0  \n",
       "economy        1310.0  \n",
       "estate          949.0  \n",
       "financial       978.0  \n",
       "it             1133.0  \n",
       "politics       1445.0  \n",
       "society        1793.0  \n",
       "stock           528.0  \n",
       "world          1456.0  "
      ]
     },
     "execution_count": 43,
     "metadata": {},
     "output_type": "execute_result"
    }
   ],
   "source": [
    "train_df.groupby('Section')['Num of Tokens'].describe()"
   ]
  },
  {
   "cell_type": "markdown",
   "metadata": {},
   "source": [
    "# 길이가 짧은 기사들은 하나로 몰아서 분류해버리는 경향이 있다\n"
   ]
  },
  {
   "cell_type": "code",
   "execution_count": 44,
   "metadata": {},
   "outputs": [],
   "source": [
    "from collections import OrderedDict\n",
    "\n",
    "section_ls = train_df['Section'].unique()\n",
    "\n",
    "store_dict = OrderedDict(\\\n",
    "                         {'Token의 수 n개 이상' : [],\n",
    "                          'Token의 수 n개 이하' : []})\n",
    "\n",
    "for section in section_ls:\n",
    "    store_dict[section] = []\n"
   ]
  },
  {
   "cell_type": "markdown",
   "metadata": {},
   "source": [
    "## token의 수 50이상 100 이하"
   ]
  },
  {
   "cell_type": "markdown",
   "metadata": {},
   "source": [
    "### 길이가 짧으면 증권, 사회 기사는 매우 잘 분류하지만, 정치, IT과학, 국제 기사는 잘 분류하지 못한다."
   ]
  },
  {
   "cell_type": "code",
   "execution_count": 45,
   "metadata": {},
   "outputs": [
    {
     "name": "stdout",
     "output_type": "stream",
     "text": [
      "stock 카테고리의 분류 정확도는 92.00% \n",
      "world 카테고리의 분류 정확도는 78.00% \n",
      "estate 카테고리의 분류 정확도는 85.00% \n",
      "business 카테고리의 분류 정확도는 83.00% \n",
      "politics 카테고리의 분류 정확도는 84.00% \n",
      "society 카테고리의 분류 정확도는 86.00% \n",
      "culture & art 카테고리의 분류 정확도는 84.00% \n",
      "it 카테고리의 분류 정확도는 94.00% \n",
      "bio & tech 카테고리의 분류 정확도는 81.25% \n",
      "economy 카테고리의 분류 정확도는 80.00% \n",
      "financial 카테고리의 분류 정확도는 94.37% \n"
     ]
    }
   ],
   "source": [
    "lower_limit = 50\n",
    "upper_limit = 100\n",
    "\n",
    "temp_df = test_df[test_df['Num of Tokens'] > lower_limit]\n",
    "temp_df = test_df[test_df['Num of Tokens'] < upper_limit]\n",
    "\n",
    "store_dict['Token의 수 n개 이상'].append(lower_limit)\n",
    "store_dict['Token의 수 n개 이하'].append(upper_limit)\n",
    "\n",
    "for section in section_ls:\n",
    "    temp_section_df = temp_df[temp_df['Section'] == section]\n",
    "\n",
    "    temp_token_ls = temp_section_df['Token'].tolist()[:100] #100개만\n",
    "    temp_tag_ls = temp_section_df['Section'].tolist()[:100]\n",
    "\n",
    "    temp_pred = clf.predict(nlp.infer_vectors_with_Doc2Vec(temp_token_ls))\n",
    "    \n",
    "    store_dict[section].append('%s %s'%(round(accuracy_score(temp_tag_ls, temp_pred) * 100, 2), '%'))\n",
    "    print('%s 카테고리의 분류 정확도는 %.2f%% '%(section, accuracy_score(temp_tag_ls, temp_pred) * 100))\n"
   ]
  },
  {
   "cell_type": "markdown",
   "metadata": {},
   "source": [
    "## token의 수 100개 이상, 300개 이하"
   ]
  },
  {
   "cell_type": "markdown",
   "metadata": {},
   "source": [
    "### 길이가 길어지면 경제, 사회 기사의 정확도는 떨어지지만, 반대로 부동산, 정치, IT과학 기사의 정확도가 급상승..."
   ]
  },
  {
   "cell_type": "code",
   "execution_count": 46,
   "metadata": {},
   "outputs": [
    {
     "name": "stdout",
     "output_type": "stream",
     "text": [
      "stock 카테고리의 분류 정확도는 95.00% \n",
      "world 카테고리의 분류 정확도는 89.00% \n",
      "estate 카테고리의 분류 정확도는 93.00% \n",
      "business 카테고리의 분류 정확도는 94.00% \n",
      "politics 카테고리의 분류 정확도는 86.00% \n",
      "society 카테고리의 분류 정확도는 90.00% \n",
      "culture & art 카테고리의 분류 정확도는 76.00% \n",
      "it 카테고리의 분류 정확도는 87.00% \n",
      "bio & tech 카테고리의 분류 정확도는 88.00% \n",
      "economy 카테고리의 분류 정확도는 84.00% \n",
      "financial 카테고리의 분류 정확도는 97.00% \n"
     ]
    }
   ],
   "source": [
    "lower_limit = 100\n",
    "upper_limit = 300\n",
    "\n",
    "temp_df = test_df[test_df['Num of Tokens'] > lower_limit]\n",
    "temp_df = test_df[test_df['Num of Tokens'] < upper_limit]\n",
    "\n",
    "store_dict['Token의 수 n개 이상'].append(lower_limit)\n",
    "store_dict['Token의 수 n개 이하'].append(upper_limit)\n",
    "\n",
    "for section in section_ls:\n",
    "    temp_section_df = temp_df[temp_df['Section'] == section]\n",
    "\n",
    "    temp_token_ls = temp_section_df['Token'].tolist()[:100] #100개만\n",
    "    temp_tag_ls = temp_section_df['Section'].tolist()[:100]\n",
    "\n",
    "    temp_pred = clf.predict(nlp.infer_vectors_with_Doc2Vec(temp_token_ls))\n",
    "    \n",
    "    store_dict[section].append('%s %s'%(round(accuracy_score(temp_tag_ls, temp_pred) * 100, 2), '%'))\n",
    "    print('%s 카테고리의 분류 정확도는 %.2f%% '%(section, accuracy_score(temp_tag_ls, temp_pred) * 100))\n"
   ]
  },
  {
   "cell_type": "markdown",
   "metadata": {},
   "source": [
    "## token의 수 300개 이상, 500 이하"
   ]
  },
  {
   "cell_type": "code",
   "execution_count": 47,
   "metadata": {},
   "outputs": [
    {
     "name": "stdout",
     "output_type": "stream",
     "text": [
      "stock 카테고리의 분류 정확도는 94.00% \n",
      "world 카테고리의 분류 정확도는 89.00% \n",
      "estate 카테고리의 분류 정확도는 95.00% \n",
      "business 카테고리의 분류 정확도는 92.00% \n",
      "politics 카테고리의 분류 정확도는 92.00% \n",
      "society 카테고리의 분류 정확도는 90.00% \n",
      "culture & art 카테고리의 분류 정확도는 71.00% \n",
      "it 카테고리의 분류 정확도는 91.00% \n",
      "bio & tech 카테고리의 분류 정확도는 87.00% \n",
      "economy 카테고리의 분류 정확도는 89.00% \n",
      "financial 카테고리의 분류 정확도는 98.00% \n"
     ]
    }
   ],
   "source": [
    "lower_limit = 300\n",
    "upper_limit = 500\n",
    "\n",
    "temp_df = test_df[test_df['Num of Tokens'] > lower_limit]\n",
    "temp_df = test_df[test_df['Num of Tokens'] < upper_limit]\n",
    "\n",
    "store_dict['Token의 수 n개 이상'].append(lower_limit)\n",
    "store_dict['Token의 수 n개 이하'].append(upper_limit)\n",
    "\n",
    "for section in section_ls:\n",
    "    temp_section_df = temp_df[temp_df['Section'] == section]\n",
    "\n",
    "    temp_token_ls = temp_section_df['Token'].tolist()[:100] #100개만\n",
    "    temp_tag_ls = temp_section_df['Section'].tolist()[:100]\n",
    "\n",
    "    temp_pred = clf.predict(nlp.infer_vectors_with_Doc2Vec(temp_token_ls))\n",
    "    \n",
    "    store_dict[section].append('%s %s'%(round(accuracy_score(temp_tag_ls, temp_pred) * 100, 2), '%'))\n",
    "    print('%s 카테고리의 분류 정확도는 %.2f%% '%(section, accuracy_score(temp_tag_ls, temp_pred) * 100))\n"
   ]
  },
  {
   "cell_type": "markdown",
   "metadata": {},
   "source": [
    "## token의 수 500개 초과"
   ]
  },
  {
   "cell_type": "code",
   "execution_count": 48,
   "metadata": {},
   "outputs": [
    {
     "name": "stdout",
     "output_type": "stream",
     "text": [
      "stock 카테고리의 분류 정확도는 92.00% \n",
      "world 카테고리의 분류 정확도는 91.00% \n",
      "estate 카테고리의 분류 정확도는 91.00% \n",
      "business 카테고리의 분류 정확도는 91.00% \n",
      "politics 카테고리의 분류 정확도는 89.00% \n",
      "society 카테고리의 분류 정확도는 91.00% \n",
      "culture & art 카테고리의 분류 정확도는 72.00% \n",
      "it 카테고리의 분류 정확도는 90.00% \n",
      "bio & tech 카테고리의 분류 정확도는 88.00% \n",
      "economy 카테고리의 분류 정확도는 88.00% \n",
      "financial 카테고리의 분류 정확도는 97.00% \n"
     ]
    }
   ],
   "source": [
    "lower_limit = 500\n",
    "upper_limit = 10000\n",
    "\n",
    "temp_df = test_df[test_df['Num of Tokens'] > lower_limit]\n",
    "temp_df = test_df[test_df['Num of Tokens'] < upper_limit]\n",
    "\n",
    "store_dict['Token의 수 n개 이상'].append(lower_limit)\n",
    "store_dict['Token의 수 n개 이하'].append(upper_limit)\n",
    "\n",
    "for section in section_ls:\n",
    "    temp_section_df = temp_df[temp_df['Section'] == section]\n",
    "\n",
    "    temp_token_ls = temp_section_df['Token'].tolist()[:100] #100개만\n",
    "    temp_tag_ls = temp_section_df['Section'].tolist()[:100]\n",
    "\n",
    "    temp_pred = clf.predict(nlp.infer_vectors_with_Doc2Vec(temp_token_ls))\n",
    "    \n",
    "    store_dict[section].append('%s %s'%(round(accuracy_score(temp_tag_ls, temp_pred) * 100, 2), '%'))\n",
    "    print('%s 카테고리의 분류 정확도는 %.2f%% '%(section, accuracy_score(temp_tag_ls, temp_pred) * 100))\n"
   ]
  },
  {
   "cell_type": "code",
   "execution_count": 49,
   "metadata": {},
   "outputs": [
    {
     "data": {
      "text/html": [
       "<div>\n",
       "<style scoped>\n",
       "    .dataframe tbody tr th:only-of-type {\n",
       "        vertical-align: middle;\n",
       "    }\n",
       "\n",
       "    .dataframe tbody tr th {\n",
       "        vertical-align: top;\n",
       "    }\n",
       "\n",
       "    .dataframe thead th {\n",
       "        text-align: right;\n",
       "    }\n",
       "</style>\n",
       "<table border=\"1\" class=\"dataframe\">\n",
       "  <thead>\n",
       "    <tr style=\"text-align: right;\">\n",
       "      <th></th>\n",
       "      <th>Token의 수 n개 이하</th>\n",
       "      <th>Token의 수 n개 이상</th>\n",
       "      <th>stock</th>\n",
       "      <th>world</th>\n",
       "      <th>estate</th>\n",
       "      <th>business</th>\n",
       "      <th>politics</th>\n",
       "      <th>society</th>\n",
       "      <th>culture &amp; art</th>\n",
       "      <th>it</th>\n",
       "      <th>bio &amp; tech</th>\n",
       "      <th>economy</th>\n",
       "      <th>financial</th>\n",
       "    </tr>\n",
       "  </thead>\n",
       "  <tbody>\n",
       "    <tr>\n",
       "      <th>0</th>\n",
       "      <td>100</td>\n",
       "      <td>50</td>\n",
       "      <td>92.0 %</td>\n",
       "      <td>78.0 %</td>\n",
       "      <td>85.0 %</td>\n",
       "      <td>83.0 %</td>\n",
       "      <td>84.0 %</td>\n",
       "      <td>86.0 %</td>\n",
       "      <td>84.0 %</td>\n",
       "      <td>94.0 %</td>\n",
       "      <td>81.25 %</td>\n",
       "      <td>80.0 %</td>\n",
       "      <td>94.37 %</td>\n",
       "    </tr>\n",
       "    <tr>\n",
       "      <th>1</th>\n",
       "      <td>300</td>\n",
       "      <td>100</td>\n",
       "      <td>95.0 %</td>\n",
       "      <td>89.0 %</td>\n",
       "      <td>93.0 %</td>\n",
       "      <td>94.0 %</td>\n",
       "      <td>86.0 %</td>\n",
       "      <td>90.0 %</td>\n",
       "      <td>76.0 %</td>\n",
       "      <td>87.0 %</td>\n",
       "      <td>88.0 %</td>\n",
       "      <td>84.0 %</td>\n",
       "      <td>97.0 %</td>\n",
       "    </tr>\n",
       "    <tr>\n",
       "      <th>2</th>\n",
       "      <td>500</td>\n",
       "      <td>300</td>\n",
       "      <td>94.0 %</td>\n",
       "      <td>89.0 %</td>\n",
       "      <td>95.0 %</td>\n",
       "      <td>92.0 %</td>\n",
       "      <td>92.0 %</td>\n",
       "      <td>90.0 %</td>\n",
       "      <td>71.0 %</td>\n",
       "      <td>91.0 %</td>\n",
       "      <td>87.0 %</td>\n",
       "      <td>89.0 %</td>\n",
       "      <td>98.0 %</td>\n",
       "    </tr>\n",
       "    <tr>\n",
       "      <th>3</th>\n",
       "      <td>10000</td>\n",
       "      <td>500</td>\n",
       "      <td>92.0 %</td>\n",
       "      <td>91.0 %</td>\n",
       "      <td>91.0 %</td>\n",
       "      <td>91.0 %</td>\n",
       "      <td>89.0 %</td>\n",
       "      <td>91.0 %</td>\n",
       "      <td>72.0 %</td>\n",
       "      <td>90.0 %</td>\n",
       "      <td>88.0 %</td>\n",
       "      <td>88.0 %</td>\n",
       "      <td>97.0 %</td>\n",
       "    </tr>\n",
       "  </tbody>\n",
       "</table>\n",
       "</div>"
      ],
      "text/plain": [
       "   Token의 수 n개 이하  Token의 수 n개 이상   stock   world  estate business politics  \\\n",
       "0             100              50  92.0 %  78.0 %  85.0 %   83.0 %   84.0 %   \n",
       "1             300             100  95.0 %  89.0 %  93.0 %   94.0 %   86.0 %   \n",
       "2             500             300  94.0 %  89.0 %  95.0 %   92.0 %   92.0 %   \n",
       "3           10000             500  92.0 %  91.0 %  91.0 %   91.0 %   89.0 %   \n",
       "\n",
       "  society culture & art      it bio & tech economy financial  \n",
       "0  86.0 %        84.0 %  94.0 %    81.25 %  80.0 %   94.37 %  \n",
       "1  90.0 %        76.0 %  87.0 %     88.0 %  84.0 %    97.0 %  \n",
       "2  90.0 %        71.0 %  91.0 %     87.0 %  89.0 %    98.0 %  \n",
       "3  91.0 %        72.0 %  90.0 %     88.0 %  88.0 %    97.0 %  "
      ]
     },
     "execution_count": 49,
     "metadata": {},
     "output_type": "execute_result"
    }
   ],
   "source": [
    "pd.DataFrame(store_dict)"
   ]
  },
  {
   "cell_type": "markdown",
   "metadata": {},
   "source": [
    "　"
   ]
  },
  {
   "cell_type": "markdown",
   "metadata": {},
   "source": [
    "　"
   ]
  },
  {
   "cell_type": "markdown",
   "metadata": {},
   "source": [
    "　"
   ]
  },
  {
   "cell_type": "markdown",
   "metadata": {},
   "source": [
    "　"
   ]
  },
  {
   "cell_type": "markdown",
   "metadata": {},
   "source": [
    "　"
   ]
  },
  {
   "cell_type": "markdown",
   "metadata": {},
   "source": [
    "　"
   ]
  },
  {
   "cell_type": "markdown",
   "metadata": {},
   "source": [
    "　"
   ]
  },
  {
   "cell_type": "markdown",
   "metadata": {},
   "source": [
    "# **Decision Tree**"
   ]
  },
  {
   "cell_type": "markdown",
   "metadata": {},
   "source": [
    "Decision Tree 모델은 feature들이 각각 의미있는 변수들이면서, 독립적으로 사용될 수 있을 때 유용한 방법이다.\n",
    "\n",
    "\n",
    "각 변수별로 적절한 기준선을 찾아 공간을 나누기 때문.\n",
    "\n",
    "따라서 Doc2Vec과 같이 좌표평면상에서 벡터의 위치가 아무런 의미가 없는 경우, 학습 효과가 현저하게 떨어진다."
   ]
  },
  {
   "cell_type": "code",
   "execution_count": 58,
   "metadata": {},
   "outputs": [],
   "source": [
    "from sklearn.metrics import accuracy_score\n",
    "from sklearn.tree import DecisionTreeClassifier"
   ]
  },
  {
   "cell_type": "code",
   "execution_count": 59,
   "metadata": {},
   "outputs": [
    {
     "name": "stdout",
     "output_type": "stream",
     "text": [
      "Accuracy :  0.8206931190356604\n"
     ]
    }
   ],
   "source": [
    "clf = DecisionTreeClassifier()\n",
    "\n",
    "clf.fit(X_train, y_train)\n",
    "y_pred = clf.predict(X_test)\n",
    "\n",
    "print('Accuracy : ', accuracy_score(y_pred, y_test))"
   ]
  },
  {
   "cell_type": "markdown",
   "metadata": {},
   "source": [
    "<br>\n",
    "\n"
   ]
  },
  {
   "cell_type": "markdown",
   "metadata": {},
   "source": [
    "# **RandomForestClassifier**"
   ]
  },
  {
   "cell_type": "code",
   "execution_count": 60,
   "metadata": {},
   "outputs": [],
   "source": [
    "from sklearn.ensemble import RandomForestClassifier"
   ]
  },
  {
   "cell_type": "code",
   "execution_count": 61,
   "metadata": {},
   "outputs": [
    {
     "name": "stdout",
     "output_type": "stream",
     "text": [
      "Accuracy :  0.8955298844801607\n"
     ]
    }
   ],
   "source": [
    "clf = RandomForestClassifier(n_estimators=100,  n_jobs = -1)\n",
    "clf.fit(X_train, y_train)\n",
    "y_pred = clf.predict(X_test)\n",
    "    \n",
    "print('Accuracy : ', accuracy_score(y_pred, y_test))"
   ]
  },
  {
   "cell_type": "markdown",
   "metadata": {},
   "source": [
    "<br>\n",
    "\n"
   ]
  },
  {
   "cell_type": "markdown",
   "metadata": {},
   "source": [
    "# **Neural Net**"
   ]
  },
  {
   "cell_type": "code",
   "execution_count": 62,
   "metadata": {},
   "outputs": [],
   "source": [
    "from sklearn.metrics import confusion_matrix\n",
    "import tensorflow as tf"
   ]
  },
  {
   "cell_type": "markdown",
   "metadata": {},
   "source": [
    "## **Data Preprocessing**"
   ]
  },
  {
   "cell_type": "code",
   "execution_count": 63,
   "metadata": {},
   "outputs": [],
   "source": [
    "X_train_nn = np.array(X_train).astype('float32')\n",
    "y_train_nn = pd.get_dummies(y_train).values.astype('float32')\n",
    "\n",
    "\n",
    "X_test_nn = np.array(X_test).astype('float32')\n",
    "y_test_nn = pd.get_dummies(y_test).values.astype('float32')"
   ]
  },
  {
   "cell_type": "code",
   "execution_count": 64,
   "metadata": {},
   "outputs": [
    {
     "name": "stdout",
     "output_type": "stream",
     "text": [
      "(33000, 100) (33000, 11) (1991, 100) (1991, 11)\n"
     ]
    }
   ],
   "source": [
    "print(X_train_nn.shape, y_train_nn.shape, X_test_nn.shape, y_test_nn.shape)"
   ]
  },
  {
   "cell_type": "markdown",
   "metadata": {},
   "source": [
    "## **Build Layers**"
   ]
  },
  {
   "cell_type": "code",
   "execution_count": 67,
   "metadata": {},
   "outputs": [],
   "source": [
    "n_class = y_test_nn.shape[1]"
   ]
  },
  {
   "cell_type": "code",
   "execution_count": 68,
   "metadata": {},
   "outputs": [],
   "source": [
    "# reset graphs\n",
    "tf.reset_default_graph() \n",
    "\n",
    "# mini-batches\n",
    "batch_size = X_train_nn.shape[0] // 5\n",
    "dataset = tf.data.Dataset.from_tensor_slices((X_train_nn, y_train_nn))\n",
    "dataset = dataset.batch(batch_size)\n",
    "\n",
    "# building placeholder\n",
    "X = tf.placeholder(tf.float32, shape = [None, nlp.Doc2Vec_model.vector_size])\n",
    "Y = tf.placeholder(tf.float32, shape = [None, n_class])\n",
    "keep_prob = tf.placeholder(tf.float32)\n",
    "\n",
    "# building layers\n",
    "n_neuron = 100\n",
    "\n",
    "W1 = tf.get_variable('W1', shape = ([nlp.Doc2Vec_model.vector_size, n_neuron]), initializer = tf.contrib.layers.xavier_initializer())\n",
    "W2 = tf.get_variable('W2', shape = ([n_neuron, n_neuron]), initializer = tf.contrib.layers.xavier_initializer())\n",
    "W3 = tf.get_variable('W3', shape = ([n_neuron, n_neuron]), initializer = tf.contrib.layers.xavier_initializer())\n",
    "W4 = tf.get_variable('W4', shape = ([n_neuron, n_neuron]), initializer = tf.contrib.layers.xavier_initializer())\n",
    "W5 = tf.get_variable('W5', shape = ([n_neuron, n_class]), initializer = tf.contrib.layers.xavier_initializer())\n",
    "\n",
    "b1 = tf.Variable(tf.random_normal([n_neuron]))\n",
    "b2 = tf.Variable(tf.random_normal([n_neuron]))\n",
    "b3 = tf.Variable(tf.random_normal([n_neuron]))\n",
    "b4 = tf.Variable(tf.random_normal([n_neuron]))\n",
    "b5 = tf.Variable(tf.random_normal([n_class]))\n",
    "\n",
    "L1 = tf.nn.relu(tf.matmul(X,W1) + b1)\n",
    "L1 = tf.nn.dropout(L1, keep_prob = keep_prob)\n",
    "\n",
    "L2 = tf.nn.relu(tf.matmul(L1,W2) + b2)\n",
    "L2 = tf.nn.dropout(L2, keep_prob = keep_prob)\n",
    "\n",
    "L3 = tf.nn.relu(tf.matmul(L2,W3) + b3)\n",
    "L3 = tf.nn.dropout(L3, keep_prob = keep_prob)\n",
    "\n",
    "L4 = tf.nn.relu(tf.matmul(L3,W4) + b4)\n",
    "L4 = tf.nn.dropout(L4, keep_prob = keep_prob)\n",
    "\n",
    "logit = tf.matmul(L4,W5) + b5\n",
    "hypothesis = tf.nn.softmax(tf.matmul(L4,W5) + b5)\n",
    "\n",
    "\n",
    "# cost : cross - entropy cost \n",
    "lamb = 0.0001\n",
    "cost = tf.reduce_mean(tf.nn.softmax_cross_entropy_with_logits_v2(logits = logit, labels = Y)) + lamb * tf.reduce_sum(tf.square(W5))\n",
    "\n",
    "# optimize\n",
    "learning_rate = 0.0001\n",
    "train = tf.train.AdamOptimizer(learning_rate = learning_rate).minimize(cost)\n",
    "\n",
    "# prediction\n",
    "prediction = tf.argmax(hypothesis,1)\n",
    "accuracy = tf.reduce_mean(tf.cast(tf.equal(tf.argmax(Y,1), prediction), dtype= tf.float32))\n",
    "\n",
    "\n",
    "\n",
    "# restore results\n",
    "train_cost_list = []\n",
    "train_acc_list = []\n",
    "\n",
    "test_cost_list = []\n",
    "test_acc_list = []\n"
   ]
  },
  {
   "cell_type": "markdown",
   "metadata": {},
   "source": [
    "# **Run**"
   ]
  },
  {
   "cell_type": "markdown",
   "metadata": {},
   "source": [
    "### **mini-batch**"
   ]
  },
  {
   "cell_type": "code",
   "execution_count": null,
   "metadata": {},
   "outputs": [],
   "source": [
    "# train_dict = {X: X_train, Y: y_train}\n",
    "test_dict = {X: X_test_nn, Y: y_test_nn, keep_prob : 1}\n",
    "\n",
    "training_epochs = 1500\n",
    "\n",
    "iterator = dataset.make_initializable_iterator()\n",
    "f, l = iterator.get_next()\n",
    "\n",
    "# launch graph\n",
    "with tf.Session() as sess:\n",
    "    sess.run(tf.global_variables_initializer())    \n",
    "    \n",
    "    \n",
    "    for epoch in range(training_epochs):\n",
    "        # iterator initialize\n",
    "        sess.run(iterator.initializer)\n",
    "        avg_cost = 0\n",
    "\n",
    "        while True:\n",
    "            # mini-batch\n",
    "            try:\n",
    "                batch_x,  batch_y = sess.run([f, l])\n",
    "                feed_dict = {X : batch_x, Y: batch_y, keep_prob : 0.5}\n",
    "                \n",
    "                c, _ = sess.run([cost, train], feed_dict = feed_dict)\n",
    "                avg_cost += c\n",
    "            \n",
    "            except tf.errors.OutOfRangeError:\n",
    "                    break\n",
    "        \n",
    "        acc, _, test_cost = sess.run([accuracy, prediction, cost], feed_dict = test_dict)\n",
    "        \n",
    "        train_cost_list.append(avg_cost)\n",
    "        test_cost_list.append(test_cost)\n",
    "            \n",
    "        if (epoch+1) % (100) == 0 :\n",
    "            \n",
    "            test_acc_list.append(acc)\n",
    "            \n",
    "            print('Epoch : %s'%(epoch+1), 'cost :',test_cost)\n",
    "            print('Accuracy :', acc)\n",
    "            \n",
    "        \n",
    "    \n",
    "    acc, y_pred, test_cost = sess.run([accuracy, prediction, cost], feed_dict = test_dict)\n",
    "    "
   ]
  },
  {
   "cell_type": "code",
   "execution_count": null,
   "metadata": {},
   "outputs": [],
   "source": [
    "plt.figure(figsize = (12,6))\n",
    "plt.plot(train_cost_list, label = 'train_cost')\n",
    "plt.plot(test_cost_list, label = 'test_cost')\n",
    "plt.legend(loc = 'best')"
   ]
  },
  {
   "cell_type": "markdown",
   "metadata": {},
   "source": [
    " "
   ]
  },
  {
   "cell_type": "markdown",
   "metadata": {},
   "source": [
    " "
   ]
  },
  {
   "cell_type": "markdown",
   "metadata": {},
   "source": [
    " "
   ]
  },
  {
   "cell_type": "markdown",
   "metadata": {},
   "source": [
    " "
   ]
  },
  {
   "cell_type": "markdown",
   "metadata": {},
   "source": [
    " "
   ]
  },
  {
   "cell_type": "markdown",
   "metadata": {},
   "source": [
    " "
   ]
  },
  {
   "cell_type": "markdown",
   "metadata": {},
   "source": [
    " "
   ]
  },
  {
   "cell_type": "markdown",
   "metadata": {},
   "source": [
    " "
   ]
  },
  {
   "cell_type": "markdown",
   "metadata": {},
   "source": [
    " "
   ]
  },
  {
   "cell_type": "markdown",
   "metadata": {},
   "source": [
    " "
   ]
  },
  {
   "cell_type": "markdown",
   "metadata": {},
   "source": [
    " "
   ]
  }
 ],
 "metadata": {
  "kernelspec": {
   "display_name": "fininsight_python_3.5",
   "language": "python",
   "name": "fininsight_python3.5"
  },
  "language_info": {
   "codemirror_mode": {
    "name": "ipython",
    "version": 3
   },
   "file_extension": ".py",
   "mimetype": "text/x-python",
   "name": "python",
   "nbconvert_exporter": "python",
   "pygments_lexer": "ipython3",
   "version": "3.5.5"
  }
 },
 "nbformat": 4,
 "nbformat_minor": 2
}
