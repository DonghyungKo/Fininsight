{
 "cells": [
  {
   "cell_type": "code",
   "execution_count": 1,
   "metadata": {},
   "outputs": [],
   "source": [
    "from ko_crawler import *\n",
    "from ko_text import *"
   ]
  },
  {
   "cell_type": "code",
   "execution_count": 2,
   "metadata": {},
   "outputs": [],
   "source": [
    "from PIL import Image"
   ]
  },
  {
   "cell_type": "markdown",
   "metadata": {},
   "source": [
    "## **매일경제 뉴스 크롤링**"
   ]
  },
  {
   "cell_type": "markdown",
   "metadata": {},
   "source": [
    "매일경제 뉴스 홈페이지의 url 구조를 살펴보면, 섹션(ex: 경제, 정치)과 페이지에 대한 파라미터를 인자로 받는다.\n",
    "\n",
    "http://news.mk.co.kr/newsList.php?sc=30000016&page=1\n",
    " - 30000016 : 경제\n",
    " - page = 1페이지 (0부터 시작)"
   ]
  },
  {
   "cell_type": "markdown",
   "metadata": {},
   "source": [
    "위 링크로 접속하면 아래와 같은 화면이 나옵니다."
   ]
  },
  {
   "cell_type": "markdown",
   "metadata": {},
   "source": [
    "<img width=1000 src = 2.jpg>"
   ]
  },
  {
   "cell_type": "markdown",
   "metadata": {},
   "source": [
    "<br>\n",
    "\n",
    "\n",
    "개별 기사의 제목을 클릭하여 링크로 접속하면 아래와 같은 화면이 나옵니다."
   ]
  },
  {
   "cell_type": "code",
   "execution_count": null,
   "metadata": {},
   "outputs": [],
   "source": []
  }
 ],
 "metadata": {
  "kernelspec": {
   "display_name": "fininsight_python_3.5",
   "language": "python",
   "name": "fininsight_python3.5"
  },
  "language_info": {
   "codemirror_mode": {
    "name": "ipython",
    "version": 3
   },
   "file_extension": ".py",
   "mimetype": "text/x-python",
   "name": "python",
   "nbconvert_exporter": "python",
   "pygments_lexer": "ipython3",
   "version": "3.5.5"
  }
 },
 "nbformat": 4,
 "nbformat_minor": 2
}
